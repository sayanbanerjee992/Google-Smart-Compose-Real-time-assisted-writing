{
 "cells": [
  {
   "cell_type": "markdown",
   "metadata": {
    "id": "CJMxf4z3fgDz"
   },
   "source": [
    "# Gmail Smart Compose: Real-Time Assisted Writing"
   ]
  },
  {
   "cell_type": "markdown",
   "metadata": {
    "id": "Vh-sNQHQfgD3"
   },
   "source": [
    "### Import Libraries"
   ]
  },
  {
   "cell_type": "code",
   "execution_count": 1,
   "metadata": {
    "id": "rCh-gCJ55eGJ"
   },
   "outputs": [],
   "source": [
    "import pandas as pd\n",
    "import numpy as np\n",
    "import matplotlib.pyplot as plt\n",
    "import seaborn as sns\n",
    "\n",
    "import os\n",
    "import email\n",
    "import re\n",
    "import warnings\n",
    "warnings.filterwarnings('ignore')\n",
    "\n",
    "import tensorflow as tf\n",
    "from tensorflow.keras.layers import Embedding, LSTM, Dense\n",
    "from tensorflow.keras.callbacks import*\n",
    "\n",
    "import os\n",
    "import datetime\n",
    "from nltk.translate.bleu_score import sentence_bleu\n",
    "import nltk.translate.bleu_score as bleu\n",
    "import matplotlib.pyplot as plt\n",
    "import matplotlib.ticker as ticker\n",
    "from tensorflow.keras.layers import *\n",
    "from tensorflow import keras \n",
    "\n",
    "from sklearn.model_selection import train_test_split\n",
    "from tensorflow.keras.preprocessing.text import Tokenizer\n",
    "from tensorflow.keras.preprocessing.sequence import pad_sequences\n",
    "from tensorflow.keras.utils import to_categorical\n",
    "\n",
    "import nltk\n",
    "from tensorflow.keras.backend import clear_session\n",
    "from prettytable import PrettyTable\n",
    "\n",
    "np.random.seed(42)\n",
    "import pickle\n",
    "\n",
    "pd.set_option('display.max_colwidth', None)"
   ]
  },
  {
   "cell_type": "code",
   "execution_count": null,
   "metadata": {
    "id": "BPlKN_Z35eGN"
   },
   "outputs": [],
   "source": [
    "gpus = tf.config.experimental.list_physical_devices('GPU')\n",
    "tf.config.experimental.set_memory_growth(gpus[0], True)"
   ]
  },
  {
   "cell_type": "code",
   "execution_count": null,
   "metadata": {
    "id": "GjvhI5RH5eGN"
   },
   "outputs": [],
   "source": [
    "#Read the dataset\n",
    "\n",
    "df1 = pd.read_csv('final_dataset.csv')"
   ]
  },
  {
   "cell_type": "code",
   "execution_count": null,
   "metadata": {
    "id": "sVJ6b3HC5eGO",
    "outputId": "d1c5e832-656e-4427-f288-88421f2c1549"
   },
   "outputs": [
    {
     "data": {
      "text/plain": [
       "(3093422, 1)"
      ]
     },
     "execution_count": 4,
     "metadata": {},
     "output_type": "execute_result"
    }
   ],
   "source": [
    "df1.shape"
   ]
  },
  {
   "cell_type": "code",
   "execution_count": null,
   "metadata": {
    "id": "jgLMV0Qm5eGP",
    "outputId": "33f8df64-231f-417c-acba-b84bc97eefaa"
   },
   "outputs": [
    {
     "data": {
      "text/html": [
       "<div>\n",
       "<style scoped>\n",
       "    .dataframe tbody tr th:only-of-type {\n",
       "        vertical-align: middle;\n",
       "    }\n",
       "\n",
       "    .dataframe tbody tr th {\n",
       "        vertical-align: top;\n",
       "    }\n",
       "\n",
       "    .dataframe thead th {\n",
       "        text-align: right;\n",
       "    }\n",
       "</style>\n",
       "<table border=\"1\" class=\"dataframe\">\n",
       "  <thead>\n",
       "    <tr style=\"text-align: right;\">\n",
       "      <th></th>\n",
       "      <th>body</th>\n",
       "    </tr>\n",
       "  </thead>\n",
       "  <tbody>\n",
       "    <tr>\n",
       "      <th>0</th>\n",
       "      <td>Dave, Here are the names of the west desk members by category.</td>\n",
       "    </tr>\n",
       "    <tr>\n",
       "      <th>1</th>\n",
       "      <td>The origination side is very sparse.</td>\n",
       "    </tr>\n",
       "    <tr>\n",
       "      <th>2</th>\n",
       "      <td>Phillip</td>\n",
       "    </tr>\n",
       "    <tr>\n",
       "      <th>3</th>\n",
       "      <td>Paula, million is fine Phillip</td>\n",
       "    </tr>\n",
       "    <tr>\n",
       "      <th>4</th>\n",
       "      <td>Forwarded by Phillip K Allen HOU ECT on PM Enron North America Corp. From Airam Arteaga PM To Phillip K Thomas A Scott John Grant Ted Vladimir Frank cc Rita Ina Laura Kimberly Araceli Kimberly Subject Var, Reporting and Resources Meeting Please plan to attend the below Meeting Topic Var, Reporting and Resources Meeting Date Wednesday, October th Time Location EB C If you have any questions conflicts, please feel free to call me.</td>\n",
       "    </tr>\n",
       "  </tbody>\n",
       "</table>\n",
       "</div>"
      ],
      "text/plain": [
       "                                                                                                                                                                                                                                                                                                                                                                                                                                               body\n",
       "0                                                                                                                                                                                                                                                                                                                                                                                    Dave, Here are the names of the west desk members by category.\n",
       "1                                                                                                                                                                                                                                                                                                                                                                                                              The origination side is very sparse.\n",
       "2                                                                                                                                                                                                                                                                                                                                                                                                                                           Phillip\n",
       "3                                                                                                                                                                                                                                                                                                                                                                                                                    Paula, million is fine Phillip\n",
       "4  Forwarded by Phillip K Allen HOU ECT on PM Enron North America Corp. From Airam Arteaga PM To Phillip K Thomas A Scott John Grant Ted Vladimir Frank cc Rita Ina Laura Kimberly Araceli Kimberly Subject Var, Reporting and Resources Meeting Please plan to attend the below Meeting Topic Var, Reporting and Resources Meeting Date Wednesday, October th Time Location EB C If you have any questions conflicts, please feel free to call me."
      ]
     },
     "execution_count": 5,
     "metadata": {},
     "output_type": "execute_result"
    }
   ],
   "source": [
    "df1.head()"
   ]
  },
  {
   "cell_type": "code",
   "execution_count": null,
   "metadata": {
    "id": "SLGhqGCo5eGP",
    "outputId": "9e3ddb6f-5c06-4036-b2f4-a5128bfdbf39"
   },
   "outputs": [
    {
     "data": {
      "text/plain": [
       "(50000, 1)"
      ]
     },
     "execution_count": 6,
     "metadata": {},
     "output_type": "execute_result"
    }
   ],
   "source": [
    "#I am randomly picked 50000 values, because of memory issue\n",
    "\n",
    "df= df1.sample(n = 50000)\n",
    "\n",
    "df.shape"
   ]
  },
  {
   "cell_type": "code",
   "execution_count": null,
   "metadata": {
    "id": "ZGopHA0y5eGQ",
    "outputId": "ec937e83-314a-4cae-c9a1-8882315b6510"
   },
   "outputs": [
    {
     "data": {
      "text/html": [
       "<div>\n",
       "<style scoped>\n",
       "    .dataframe tbody tr th:only-of-type {\n",
       "        vertical-align: middle;\n",
       "    }\n",
       "\n",
       "    .dataframe tbody tr th {\n",
       "        vertical-align: top;\n",
       "    }\n",
       "\n",
       "    .dataframe thead th {\n",
       "        text-align: right;\n",
       "    }\n",
       "</style>\n",
       "<table border=\"1\" class=\"dataframe\">\n",
       "  <thead>\n",
       "    <tr style=\"text-align: right;\">\n",
       "      <th></th>\n",
       "      <th>body</th>\n",
       "    </tr>\n",
       "  </thead>\n",
       "  <tbody>\n",
       "    <tr>\n",
       "      <th>2026669</th>\n",
       "      <td>Your input i.e., a Self assessment, if you are a participant in this program, Manager assessment, Direct Report assessment, or Colleague Peer assessment will be combined with the input of others and used by the program participant to develop an action plan to improve his her management styles and practices.</td>\n",
       "    </tr>\n",
       "    <tr>\n",
       "      <th>985088</th>\n",
       "      <td>I also am including a draft of an announcement to Omaha and Houston employees regarding the meetings you have scheduled on the th and th, respectively.</td>\n",
       "    </tr>\n",
       "    <tr>\n",
       "      <th>731740</th>\n",
       "      <td>Tim's e mail address is Let me know if I can get you any specific information and I'll do my best!</td>\n",
       "    </tr>\n",
       "    <tr>\n",
       "      <th>2201491</th>\n",
       "      <td>BGE defines the Scheduling Coordinator as \"An entity recognized the the PJM OI and qualified to act on behalf of the Electricity Supplier in taking such actions with PJM as are necessary in order for Electricity Supplier's obligations as defined in this Tariff to be met, including the submission of energy schedules to the PJM OI.</td>\n",
       "    </tr>\n",
       "    <tr>\n",
       "      <th>2621496</th>\n",
       "      <td>This e mail and any attachments hereto are not intended to be an offer or an acceptance and do not create or evidence a binding and enforceable contract between Enron Corp. or any of its affiliates and the intended recipient or any other party, and may not be relied on by anyone as the basis of a contract by estoppel or otherwise.</td>\n",
       "    </tr>\n",
       "  </tbody>\n",
       "</table>\n",
       "</div>"
      ],
      "text/plain": [
       "                                                                                                                                                                                                                                                                                                                                                 body\n",
       "2026669                          Your input i.e., a Self assessment, if you are a participant in this program, Manager assessment, Direct Report assessment, or Colleague Peer assessment will be combined with the input of others and used by the program participant to develop an action plan to improve his her management styles and practices.\n",
       "985088                                                                                                                                                                                        I also am including a draft of an announcement to Omaha and Houston employees regarding the meetings you have scheduled on the th and th, respectively.\n",
       "731740                                                                                                                                                                                                                                             Tim's e mail address is Let me know if I can get you any specific information and I'll do my best!\n",
       "2201491   BGE defines the Scheduling Coordinator as \"An entity recognized the the PJM OI and qualified to act on behalf of the Electricity Supplier in taking such actions with PJM as are necessary in order for Electricity Supplier's obligations as defined in this Tariff to be met, including the submission of energy schedules to the PJM OI.\n",
       "2621496  This e mail and any attachments hereto are not intended to be an offer or an acceptance and do not create or evidence a binding and enforceable contract between Enron Corp. or any of its affiliates and the intended recipient or any other party, and may not be relied on by anyone as the basis of a contract by estoppel or otherwise."
      ]
     },
     "execution_count": 7,
     "metadata": {},
     "output_type": "execute_result"
    }
   ],
   "source": [
    "df.head()"
   ]
  },
  {
   "cell_type": "code",
   "execution_count": null,
   "metadata": {
    "id": "WmEVfRnx5eGQ"
   },
   "outputs": [],
   "source": [
    "del df1"
   ]
  },
  {
   "cell_type": "code",
   "execution_count": null,
   "metadata": {
    "id": "3MP6OJNf5eGR",
    "outputId": "6adc532c-123f-4646-c4a0-148a5f010af8"
   },
   "outputs": [
    {
     "name": "stdout",
     "output_type": "stream",
     "text": [
      "0th- percentile of len(text) is 1.0\n",
      "========================================\n",
      "10th- percentile of len(text) is 12.0\n",
      "========================================\n",
      "20th- percentile of len(text) is 27.0\n",
      "========================================\n",
      "30th- percentile of len(text) is 41.0\n",
      "========================================\n",
      "40th- percentile of len(text) is 55.0\n",
      "========================================\n",
      "50th- percentile of len(text) is 70.0\n",
      "========================================\n",
      "60th- percentile of len(text) is 88.0\n",
      "========================================\n",
      "70th- percentile of len(text) is 110.0\n",
      "========================================\n",
      "80th- percentile of len(text) is 140.0\n",
      "========================================\n",
      "90th- percentile of len(text) is 189.0\n",
      "========================================\n",
      "100th- percentile of len(text) is 2439.0\n",
      "========================================\n"
     ]
    }
   ],
   "source": [
    "df.dropna(inplace=True)\n",
    "\n",
    "x = list(df['body'].apply(lambda x:len(x)))\n",
    "\n",
    "for i in range(0,110,10):\n",
    "    print(\"{}th- percentile of len(text) is {}\".format(i,np.percentile(x, i)))\n",
    "    print(\"=\"*40)"
   ]
  },
  {
   "cell_type": "code",
   "execution_count": null,
   "metadata": {
    "id": "FIehZvtU5eGR"
   },
   "outputs": [],
   "source": [
    "df['length'] = list(df['body'].apply(lambda x:len(x)))"
   ]
  },
  {
   "cell_type": "code",
   "execution_count": null,
   "metadata": {
    "id": "0znaq7EG5eGS",
    "outputId": "ccecaa94-4838-4c4f-b96e-9cc429e28559"
   },
   "outputs": [
    {
     "data": {
      "text/html": [
       "<div>\n",
       "<style scoped>\n",
       "    .dataframe tbody tr th:only-of-type {\n",
       "        vertical-align: middle;\n",
       "    }\n",
       "\n",
       "    .dataframe tbody tr th {\n",
       "        vertical-align: top;\n",
       "    }\n",
       "\n",
       "    .dataframe thead th {\n",
       "        text-align: right;\n",
       "    }\n",
       "</style>\n",
       "<table border=\"1\" class=\"dataframe\">\n",
       "  <thead>\n",
       "    <tr style=\"text-align: right;\">\n",
       "      <th></th>\n",
       "      <th>body</th>\n",
       "      <th>length</th>\n",
       "    </tr>\n",
       "  </thead>\n",
       "  <tbody>\n",
       "    <tr>\n",
       "      <th>2026669</th>\n",
       "      <td>Your input i.e., a Self assessment, if you are a participant in this program, Manager assessment, Direct Report assessment, or Colleague Peer assessment will be combined with the input of others and used by the program participant to develop an action plan to improve his her management styles and practices.</td>\n",
       "      <td>308</td>\n",
       "    </tr>\n",
       "    <tr>\n",
       "      <th>985088</th>\n",
       "      <td>I also am including a draft of an announcement to Omaha and Houston employees regarding the meetings you have scheduled on the th and th, respectively.</td>\n",
       "      <td>151</td>\n",
       "    </tr>\n",
       "    <tr>\n",
       "      <th>731740</th>\n",
       "      <td>Tim's e mail address is Let me know if I can get you any specific information and I'll do my best!</td>\n",
       "      <td>98</td>\n",
       "    </tr>\n",
       "    <tr>\n",
       "      <th>2201491</th>\n",
       "      <td>BGE defines the Scheduling Coordinator as \"An entity recognized the the PJM OI and qualified to act on behalf of the Electricity Supplier in taking such actions with PJM as are necessary in order for Electricity Supplier's obligations as defined in this Tariff to be met, including the submission of energy schedules to the PJM OI.</td>\n",
       "      <td>331</td>\n",
       "    </tr>\n",
       "    <tr>\n",
       "      <th>2621496</th>\n",
       "      <td>This e mail and any attachments hereto are not intended to be an offer or an acceptance and do not create or evidence a binding and enforceable contract between Enron Corp. or any of its affiliates and the intended recipient or any other party, and may not be relied on by anyone as the basis of a contract by estoppel or otherwise.</td>\n",
       "      <td>332</td>\n",
       "    </tr>\n",
       "  </tbody>\n",
       "</table>\n",
       "</div>"
      ],
      "text/plain": [
       "                                                                                                                                                                                                                                                                                                                                                 body  \\\n",
       "2026669                          Your input i.e., a Self assessment, if you are a participant in this program, Manager assessment, Direct Report assessment, or Colleague Peer assessment will be combined with the input of others and used by the program participant to develop an action plan to improve his her management styles and practices.   \n",
       "985088                                                                                                                                                                                        I also am including a draft of an announcement to Omaha and Houston employees regarding the meetings you have scheduled on the th and th, respectively.   \n",
       "731740                                                                                                                                                                                                                                             Tim's e mail address is Let me know if I can get you any specific information and I'll do my best!   \n",
       "2201491   BGE defines the Scheduling Coordinator as \"An entity recognized the the PJM OI and qualified to act on behalf of the Electricity Supplier in taking such actions with PJM as are necessary in order for Electricity Supplier's obligations as defined in this Tariff to be met, including the submission of energy schedules to the PJM OI.   \n",
       "2621496  This e mail and any attachments hereto are not intended to be an offer or an acceptance and do not create or evidence a binding and enforceable contract between Enron Corp. or any of its affiliates and the intended recipient or any other party, and may not be relied on by anyone as the basis of a contract by estoppel or otherwise.   \n",
       "\n",
       "         length  \n",
       "2026669     308  \n",
       "985088      151  \n",
       "731740       98  \n",
       "2201491     331  \n",
       "2621496     332  "
      ]
     },
     "execution_count": 11,
     "metadata": {},
     "output_type": "execute_result"
    }
   ],
   "source": [
    "df.head()"
   ]
  },
  {
   "cell_type": "code",
   "execution_count": null,
   "metadata": {
    "id": "nglfOFPZ5eGS",
    "outputId": "5f979f18-2f5c-4661-af50-9ee8cffde09f"
   },
   "outputs": [
    {
     "data": {
      "text/plain": [
       "50000"
      ]
     },
     "execution_count": 12,
     "metadata": {},
     "output_type": "execute_result"
    }
   ],
   "source": [
    "len(df)"
   ]
  },
  {
   "cell_type": "code",
   "execution_count": null,
   "metadata": {
    "id": "fxNG5shU5eGS",
    "outputId": "e7e46e73-9a77-453b-9090-b8dfbeff1193"
   },
   "outputs": [
    {
     "data": {
      "text/plain": [
       "44876"
      ]
     },
     "execution_count": 13,
     "metadata": {},
     "output_type": "execute_result"
    }
   ],
   "source": [
    "#drop all the rows, lendth more than 200 and less than 1\n",
    "df = df[df['length']<=200]\n",
    "\n",
    "df = df[df['length']>2]\n",
    "\n",
    "len(df)"
   ]
  },
  {
   "cell_type": "code",
   "execution_count": null,
   "metadata": {
    "id": "xP_Yp0us5eGT",
    "outputId": "e3e9a4d8-19b2-468d-a122-eea1845b1bc7"
   },
   "outputs": [
    {
     "name": "stdout",
     "output_type": "stream",
     "text": [
      "0th- percentile of len(text) is 3.0\n",
      "========================================\n",
      "10th- percentile of len(text) is 13.0\n",
      "========================================\n",
      "20th- percentile of len(text) is 26.0\n",
      "========================================\n",
      "30th- percentile of len(text) is 39.0\n",
      "========================================\n",
      "40th- percentile of len(text) is 51.0\n",
      "========================================\n",
      "50th- percentile of len(text) is 64.0\n",
      "========================================\n",
      "60th- percentile of len(text) is 80.0\n",
      "========================================\n",
      "70th- percentile of len(text) is 97.0\n",
      "========================================\n",
      "80th- percentile of len(text) is 119.0\n",
      "========================================\n",
      "90th- percentile of len(text) is 148.0\n",
      "========================================\n",
      "100th- percentile of len(text) is 200.0\n",
      "========================================\n"
     ]
    }
   ],
   "source": [
    "df.dropna(inplace=True)\n",
    "\n",
    "x = list(df['body'].apply(lambda x:len(x)))\n",
    "\n",
    "for i in range(0,110,10):\n",
    "    print(\"{}th- percentile of len(text) is {}\".format(i,np.percentile(x, i)))\n",
    "    print(\"=\"*40)"
   ]
  },
  {
   "cell_type": "code",
   "execution_count": null,
   "metadata": {
    "id": "9ev3Jivt5eGT",
    "outputId": "40f41341-84b3-4da7-8dbf-9a6e5796a386"
   },
   "outputs": [
    {
     "data": {
      "text/html": [
       "<div>\n",
       "<style scoped>\n",
       "    .dataframe tbody tr th:only-of-type {\n",
       "        vertical-align: middle;\n",
       "    }\n",
       "\n",
       "    .dataframe tbody tr th {\n",
       "        vertical-align: top;\n",
       "    }\n",
       "\n",
       "    .dataframe thead th {\n",
       "        text-align: right;\n",
       "    }\n",
       "</style>\n",
       "<table border=\"1\" class=\"dataframe\">\n",
       "  <thead>\n",
       "    <tr style=\"text-align: right;\">\n",
       "      <th></th>\n",
       "      <th>body</th>\n",
       "    </tr>\n",
       "  </thead>\n",
       "  <tbody>\n",
       "    <tr>\n",
       "      <th>985088</th>\n",
       "      <td>I also am including a draft of an announcement to Omaha and Houston employees regarding the meetings you have scheduled on the th and th, respectively.</td>\n",
       "    </tr>\n",
       "    <tr>\n",
       "      <th>731740</th>\n",
       "      <td>Tim's e mail address is Let me know if I can get you any specific information and I'll do my best!</td>\n",
       "    </tr>\n",
       "    <tr>\n",
       "      <th>1544444</th>\n",
       "      <td>Change Holst and Grigsby to Million and Million.</td>\n",
       "    </tr>\n",
       "    <tr>\n",
       "      <th>1262374</th>\n",
       "      <td>We are presently planning our training engagements for the year.</td>\n",
       "    </tr>\n",
       "    <tr>\n",
       "      <th>689443</th>\n",
       "      <td>We have provided a list of the most common functions in this file, but if you need to add functions for clarity, please do so.</td>\n",
       "    </tr>\n",
       "  </tbody>\n",
       "</table>\n",
       "</div>"
      ],
      "text/plain": [
       "                                                                                                                                                            body\n",
       "985088   I also am including a draft of an announcement to Omaha and Houston employees regarding the meetings you have scheduled on the th and th, respectively.\n",
       "731740                                                        Tim's e mail address is Let me know if I can get you any specific information and I'll do my best!\n",
       "1544444                                                                                                         Change Holst and Grigsby to Million and Million.\n",
       "1262374                                                                                         We are presently planning our training engagements for the year.\n",
       "689443                            We have provided a list of the most common functions in this file, but if you need to add functions for clarity, please do so."
      ]
     },
     "execution_count": 15,
     "metadata": {},
     "output_type": "execute_result"
    }
   ],
   "source": [
    "df=df.drop(['length'], axis=1)\n",
    "\n",
    "df.head()"
   ]
  },
  {
   "cell_type": "code",
   "execution_count": null,
   "metadata": {
    "id": "814OZxQZ5eGT",
    "outputId": "4c3dcc21-0be5-4800-9734-546d3b1753aa"
   },
   "outputs": [
    {
     "data": {
      "text/html": [
       "<div>\n",
       "<style scoped>\n",
       "    .dataframe tbody tr th:only-of-type {\n",
       "        vertical-align: middle;\n",
       "    }\n",
       "\n",
       "    .dataframe tbody tr th {\n",
       "        vertical-align: top;\n",
       "    }\n",
       "\n",
       "    .dataframe thead th {\n",
       "        text-align: right;\n",
       "    }\n",
       "</style>\n",
       "<table border=\"1\" class=\"dataframe\">\n",
       "  <thead>\n",
       "    <tr style=\"text-align: right;\">\n",
       "      <th></th>\n",
       "      <th>body</th>\n",
       "    </tr>\n",
       "  </thead>\n",
       "  <tbody>\n",
       "    <tr>\n",
       "      <th>2921960</th>\n",
       "      <td>Hey guys!</td>\n",
       "    </tr>\n",
       "    <tr>\n",
       "      <th>1404835</th>\n",
       "      <td>Jim</td>\n",
       "    </tr>\n",
       "    <tr>\n",
       "      <th>1531358</th>\n",
       "      <td>Sheila Can take the current spreadsheet attached and add the origination prc resuslts under the proposed cash bonus categy.</td>\n",
       "    </tr>\n",
       "    <tr>\n",
       "      <th>1098986</th>\n",
       "      <td>Services include the Americas, Asia Pacific, Europe CIS and the Middle East.</td>\n",
       "    </tr>\n",
       "    <tr>\n",
       "      <th>2153195</th>\n",
       "      <td>Monthly and daily prices and their spreads to the Hub would be nice.</td>\n",
       "    </tr>\n",
       "  </tbody>\n",
       "</table>\n",
       "</div>"
      ],
      "text/plain": [
       "                                                                                                                                body\n",
       "2921960                                                                                                                    Hey guys!\n",
       "1404835                                                                                                                          Jim\n",
       "1531358  Sheila Can take the current spreadsheet attached and add the origination prc resuslts under the proposed cash bonus categy.\n",
       "1098986                                                 Services include the Americas, Asia Pacific, Europe CIS and the Middle East.\n",
       "2153195                                                         Monthly and daily prices and their spreads to the Hub would be nice."
      ]
     },
     "execution_count": 16,
     "metadata": {},
     "output_type": "execute_result"
    }
   ],
   "source": [
    "df.tail()"
   ]
  },
  {
   "cell_type": "code",
   "execution_count": null,
   "metadata": {
    "id": "2dzfA4B95eGU"
   },
   "outputs": [],
   "source": [
    "gpus = tf.config.experimental.list_physical_devices('GPU')\n",
    "tf.config.experimental.set_memory_growth(gpus[0], True)"
   ]
  },
  {
   "cell_type": "markdown",
   "metadata": {
    "id": "lmtgh1XS5eGU"
   },
   "source": [
    "### Data Preparation"
   ]
  },
  {
   "cell_type": "code",
   "execution_count": null,
   "metadata": {
    "id": "lpvXq88F5eGV"
   },
   "outputs": [],
   "source": [
    "\n",
    "def generate_sequence_data(emails):\n",
    "    '''\n",
    "    To convert our data into encoder-decoder sequences we split sentences between contiguous spans of words.    \n",
    "    sentences with < 5 words are dropped\n",
    "    '''\n",
    "    enc_seq = []\n",
    "    dec_seq = []\n",
    "    body= []\n",
    "    contents = emails['body']\n",
    "\n",
    "    for text in contents:\n",
    "        sent = text.split()\n",
    "        \n",
    "        for i in range(5,len(sent)):\n",
    "            enc_seq.append(' '.join(sent[:i]))\n",
    "            dec_seq.append(' '.join(sent[i:]))\n",
    "\n",
    "    # put all in a dataframe\n",
    "    data = pd.DataFrame()\n",
    "    data['body_enc_seq'] = enc_seq\n",
    "    data['body_dec_seq'] = dec_seq\n",
    "\n",
    "    return data"
   ]
  },
  {
   "cell_type": "code",
   "execution_count": null,
   "metadata": {
    "id": "t1cJG_Ii5eGW",
    "outputId": "2abedf4d-3098-4367-dca7-1aacc6a2918d"
   },
   "outputs": [
    {
     "data": {
      "text/html": [
       "<div>\n",
       "<style scoped>\n",
       "    .dataframe tbody tr th:only-of-type {\n",
       "        vertical-align: middle;\n",
       "    }\n",
       "\n",
       "    .dataframe tbody tr th {\n",
       "        vertical-align: top;\n",
       "    }\n",
       "\n",
       "    .dataframe thead th {\n",
       "        text-align: right;\n",
       "    }\n",
       "</style>\n",
       "<table border=\"1\" class=\"dataframe\">\n",
       "  <thead>\n",
       "    <tr style=\"text-align: right;\">\n",
       "      <th></th>\n",
       "      <th>body_enc_seq</th>\n",
       "      <th>body_dec_seq</th>\n",
       "    </tr>\n",
       "  </thead>\n",
       "  <tbody>\n",
       "    <tr>\n",
       "      <th>0</th>\n",
       "      <td>I also am including a</td>\n",
       "      <td>draft of an announcement to Omaha and Houston employees regarding the meetings you have scheduled on the th and th, respectively.</td>\n",
       "    </tr>\n",
       "    <tr>\n",
       "      <th>1</th>\n",
       "      <td>I also am including a draft</td>\n",
       "      <td>of an announcement to Omaha and Houston employees regarding the meetings you have scheduled on the th and th, respectively.</td>\n",
       "    </tr>\n",
       "    <tr>\n",
       "      <th>2</th>\n",
       "      <td>I also am including a draft of</td>\n",
       "      <td>an announcement to Omaha and Houston employees regarding the meetings you have scheduled on the th and th, respectively.</td>\n",
       "    </tr>\n",
       "    <tr>\n",
       "      <th>3</th>\n",
       "      <td>I also am including a draft of an</td>\n",
       "      <td>announcement to Omaha and Houston employees regarding the meetings you have scheduled on the th and th, respectively.</td>\n",
       "    </tr>\n",
       "    <tr>\n",
       "      <th>4</th>\n",
       "      <td>I also am including a draft of an announcement</td>\n",
       "      <td>to Omaha and Houston employees regarding the meetings you have scheduled on the th and th, respectively.</td>\n",
       "    </tr>\n",
       "  </tbody>\n",
       "</table>\n",
       "</div>"
      ],
      "text/plain": [
       "                                     body_enc_seq  \\\n",
       "0                           I also am including a   \n",
       "1                     I also am including a draft   \n",
       "2                  I also am including a draft of   \n",
       "3               I also am including a draft of an   \n",
       "4  I also am including a draft of an announcement   \n",
       "\n",
       "                                                                                                                        body_dec_seq  \n",
       "0  draft of an announcement to Omaha and Houston employees regarding the meetings you have scheduled on the th and th, respectively.  \n",
       "1        of an announcement to Omaha and Houston employees regarding the meetings you have scheduled on the th and th, respectively.  \n",
       "2           an announcement to Omaha and Houston employees regarding the meetings you have scheduled on the th and th, respectively.  \n",
       "3              announcement to Omaha and Houston employees regarding the meetings you have scheduled on the th and th, respectively.  \n",
       "4                           to Omaha and Houston employees regarding the meetings you have scheduled on the th and th, respectively.  "
      ]
     },
     "execution_count": 19,
     "metadata": {},
     "output_type": "execute_result"
    }
   ],
   "source": [
    "sequence_data = generate_sequence_data(df)\n",
    "\n",
    "sequence_data.head()"
   ]
  },
  {
   "cell_type": "code",
   "execution_count": null,
   "metadata": {
    "id": "5jx7RH195eGW"
   },
   "outputs": [],
   "source": [
    "# drop empty decoder-sequences\n",
    "sequence_data = sequence_data[sequence_data['body_dec_seq'] != '']"
   ]
  },
  {
   "cell_type": "code",
   "execution_count": null,
   "metadata": {
    "id": "WBf8Cdew5eGW"
   },
   "outputs": [],
   "source": [
    "#Adding <sos> as Start and <eos> as End\n",
    "\n",
    "sequence_data['body_dec_seq_inp'] = '<sos> '+sequence_data['body_dec_seq']\n",
    "sequence_data['body_dec_seq_out'] = sequence_data['body_dec_seq'] + ' <eos>'\n",
    "\n",
    "sequence_data['body_enc_seq'] = sequence_data['body_enc_seq'].apply(lambda x: str(x))\n",
    "sequence_data['body_enc_seq'] = '<sos> '+sequence_data['body_enc_seq']+' <eos>'"
   ]
  },
  {
   "cell_type": "code",
   "execution_count": null,
   "metadata": {
    "id": "P3QBMwq25eGX",
    "outputId": "8e587973-778a-4ea8-8857-a09c0fad0485"
   },
   "outputs": [
    {
     "data": {
      "text/html": [
       "<div>\n",
       "<style scoped>\n",
       "    .dataframe tbody tr th:only-of-type {\n",
       "        vertical-align: middle;\n",
       "    }\n",
       "\n",
       "    .dataframe tbody tr th {\n",
       "        vertical-align: top;\n",
       "    }\n",
       "\n",
       "    .dataframe thead th {\n",
       "        text-align: right;\n",
       "    }\n",
       "</style>\n",
       "<table border=\"1\" class=\"dataframe\">\n",
       "  <thead>\n",
       "    <tr style=\"text-align: right;\">\n",
       "      <th></th>\n",
       "      <th>body_enc_seq</th>\n",
       "      <th>body_dec_seq</th>\n",
       "      <th>body_dec_seq_inp</th>\n",
       "      <th>body_dec_seq_out</th>\n",
       "    </tr>\n",
       "  </thead>\n",
       "  <tbody>\n",
       "    <tr>\n",
       "      <th>0</th>\n",
       "      <td>&lt;sos&gt; I also am including a &lt;eos&gt;</td>\n",
       "      <td>draft of an announcement to Omaha and Houston employees regarding the meetings you have scheduled on the th and th, respectively.</td>\n",
       "      <td>&lt;sos&gt; draft of an announcement to Omaha and Houston employees regarding the meetings you have scheduled on the th and th, respectively.</td>\n",
       "      <td>draft of an announcement to Omaha and Houston employees regarding the meetings you have scheduled on the th and th, respectively. &lt;eos&gt;</td>\n",
       "    </tr>\n",
       "    <tr>\n",
       "      <th>1</th>\n",
       "      <td>&lt;sos&gt; I also am including a draft &lt;eos&gt;</td>\n",
       "      <td>of an announcement to Omaha and Houston employees regarding the meetings you have scheduled on the th and th, respectively.</td>\n",
       "      <td>&lt;sos&gt; of an announcement to Omaha and Houston employees regarding the meetings you have scheduled on the th and th, respectively.</td>\n",
       "      <td>of an announcement to Omaha and Houston employees regarding the meetings you have scheduled on the th and th, respectively. &lt;eos&gt;</td>\n",
       "    </tr>\n",
       "    <tr>\n",
       "      <th>2</th>\n",
       "      <td>&lt;sos&gt; I also am including a draft of &lt;eos&gt;</td>\n",
       "      <td>an announcement to Omaha and Houston employees regarding the meetings you have scheduled on the th and th, respectively.</td>\n",
       "      <td>&lt;sos&gt; an announcement to Omaha and Houston employees regarding the meetings you have scheduled on the th and th, respectively.</td>\n",
       "      <td>an announcement to Omaha and Houston employees regarding the meetings you have scheduled on the th and th, respectively. &lt;eos&gt;</td>\n",
       "    </tr>\n",
       "    <tr>\n",
       "      <th>3</th>\n",
       "      <td>&lt;sos&gt; I also am including a draft of an &lt;eos&gt;</td>\n",
       "      <td>announcement to Omaha and Houston employees regarding the meetings you have scheduled on the th and th, respectively.</td>\n",
       "      <td>&lt;sos&gt; announcement to Omaha and Houston employees regarding the meetings you have scheduled on the th and th, respectively.</td>\n",
       "      <td>announcement to Omaha and Houston employees regarding the meetings you have scheduled on the th and th, respectively. &lt;eos&gt;</td>\n",
       "    </tr>\n",
       "    <tr>\n",
       "      <th>4</th>\n",
       "      <td>&lt;sos&gt; I also am including a draft of an announcement &lt;eos&gt;</td>\n",
       "      <td>to Omaha and Houston employees regarding the meetings you have scheduled on the th and th, respectively.</td>\n",
       "      <td>&lt;sos&gt; to Omaha and Houston employees regarding the meetings you have scheduled on the th and th, respectively.</td>\n",
       "      <td>to Omaha and Houston employees regarding the meetings you have scheduled on the th and th, respectively. &lt;eos&gt;</td>\n",
       "    </tr>\n",
       "  </tbody>\n",
       "</table>\n",
       "</div>"
      ],
      "text/plain": [
       "                                                 body_enc_seq  \\\n",
       "0                           <sos> I also am including a <eos>   \n",
       "1                     <sos> I also am including a draft <eos>   \n",
       "2                  <sos> I also am including a draft of <eos>   \n",
       "3               <sos> I also am including a draft of an <eos>   \n",
       "4  <sos> I also am including a draft of an announcement <eos>   \n",
       "\n",
       "                                                                                                                        body_dec_seq  \\\n",
       "0  draft of an announcement to Omaha and Houston employees regarding the meetings you have scheduled on the th and th, respectively.   \n",
       "1        of an announcement to Omaha and Houston employees regarding the meetings you have scheduled on the th and th, respectively.   \n",
       "2           an announcement to Omaha and Houston employees regarding the meetings you have scheduled on the th and th, respectively.   \n",
       "3              announcement to Omaha and Houston employees regarding the meetings you have scheduled on the th and th, respectively.   \n",
       "4                           to Omaha and Houston employees regarding the meetings you have scheduled on the th and th, respectively.   \n",
       "\n",
       "                                                                                                                          body_dec_seq_inp  \\\n",
       "0  <sos> draft of an announcement to Omaha and Houston employees regarding the meetings you have scheduled on the th and th, respectively.   \n",
       "1        <sos> of an announcement to Omaha and Houston employees regarding the meetings you have scheduled on the th and th, respectively.   \n",
       "2           <sos> an announcement to Omaha and Houston employees regarding the meetings you have scheduled on the th and th, respectively.   \n",
       "3              <sos> announcement to Omaha and Houston employees regarding the meetings you have scheduled on the th and th, respectively.   \n",
       "4                           <sos> to Omaha and Houston employees regarding the meetings you have scheduled on the th and th, respectively.   \n",
       "\n",
       "                                                                                                                          body_dec_seq_out  \n",
       "0  draft of an announcement to Omaha and Houston employees regarding the meetings you have scheduled on the th and th, respectively. <eos>  \n",
       "1        of an announcement to Omaha and Houston employees regarding the meetings you have scheduled on the th and th, respectively. <eos>  \n",
       "2           an announcement to Omaha and Houston employees regarding the meetings you have scheduled on the th and th, respectively. <eos>  \n",
       "3              announcement to Omaha and Houston employees regarding the meetings you have scheduled on the th and th, respectively. <eos>  \n",
       "4                           to Omaha and Houston employees regarding the meetings you have scheduled on the th and th, respectively. <eos>  "
      ]
     },
     "execution_count": 22,
     "metadata": {},
     "output_type": "execute_result"
    }
   ],
   "source": [
    "sequence_data.head()"
   ]
  },
  {
   "cell_type": "code",
   "execution_count": null,
   "metadata": {
    "id": "oAYri-LD5eGX",
    "outputId": "47759b26-f165-4c0c-f779-ed9af7d3d232"
   },
   "outputs": [
    {
     "data": {
      "text/plain": [
       "(389673, 4)"
      ]
     },
     "execution_count": 23,
     "metadata": {},
     "output_type": "execute_result"
    }
   ],
   "source": [
    "sequence_data.shape"
   ]
  },
  {
   "cell_type": "code",
   "execution_count": null,
   "metadata": {
    "id": "Zwg9nbfs5eGX"
   },
   "outputs": [],
   "source": [
    "# save data\n",
    "import pickle\n",
    "\n",
    "with open('Sequence_data.pickle', 'wb') as file:\n",
    "    pickle.dump(sequence_data, file)"
   ]
  },
  {
   "cell_type": "code",
   "execution_count": 2,
   "metadata": {
    "colab": {
     "base_uri": "https://localhost:8080/"
    },
    "id": "ZYf78V6MgIef",
    "outputId": "47189858-d087-4c13-bf3a-a6a0a58b8348"
   },
   "outputs": [
    {
     "name": "stdout",
     "output_type": "stream",
     "text": [
      "--2022-08-10 16:14:51--  https://doc-04-a8-docs.googleusercontent.com/docs/securesc/9b2j1ftvtidp8f9e843gisfckled5hmm/nnf6rdqigkpasqep996o9hsprr5ssvif/1660148025000/01806599350694168671/01806599350694168671/1ZNZcR9XwJq3nMdrT62CmkJCC4OyMCCqR?e=download&ax=AI9vYm5pbOyYvdQYY_mxp6ixRyYlXjYYqqcFft9j_qWxveVR6CMj6XIEVKCXhKn8VltC_EfNb_0P59_zPyqCBSTifnCQIlqS9qBC6kyq5okPQDBwC09XeVAtUXNSnnXrRIl_HXlh8eFGHr7zhQVAC2rpKCUsNLoAB7eQhhZLkdjbDqt3nAuFlqtSt9spEIspFxplKBaKVrfr7BPtsRaE2fOaSJHOQ2lLv5DtpbUlb4t3kp_bsQ3ChPNztrX09L9kLpa_MR6gODBM-_Iapw3zp9VDdGPIp9nk845pZ6-1rCpxiAacOPbFDXjYex_e9gjJ0fYrgANm2nXgRcmjGBBShRIyAWeY0paUVD0foUVips8RtUv8olVh9GLh8JCFrnS7EuMBZxwQ9aHusUiEfiFYA0U_kl6sWZsAAELrTzqhnYGJsyNhtyHd_Ng20EVnxNSfNtCZrgpaUE11-6Zl1jUIpZSAya5e6z6z8JhGVjcBJ9TpkLMu0QDI4C0KFwh6vkHR29-3UhkltzBgtmVStDdAN_PGW4DeBBeI0PIaXqVx_kOnPZupsAd4TWcZT_GSYz-hj-LVGVhUrLcmMMLi2hiTY_8RS0Mnk6TsJMzC4iP_H4fbgw_ZEOOcUE8PQ57cnP3daohTiARhh9qzwD6HDsPATtya71y51mBAk2jYNyQO8ymuiOIEI3rHyz8U9SSYy7RHc-N4te8gvNL_l3sSB2t5&uuid=962bc8de-5d21-4f99-a5c9-c0d10d0bfb62&authuser=0&nonce=c3a5mqkteefqm&user=01806599350694168671&hash=7rt0vh4qb7mj2k382s27p7psud53cgbk\n",
      "Resolving doc-04-a8-docs.googleusercontent.com (doc-04-a8-docs.googleusercontent.com)... 173.194.74.132, 2607:f8b0:4001:c0d::84\n",
      "Connecting to doc-04-a8-docs.googleusercontent.com (doc-04-a8-docs.googleusercontent.com)|173.194.74.132|:443... connected.\n",
      "HTTP request sent, awaiting response... 200 OK\n",
      "Length: 101363371 (97M) [application/octet-stream]\n",
      "Saving to: ‘Sequence_data.pickle’\n",
      "\n",
      "Sequence_data.pickl 100%[===================>]  96.67M   138MB/s    in 0.7s    \n",
      "\n",
      "2022-08-10 16:14:52 (138 MB/s) - ‘Sequence_data.pickle’ saved [101363371/101363371]\n",
      "\n"
     ]
    }
   ],
   "source": [
    "!wget --header=\"Host: doc-04-a8-docs.googleusercontent.com\" --header=\"User-Agent: Mozilla/5.0 (Windows NT 10.0; Win64; x64) AppleWebKit/537.36 (KHTML, like Gecko) Chrome/104.0.0.0 Safari/537.36\" --header=\"Accept: text/html,application/xhtml+xml,application/xml;q=0.9,image/avif,image/webp,image/apng,*/*;q=0.8,application/signed-exchange;v=b3;q=0.9\" --header=\"Accept-Language: en-US,en;q=0.9\" --header=\"Cookie: AUTH_i8e72o951agrsp03g5i063at61npposo_nonce=c3a5mqkteefqm\" --header=\"Connection: keep-alive\" \"https://doc-04-a8-docs.googleusercontent.com/docs/securesc/9b2j1ftvtidp8f9e843gisfckled5hmm/nnf6rdqigkpasqep996o9hsprr5ssvif/1660148025000/01806599350694168671/01806599350694168671/1ZNZcR9XwJq3nMdrT62CmkJCC4OyMCCqR?e=download&ax=AI9vYm5pbOyYvdQYY_mxp6ixRyYlXjYYqqcFft9j_qWxveVR6CMj6XIEVKCXhKn8VltC_EfNb_0P59_zPyqCBSTifnCQIlqS9qBC6kyq5okPQDBwC09XeVAtUXNSnnXrRIl_HXlh8eFGHr7zhQVAC2rpKCUsNLoAB7eQhhZLkdjbDqt3nAuFlqtSt9spEIspFxplKBaKVrfr7BPtsRaE2fOaSJHOQ2lLv5DtpbUlb4t3kp_bsQ3ChPNztrX09L9kLpa_MR6gODBM-_Iapw3zp9VDdGPIp9nk845pZ6-1rCpxiAacOPbFDXjYex_e9gjJ0fYrgANm2nXgRcmjGBBShRIyAWeY0paUVD0foUVips8RtUv8olVh9GLh8JCFrnS7EuMBZxwQ9aHusUiEfiFYA0U_kl6sWZsAAELrTzqhnYGJsyNhtyHd_Ng20EVnxNSfNtCZrgpaUE11-6Zl1jUIpZSAya5e6z6z8JhGVjcBJ9TpkLMu0QDI4C0KFwh6vkHR29-3UhkltzBgtmVStDdAN_PGW4DeBBeI0PIaXqVx_kOnPZupsAd4TWcZT_GSYz-hj-LVGVhUrLcmMMLi2hiTY_8RS0Mnk6TsJMzC4iP_H4fbgw_ZEOOcUE8PQ57cnP3daohTiARhh9qzwD6HDsPATtya71y51mBAk2jYNyQO8ymuiOIEI3rHyz8U9SSYy7RHc-N4te8gvNL_l3sSB2t5&uuid=962bc8de-5d21-4f99-a5c9-c0d10d0bfb62&authuser=0&nonce=c3a5mqkteefqm&user=01806599350694168671&hash=7rt0vh4qb7mj2k382s27p7psud53cgbk\" -c -O 'Sequence_data.pickle'"
   ]
  },
  {
   "cell_type": "code",
   "execution_count": 3,
   "metadata": {
    "colab": {
     "base_uri": "https://localhost:8080/"
    },
    "id": "WmabqDocgIyJ",
    "outputId": "a0c769bc-2981-4618-8f83-919fec68fe43"
   },
   "outputs": [
    {
     "name": "stdout",
     "output_type": "stream",
     "text": [
      "--2022-08-10 16:15:20--  https://doc-10-a8-docs.googleusercontent.com/docs/securesc/9b2j1ftvtidp8f9e843gisfckled5hmm/vfmkelat40acsv7csncsgkncpu5616k6/1660148100000/01806599350694168671/01806599350694168671/1Ix-I-jJDPL0WXJLHDAnmaNdElXwLrdkO?e=download&ax=AI9vYm42EuivGXOIc_dX3LkH6gHA5CUsxa-SZYwVzlqO7vDRh5busc0gUQVIFGBPMCxZzpEjJBcgiJCoiFHpm7oBSa6weoFadJX9kJTovKHNTGbffFGgRWAiR_2qVahjIV42jtnzVt1fAl43lOKlZYG8HdY7KCGmK_96HKVU3YcQGapXN4jFMS-k98Va6L8ZsoVT0j5kIK7_35zLBkDB4scjA-AY6M7VMWqsESZE9oKfho3nuCdsQtpNlr4C2v6EjQxxTR7ypFw-rXUKaSMHX50qvYY3ZITnycQ5FSE_uOhNWyv2HOOOafGJ2rImpZ20oMKPnLymqGHMYQoP9S4YIwYHhHo4Jk1_sxu_b2YqBrz_BYtb49BC_-KWWnTXRwJquQ7LP8ckxyCXRG2KEybCruU6jxR5hHQvtHOfIbAs2nbXWoo6BScPzAgF3z_WbvdyQzSFLsSFtRByohNaNVAyHoWUa6VwYG3_fdZ1oF3ynPt7vuDC2rlZWgP0uwBBrFBMHGY6PvwofT9zCZC2xCFBDAKs8AxDZPAcUMbxnOpqFoFt-hBezyn583k3puFsZmVdm1693RT7z63imWjpoFh5wT6DSljbit0V4TaLfqf_tTyvycDBwVttOVdItLejaBeCemdrfT1VKU0RZmqRXTmmgvX4OOhuaisjX_BqE3q5zCI_lqHdvByG9DXz5ykPH2JcgFay-AQR70ZKswJnYIhK&uuid=ceaad859-5315-4db4-964b-3dd9129ca190&authuser=0\n",
      "Resolving doc-10-a8-docs.googleusercontent.com (doc-10-a8-docs.googleusercontent.com)... 173.194.74.132, 2607:f8b0:4001:c0d::84\n",
      "Connecting to doc-10-a8-docs.googleusercontent.com (doc-10-a8-docs.googleusercontent.com)|173.194.74.132|:443... connected.\n",
      "HTTP request sent, awaiting response... 200 OK\n",
      "Length: 1037962819 (990M) [text/plain]\n",
      "Saving to: ‘glove.6B.300d.txt’\n",
      "\n",
      "glove.6B.300d.txt   100%[===================>] 989.88M  97.3MB/s    in 8.5s    \n",
      "\n",
      "2022-08-10 16:15:29 (116 MB/s) - ‘glove.6B.300d.txt’ saved [1037962819/1037962819]\n",
      "\n"
     ]
    }
   ],
   "source": [
    "!wget --header=\"Host: doc-10-a8-docs.googleusercontent.com\" --header=\"User-Agent: Mozilla/5.0 (Windows NT 10.0; Win64; x64) AppleWebKit/537.36 (KHTML, like Gecko) Chrome/104.0.0.0 Safari/537.36\" --header=\"Accept: text/html,application/xhtml+xml,application/xml;q=0.9,image/avif,image/webp,image/apng,*/*;q=0.8,application/signed-exchange;v=b3;q=0.9\" --header=\"Accept-Language: en-US,en;q=0.9\" --header=\"Cookie: AUTH_i8e72o951agrsp03g5i063at61npposo=01806599350694168671|1660148025000|952h82i1o7v5f07gp06bqbse7bi5db0t\" --header=\"Connection: keep-alive\" \"https://doc-10-a8-docs.googleusercontent.com/docs/securesc/9b2j1ftvtidp8f9e843gisfckled5hmm/vfmkelat40acsv7csncsgkncpu5616k6/1660148100000/01806599350694168671/01806599350694168671/1Ix-I-jJDPL0WXJLHDAnmaNdElXwLrdkO?e=download&ax=AI9vYm42EuivGXOIc_dX3LkH6gHA5CUsxa-SZYwVzlqO7vDRh5busc0gUQVIFGBPMCxZzpEjJBcgiJCoiFHpm7oBSa6weoFadJX9kJTovKHNTGbffFGgRWAiR_2qVahjIV42jtnzVt1fAl43lOKlZYG8HdY7KCGmK_96HKVU3YcQGapXN4jFMS-k98Va6L8ZsoVT0j5kIK7_35zLBkDB4scjA-AY6M7VMWqsESZE9oKfho3nuCdsQtpNlr4C2v6EjQxxTR7ypFw-rXUKaSMHX50qvYY3ZITnycQ5FSE_uOhNWyv2HOOOafGJ2rImpZ20oMKPnLymqGHMYQoP9S4YIwYHhHo4Jk1_sxu_b2YqBrz_BYtb49BC_-KWWnTXRwJquQ7LP8ckxyCXRG2KEybCruU6jxR5hHQvtHOfIbAs2nbXWoo6BScPzAgF3z_WbvdyQzSFLsSFtRByohNaNVAyHoWUa6VwYG3_fdZ1oF3ynPt7vuDC2rlZWgP0uwBBrFBMHGY6PvwofT9zCZC2xCFBDAKs8AxDZPAcUMbxnOpqFoFt-hBezyn583k3puFsZmVdm1693RT7z63imWjpoFh5wT6DSljbit0V4TaLfqf_tTyvycDBwVttOVdItLejaBeCemdrfT1VKU0RZmqRXTmmgvX4OOhuaisjX_BqE3q5zCI_lqHdvByG9DXz5ykPH2JcgFay-AQR70ZKswJnYIhK&uuid=ceaad859-5315-4db4-964b-3dd9129ca190&authuser=0\" -c -O 'glove.6B.300d.txt'"
   ]
  },
  {
   "cell_type": "code",
   "execution_count": 4,
   "metadata": {
    "id": "mf0SXFFF5eGY"
   },
   "outputs": [],
   "source": [
    "# load data\n",
    "import pickle\n",
    "\n",
    "with open('Sequence_data.pickle', 'rb') as file:\n",
    "    sequence_data = pickle.load(file)"
   ]
  },
  {
   "cell_type": "code",
   "execution_count": 5,
   "metadata": {
    "colab": {
     "base_uri": "https://localhost:8080/"
    },
    "id": "VHcz3l2x5eGY",
    "outputId": "d99d06c9-4bc2-40ff-b0cd-98d467962ab5"
   },
   "outputs": [
    {
     "data": {
      "text/plain": [
       "(389673, 4)"
      ]
     },
     "execution_count": 5,
     "metadata": {},
     "output_type": "execute_result"
    }
   ],
   "source": [
    "sequence_data.shape"
   ]
  },
  {
   "cell_type": "code",
   "execution_count": 6,
   "metadata": {
    "colab": {
     "base_uri": "https://localhost:8080/",
     "height": 424
    },
    "id": "zz8K3gUY5eGY",
    "outputId": "689c583c-c78a-4656-8a53-624aa33d9a17"
   },
   "outputs": [
    {
     "data": {
      "text/html": [
       "\n",
       "  <div id=\"df-d567810f-e6c5-4fb2-a718-f2697fed481e\">\n",
       "    <div class=\"colab-df-container\">\n",
       "      <div>\n",
       "<style scoped>\n",
       "    .dataframe tbody tr th:only-of-type {\n",
       "        vertical-align: middle;\n",
       "    }\n",
       "\n",
       "    .dataframe tbody tr th {\n",
       "        vertical-align: top;\n",
       "    }\n",
       "\n",
       "    .dataframe thead th {\n",
       "        text-align: right;\n",
       "    }\n",
       "</style>\n",
       "<table border=\"1\" class=\"dataframe\">\n",
       "  <thead>\n",
       "    <tr style=\"text-align: right;\">\n",
       "      <th></th>\n",
       "      <th>body_enc_seq</th>\n",
       "      <th>body_dec_seq</th>\n",
       "      <th>body_dec_seq_inp</th>\n",
       "      <th>body_dec_seq_out</th>\n",
       "    </tr>\n",
       "  </thead>\n",
       "  <tbody>\n",
       "    <tr>\n",
       "      <th>0</th>\n",
       "      <td>&lt;sos&gt; I also am including a &lt;eos&gt;</td>\n",
       "      <td>draft of an announcement to Omaha and Houston employees regarding the meetings you have scheduled on the th and th, respectively.</td>\n",
       "      <td>&lt;sos&gt; draft of an announcement to Omaha and Houston employees regarding the meetings you have scheduled on the th and th, respectively.</td>\n",
       "      <td>draft of an announcement to Omaha and Houston employees regarding the meetings you have scheduled on the th and th, respectively. &lt;eos&gt;</td>\n",
       "    </tr>\n",
       "    <tr>\n",
       "      <th>1</th>\n",
       "      <td>&lt;sos&gt; I also am including a draft &lt;eos&gt;</td>\n",
       "      <td>of an announcement to Omaha and Houston employees regarding the meetings you have scheduled on the th and th, respectively.</td>\n",
       "      <td>&lt;sos&gt; of an announcement to Omaha and Houston employees regarding the meetings you have scheduled on the th and th, respectively.</td>\n",
       "      <td>of an announcement to Omaha and Houston employees regarding the meetings you have scheduled on the th and th, respectively. &lt;eos&gt;</td>\n",
       "    </tr>\n",
       "    <tr>\n",
       "      <th>2</th>\n",
       "      <td>&lt;sos&gt; I also am including a draft of &lt;eos&gt;</td>\n",
       "      <td>an announcement to Omaha and Houston employees regarding the meetings you have scheduled on the th and th, respectively.</td>\n",
       "      <td>&lt;sos&gt; an announcement to Omaha and Houston employees regarding the meetings you have scheduled on the th and th, respectively.</td>\n",
       "      <td>an announcement to Omaha and Houston employees regarding the meetings you have scheduled on the th and th, respectively. &lt;eos&gt;</td>\n",
       "    </tr>\n",
       "    <tr>\n",
       "      <th>3</th>\n",
       "      <td>&lt;sos&gt; I also am including a draft of an &lt;eos&gt;</td>\n",
       "      <td>announcement to Omaha and Houston employees regarding the meetings you have scheduled on the th and th, respectively.</td>\n",
       "      <td>&lt;sos&gt; announcement to Omaha and Houston employees regarding the meetings you have scheduled on the th and th, respectively.</td>\n",
       "      <td>announcement to Omaha and Houston employees regarding the meetings you have scheduled on the th and th, respectively. &lt;eos&gt;</td>\n",
       "    </tr>\n",
       "    <tr>\n",
       "      <th>4</th>\n",
       "      <td>&lt;sos&gt; I also am including a draft of an announcement &lt;eos&gt;</td>\n",
       "      <td>to Omaha and Houston employees regarding the meetings you have scheduled on the th and th, respectively.</td>\n",
       "      <td>&lt;sos&gt; to Omaha and Houston employees regarding the meetings you have scheduled on the th and th, respectively.</td>\n",
       "      <td>to Omaha and Houston employees regarding the meetings you have scheduled on the th and th, respectively. &lt;eos&gt;</td>\n",
       "    </tr>\n",
       "  </tbody>\n",
       "</table>\n",
       "</div>\n",
       "      <button class=\"colab-df-convert\" onclick=\"convertToInteractive('df-d567810f-e6c5-4fb2-a718-f2697fed481e')\"\n",
       "              title=\"Convert this dataframe to an interactive table.\"\n",
       "              style=\"display:none;\">\n",
       "        \n",
       "  <svg xmlns=\"http://www.w3.org/2000/svg\" height=\"24px\"viewBox=\"0 0 24 24\"\n",
       "       width=\"24px\">\n",
       "    <path d=\"M0 0h24v24H0V0z\" fill=\"none\"/>\n",
       "    <path d=\"M18.56 5.44l.94 2.06.94-2.06 2.06-.94-2.06-.94-.94-2.06-.94 2.06-2.06.94zm-11 1L8.5 8.5l.94-2.06 2.06-.94-2.06-.94L8.5 2.5l-.94 2.06-2.06.94zm10 10l.94 2.06.94-2.06 2.06-.94-2.06-.94-.94-2.06-.94 2.06-2.06.94z\"/><path d=\"M17.41 7.96l-1.37-1.37c-.4-.4-.92-.59-1.43-.59-.52 0-1.04.2-1.43.59L10.3 9.45l-7.72 7.72c-.78.78-.78 2.05 0 2.83L4 21.41c.39.39.9.59 1.41.59.51 0 1.02-.2 1.41-.59l7.78-7.78 2.81-2.81c.8-.78.8-2.07 0-2.86zM5.41 20L4 18.59l7.72-7.72 1.47 1.35L5.41 20z\"/>\n",
       "  </svg>\n",
       "      </button>\n",
       "      \n",
       "  <style>\n",
       "    .colab-df-container {\n",
       "      display:flex;\n",
       "      flex-wrap:wrap;\n",
       "      gap: 12px;\n",
       "    }\n",
       "\n",
       "    .colab-df-convert {\n",
       "      background-color: #E8F0FE;\n",
       "      border: none;\n",
       "      border-radius: 50%;\n",
       "      cursor: pointer;\n",
       "      display: none;\n",
       "      fill: #1967D2;\n",
       "      height: 32px;\n",
       "      padding: 0 0 0 0;\n",
       "      width: 32px;\n",
       "    }\n",
       "\n",
       "    .colab-df-convert:hover {\n",
       "      background-color: #E2EBFA;\n",
       "      box-shadow: 0px 1px 2px rgba(60, 64, 67, 0.3), 0px 1px 3px 1px rgba(60, 64, 67, 0.15);\n",
       "      fill: #174EA6;\n",
       "    }\n",
       "\n",
       "    [theme=dark] .colab-df-convert {\n",
       "      background-color: #3B4455;\n",
       "      fill: #D2E3FC;\n",
       "    }\n",
       "\n",
       "    [theme=dark] .colab-df-convert:hover {\n",
       "      background-color: #434B5C;\n",
       "      box-shadow: 0px 1px 3px 1px rgba(0, 0, 0, 0.15);\n",
       "      filter: drop-shadow(0px 1px 2px rgba(0, 0, 0, 0.3));\n",
       "      fill: #FFFFFF;\n",
       "    }\n",
       "  </style>\n",
       "\n",
       "      <script>\n",
       "        const buttonEl =\n",
       "          document.querySelector('#df-d567810f-e6c5-4fb2-a718-f2697fed481e button.colab-df-convert');\n",
       "        buttonEl.style.display =\n",
       "          google.colab.kernel.accessAllowed ? 'block' : 'none';\n",
       "\n",
       "        async function convertToInteractive(key) {\n",
       "          const element = document.querySelector('#df-d567810f-e6c5-4fb2-a718-f2697fed481e');\n",
       "          const dataTable =\n",
       "            await google.colab.kernel.invokeFunction('convertToInteractive',\n",
       "                                                     [key], {});\n",
       "          if (!dataTable) return;\n",
       "\n",
       "          const docLinkHtml = 'Like what you see? Visit the ' +\n",
       "            '<a target=\"_blank\" href=https://colab.research.google.com/notebooks/data_table.ipynb>data table notebook</a>'\n",
       "            + ' to learn more about interactive tables.';\n",
       "          element.innerHTML = '';\n",
       "          dataTable['output_type'] = 'display_data';\n",
       "          await google.colab.output.renderOutput(dataTable, element);\n",
       "          const docLink = document.createElement('div');\n",
       "          docLink.innerHTML = docLinkHtml;\n",
       "          element.appendChild(docLink);\n",
       "        }\n",
       "      </script>\n",
       "    </div>\n",
       "  </div>\n",
       "  "
      ],
      "text/plain": [
       "                                                 body_enc_seq  \\\n",
       "0                           <sos> I also am including a <eos>   \n",
       "1                     <sos> I also am including a draft <eos>   \n",
       "2                  <sos> I also am including a draft of <eos>   \n",
       "3               <sos> I also am including a draft of an <eos>   \n",
       "4  <sos> I also am including a draft of an announcement <eos>   \n",
       "\n",
       "                                                                                                                        body_dec_seq  \\\n",
       "0  draft of an announcement to Omaha and Houston employees regarding the meetings you have scheduled on the th and th, respectively.   \n",
       "1        of an announcement to Omaha and Houston employees regarding the meetings you have scheduled on the th and th, respectively.   \n",
       "2           an announcement to Omaha and Houston employees regarding the meetings you have scheduled on the th and th, respectively.   \n",
       "3              announcement to Omaha and Houston employees regarding the meetings you have scheduled on the th and th, respectively.   \n",
       "4                           to Omaha and Houston employees regarding the meetings you have scheduled on the th and th, respectively.   \n",
       "\n",
       "                                                                                                                          body_dec_seq_inp  \\\n",
       "0  <sos> draft of an announcement to Omaha and Houston employees regarding the meetings you have scheduled on the th and th, respectively.   \n",
       "1        <sos> of an announcement to Omaha and Houston employees regarding the meetings you have scheduled on the th and th, respectively.   \n",
       "2           <sos> an announcement to Omaha and Houston employees regarding the meetings you have scheduled on the th and th, respectively.   \n",
       "3              <sos> announcement to Omaha and Houston employees regarding the meetings you have scheduled on the th and th, respectively.   \n",
       "4                           <sos> to Omaha and Houston employees regarding the meetings you have scheduled on the th and th, respectively.   \n",
       "\n",
       "                                                                                                                          body_dec_seq_out  \n",
       "0  draft of an announcement to Omaha and Houston employees regarding the meetings you have scheduled on the th and th, respectively. <eos>  \n",
       "1        of an announcement to Omaha and Houston employees regarding the meetings you have scheduled on the th and th, respectively. <eos>  \n",
       "2           an announcement to Omaha and Houston employees regarding the meetings you have scheduled on the th and th, respectively. <eos>  \n",
       "3              announcement to Omaha and Houston employees regarding the meetings you have scheduled on the th and th, respectively. <eos>  \n",
       "4                           to Omaha and Houston employees regarding the meetings you have scheduled on the th and th, respectively. <eos>  "
      ]
     },
     "execution_count": 6,
     "metadata": {},
     "output_type": "execute_result"
    }
   ],
   "source": [
    "sequence_data.head()"
   ]
  },
  {
   "cell_type": "code",
   "execution_count": 7,
   "metadata": {
    "id": "7MAbDxnj5eGY"
   },
   "outputs": [],
   "source": [
    "#train,cv,test split\n",
    "\n",
    "train, test = train_test_split(sequence_data, test_size = 0.2, random_state = 0)\n",
    "\n",
    "train, val = train_test_split(train, test_size = 0.25, random_state = 0)"
   ]
  },
  {
   "cell_type": "code",
   "execution_count": 8,
   "metadata": {
    "id": "9NRH5uno5eGY"
   },
   "outputs": [],
   "source": [
    "#Tokenization is breaking the raw text into small chunks.\n",
    "\n",
    "tokenizer_enc = Tokenizer(filters='!\"#$%&()*+,-./:;=?@[\\\\]^_`{|}~\\t\\n')\n",
    "\n",
    "tokenizer_enc.fit_on_texts(train['body_enc_seq'].values)\n",
    "\n",
    "\n",
    "tokenizer_dec = Tokenizer(filters='!\"#$%&()*+,-./:;=?@[\\\\]^_`{|}~\\t\\n')\n",
    "\n",
    "tokenizer_dec.fit_on_texts(train['body_dec_seq_inp'].values + train['body_dec_seq_out'].values)"
   ]
  },
  {
   "cell_type": "code",
   "execution_count": 9,
   "metadata": {
    "id": "SyVWtiCJ5eGY"
   },
   "outputs": [],
   "source": [
    "#gathering some other data\n",
    "\n",
    "max_enc = 0\n",
    "enc_vocab = set()\n",
    "for sent in sequence_data['body_dec_seq_inp'].values+sequence_data['body_dec_seq_out'].values:\n",
    "    length = len(sent.split())\n",
    "    if length > max_enc:\n",
    "        max_enc = length\n",
    "    for word in sent.split():\n",
    "        enc_vocab.add(word)\n",
    "vocab_size_enc = len(enc_vocab)\n",
    "\n",
    "max_dec = 0\n",
    "dec_vocab = set()\n",
    "for sent in sequence_data['body_enc_seq']:\n",
    "    length = len(sent.split())\n",
    "    if length > max_dec:\n",
    "        max_dec = length\n",
    "    for word in sent.split():\n",
    "        dec_vocab.add(word)\n",
    "vocab_size_dec = len(dec_vocab)"
   ]
  },
  {
   "cell_type": "code",
   "execution_count": 10,
   "metadata": {
    "id": "dlZhpzTv5eGZ"
   },
   "outputs": [],
   "source": [
    "#Creating data for encoder decoder model\n",
    "\n",
    "class Dataset:\n",
    "    def __init__(self, data, tokenizer_enc, tokenizer_dec, max_enc, max_dec):\n",
    "        self.encoder_inps = data['body_enc_seq'].values\n",
    "        self.decoder_inps = data['body_dec_seq_inp'].values\n",
    "        self.decoder_outs = data['body_dec_seq_out'].values\n",
    "        self.tokenizer_dec = tokenizer_dec\n",
    "        self.tokenizer_enc = tokenizer_enc\n",
    "        self.max_enc = max_enc\n",
    "        self.max_dec = max_dec\n",
    "\n",
    "    def __getitem__(self, i):\n",
    "        self.encoder_seq = self.tokenizer_enc.texts_to_sequences([self.encoder_inps[i]]) # need to pass list of values\n",
    "        self.decoder_inp_seq = self.tokenizer_dec.texts_to_sequences([self.decoder_inps[i]])\n",
    "        self.decoder_out_seq = self.tokenizer_dec.texts_to_sequences([self.decoder_outs[i]])\n",
    "\n",
    "        self.encoder_seq = pad_sequences(self.encoder_seq, maxlen=self.max_enc, dtype='int32', padding='post')\n",
    "        self.decoder_inp_seq = pad_sequences(self.decoder_inp_seq, maxlen=self.max_dec, dtype='int32', padding='post')\n",
    "        self.decoder_out_seq = pad_sequences(self.decoder_out_seq, maxlen=self.max_dec, dtype='int32', padding='post')\n",
    "        return self.encoder_seq, self.decoder_inp_seq, self.decoder_out_seq\n",
    "\n",
    "    def __len__(self): # your model.fit_gen requires this function\n",
    "        return len(self.encoder_inps)"
   ]
  },
  {
   "cell_type": "code",
   "execution_count": 11,
   "metadata": {
    "id": "FsTZETAY5eGZ"
   },
   "outputs": [],
   "source": [
    "#Creating batch for encoder decoder model\n",
    "\n",
    "class Dataloder(tf.keras.utils.Sequence):    \n",
    "    def __init__(self, dataset, batch_size):\n",
    "        self.dataset = dataset\n",
    "        self.batch_size = batch_size\n",
    "        self.indexes = np.arange(len(self.dataset.encoder_inps))\n",
    "\n",
    "    def __getitem__(self, i):\n",
    "        start = i * self.batch_size\n",
    "        stop = (i + 1) * self.batch_size\n",
    "        data = []\n",
    "        for j in range(start, stop):\n",
    "            data.append(self.dataset[j])\n",
    "\n",
    "        batch = [np.squeeze(np.stack(samples, axis=1), axis=0) for samples in zip(*data)]\n",
    "\n",
    "        return tuple([[tf.convert_to_tensor(batch[0]), tf.convert_to_tensor(batch[1])], tf.convert_to_tensor(batch[2])])\n",
    "\n",
    "    \n",
    "    def __len__(self):  \n",
    "        # your model.fit_gen requires this function\n",
    "        return len(self.indexes) // self.batch_size\n",
    "\n",
    "    def on_epoch_end(self):\n",
    "        \n",
    "        self.indexes = np.random.permutation(self.indexes)"
   ]
  },
  {
   "cell_type": "code",
   "execution_count": 12,
   "metadata": {
    "colab": {
     "base_uri": "https://localhost:8080/"
    },
    "id": "tWhFZBuk5eGZ",
    "outputId": "1ed9fe97-ef57-493e-a848-22ff567dbf3c"
   },
   "outputs": [
    {
     "name": "stdout",
     "output_type": "stream",
     "text": [
      "Loaded 400000 word vectors.\n"
     ]
    }
   ],
   "source": [
    "#word embedding is a learned representation for text where words that have the same meaning have a similar representation.\n",
    "\n",
    "embeddings_index = dict()\n",
    "f = open('glove.6B.300d.txt', encoding = 'utf-8')\n",
    "for line in f:\n",
    "    values = line.split()\n",
    "    word = values[0]\n",
    "    coefs = np.asarray(values[1:], dtype='float32')\n",
    "    embeddings_index[word] = coefs\n",
    "f.close()\n",
    "print('Loaded %s word vectors.' % len(embeddings_index))\n"
   ]
  },
  {
   "cell_type": "code",
   "execution_count": 13,
   "metadata": {
    "id": "_IhWrPZt5eGZ"
   },
   "outputs": [],
   "source": [
    "embedding_matrix = np.zeros((vocab_size_dec, 300))\n",
    "for word, i in tokenizer_dec.word_index.items():\n",
    "    embedding_vector = embeddings_index.get(ord)\n",
    "    if embedding_vector is not None:\n",
    "        embedding_matrix[i] = embedding_vector"
   ]
  },
  {
   "cell_type": "code",
   "execution_count": null,
   "metadata": {
    "id": "Ki7igi165eGa"
   },
   "outputs": [],
   "source": []
  },
  {
   "cell_type": "code",
   "execution_count": 14,
   "metadata": {
    "id": "cBqXwC-f5eGa"
   },
   "outputs": [],
   "source": [
    "#saved all these data for further uses\n",
    "\n",
    "with open('tokenizer_enc.pickle', 'wb') as file:\n",
    "    pickle.dump(tokenizer_enc, file)\n",
    "    \n",
    "with open('tokenizer_dec.pickle', 'wb') as file:\n",
    "    pickle.dump(tokenizer_dec, file)\n",
    "    \n",
    "    \n",
    "with open('vocab_size_enc.pickle', 'wb') as file:\n",
    "    pickle.dump(vocab_size_enc, file)\n",
    "    \n",
    "with open('vocab_size_dec.pickle', 'wb') as file:\n",
    "    pickle.dump(vocab_size_dec, file)\n",
    "    \n",
    "    "
   ]
  },
  {
   "cell_type": "code",
   "execution_count": null,
   "metadata": {
    "id": "e0-xCHXq5eGa"
   },
   "outputs": [],
   "source": []
  },
  {
   "cell_type": "markdown",
   "metadata": {
    "id": "toevKhhQfgED"
   },
   "source": [
    "# Model"
   ]
  },
  {
   "cell_type": "markdown",
   "metadata": {
    "id": "vZfquV_v5eGa"
   },
   "source": [
    "#### We have divided the  LSTM Model into two parts\n",
    "\n",
    "#### 1. LSTM Without Attention layer\n",
    "\n",
    "#### 2. LSTM With Attention layer"
   ]
  },
  {
   "cell_type": "markdown",
   "metadata": {
    "id": "IUW-DiNLfgED"
   },
   "source": [
    "## 1. LSTM Without Attention layer"
   ]
  },
  {
   "cell_type": "code",
   "execution_count": 15,
   "metadata": {
    "id": "VxY3Ct8l5eGa"
   },
   "outputs": [],
   "source": [
    "batch_size=32\n",
    "lstm_size=128\n",
    "max_dec = 50\n",
    "max_enc = 29\n",
    "embedding_dim = 100\n",
    "dense_units = 256\n",
    "latent_dim=192\n"
   ]
  },
  {
   "cell_type": "code",
   "execution_count": 16,
   "metadata": {
    "colab": {
     "base_uri": "https://localhost:8080/"
    },
    "id": "THBqhCsF5eGa",
    "outputId": "e557513d-160d-49dd-daed-6bc1972c5ccd"
   },
   "outputs": [
    {
     "name": "stdout",
     "output_type": "stream",
     "text": [
      "Model: \"model\"\n",
      "__________________________________________________________________________________________________\n",
      " Layer (type)                   Output Shape         Param #     Connected to                     \n",
      "==================================================================================================\n",
      " input_1 (InputLayer)           [(None, 29)]         0           []                               \n",
      "                                                                                                  \n",
      " input_2 (InputLayer)           [(None, None)]       0           []                               \n",
      "                                                                                                  \n",
      " embedding (Embedding)          (None, 29, 100)      27212400    ['input_1[0][0]']                \n",
      "                                                                                                  \n",
      " embedding_1 (Embedding)        (None, None, 100)    3673000     ['input_2[0][0]']                \n",
      "                                                                                                  \n",
      " lstm (LSTM)                    [(32, 29, 128),      117248      ['embedding[0][0]']              \n",
      "                                 (32, 128),                                                       \n",
      "                                 (32, 128)]                                                       \n",
      "                                                                                                  \n",
      " lstm_1 (LSTM)                  [(32, None, 128),    117248      ['embedding_1[0][0]',            \n",
      "                                 (32, 128),                       'lstm[0][1]',                   \n",
      "                                 (32, 128)]                       'lstm[0][2]']                   \n",
      "                                                                                                  \n",
      " dense (Dense)                  (32, None, 36730)    4738170     ['lstm_1[0][0]']                 \n",
      "                                                                                                  \n",
      "==================================================================================================\n",
      "Total params: 35,858,066\n",
      "Trainable params: 35,858,066\n",
      "Non-trainable params: 0\n",
      "__________________________________________________________________________________________________\n"
     ]
    }
   ],
   "source": [
    "state=[tf.zeros((batch_size, lstm_size)), tf.zeros((batch_size, lstm_size))]\n",
    "\n",
    "# LSTM Encoder\n",
    "enc_inp = keras.layers.Input(shape=(max_enc,))\n",
    "encoder_embedding = keras.layers.Embedding(input_dim=vocab_size_enc, output_dim=embedding_dim,input_length = max_enc)\n",
    "encoder_lstm = keras.layers.LSTM(lstm_size, return_sequences = True, return_state = True)\n",
    "\n",
    "output_state, enc_h, enc_c = encoder_lstm(encoder_embedding(enc_inp),initial_state=state)\n",
    "\n",
    "# LSTM Decoder\n",
    "dec_inp = keras.layers.Input(shape=(None,))\n",
    "decoder_embedding = keras.layers.Embedding(input_dim=vocab_size_dec, output_dim=embedding_dim,input_length = max_dec)\n",
    "decoder_lstm = keras.layers.LSTM(units=lstm_size , return_sequences = True, return_state = True)\n",
    "\n",
    "output, _ , _ = decoder_lstm(decoder_embedding(dec_inp), initial_state=[enc_h,enc_c])\n",
    "\n",
    "\n",
    "decoder_dense = keras.layers.Dense(vocab_size_dec, activation=\"softmax\")\n",
    "decoder_out = decoder_dense(output)\n",
    "\n",
    "# Define the model that uses the Encoder and the Decoder\n",
    "model_lstm = keras.models.Model([enc_inp, dec_inp], decoder_out)\n",
    "model_lstm.summary()"
   ]
  },
  {
   "cell_type": "code",
   "execution_count": 17,
   "metadata": {
    "colab": {
     "base_uri": "https://localhost:8080/",
     "height": 466
    },
    "id": "wB0d5sA47Mho",
    "outputId": "1303aa3f-f8d7-41c2-a5a6-33fad537f291"
   },
   "outputs": [
    {
     "data": {
      "image/png": "[encoded data removed]",
      "text/plain": [
       "<IPython.core.display.Image object>"
      ]
     },
     "execution_count": 17,
     "metadata": {},
     "output_type": "execute_result"
    }
   ],
   "source": [
    "tf.keras.utils.plot_model(model_lstm,to_file='model_lstm.png')"
   ]
  },
  {
   "cell_type": "code",
   "execution_count": 18,
   "metadata": {
    "colab": {
     "base_uri": "https://localhost:8080/"
    },
    "id": "0bA-ne4s7raY",
    "outputId": "a293afd3-064b-4588-860e-c0c184b3b14e"
   },
   "outputs": [
    {
     "name": "stdout",
     "output_type": "stream",
     "text": [
      "total 1114860\n",
      "drwxr-xr-x 1 root root       4096 Aug  3 20:21 sample_data\n",
      "-rw-r--r-- 1 root root  101363371 Aug 10 16:14 Sequence_data.pickle\n",
      "-rw-r--r-- 1 root root 1037962819 Aug 10 16:15 glove.6B.300d.txt\n",
      "-rw-r--r-- 1 root root    1069446 Aug 10 16:16 tokenizer_enc.pickle\n",
      "-rw-r--r-- 1 root root    1179129 Aug 10 16:16 tokenizer_dec.pickle\n",
      "-rw-r--r-- 1 root root          8 Aug 10 16:16 vocab_size_enc.pickle\n",
      "-rw-r--r-- 1 root root          6 Aug 10 16:16 vocab_size_dec.pickle\n",
      "-rw-r--r-- 1 root root      18712 Aug 10 16:17 model_lstm.png\n"
     ]
    }
   ],
   "source": [
    "!ls -ltr"
   ]
  },
  {
   "cell_type": "code",
   "execution_count": 19,
   "metadata": {
    "colab": {
     "base_uri": "https://localhost:8080/",
     "height": 17
    },
    "id": "3RmzgUpP7rdv",
    "outputId": "f5928d13-c071-44cd-e7b2-d5afb0612e30"
   },
   "outputs": [
    {
     "data": {
      "application/javascript": [
       "\n",
       "    async function download(id, filename, size) {\n",
       "      if (!google.colab.kernel.accessAllowed) {\n",
       "        return;\n",
       "      }\n",
       "      const div = document.createElement('div');\n",
       "      const label = document.createElement('label');\n",
       "      label.textContent = `Downloading \"${filename}\": `;\n",
       "      div.appendChild(label);\n",
       "      const progress = document.createElement('progress');\n",
       "      progress.max = size;\n",
       "      div.appendChild(progress);\n",
       "      document.body.appendChild(div);\n",
       "\n",
       "      const buffers = [];\n",
       "      let downloaded = 0;\n",
       "\n",
       "      const channel = await google.colab.kernel.comms.open(id);\n",
       "      // Send a message to notify the kernel that we're ready.\n",
       "      channel.send({})\n",
       "\n",
       "      for await (const message of channel.messages) {\n",
       "        // Send a message to notify the kernel that we're ready.\n",
       "        channel.send({})\n",
       "        if (message.buffers) {\n",
       "          for (const buffer of message.buffers) {\n",
       "            buffers.push(buffer);\n",
       "            downloaded += buffer.byteLength;\n",
       "            progress.value = downloaded;\n",
       "          }\n",
       "        }\n",
       "      }\n",
       "      const blob = new Blob(buffers, {type: 'application/binary'});\n",
       "      const a = document.createElement('a');\n",
       "      a.href = window.URL.createObjectURL(blob);\n",
       "      a.download = filename;\n",
       "      div.appendChild(a);\n",
       "      a.click();\n",
       "      div.remove();\n",
       "    }\n",
       "  "
      ],
      "text/plain": [
       "<IPython.core.display.Javascript object>"
      ]
     },
     "metadata": {},
     "output_type": "display_data"
    },
    {
     "data": {
      "application/javascript": [
       "download(\"download_2c6e0db4-d05f-484f-af39-a0c7571ea203\", \"model_lstm.png\", 18712)"
      ],
      "text/plain": [
       "<IPython.core.display.Javascript object>"
      ]
     },
     "metadata": {},
     "output_type": "display_data"
    }
   ],
   "source": [
    "from google.colab import files\n",
    "files.download('model_lstm.png')"
   ]
  },
  {
   "cell_type": "markdown",
   "metadata": {
    "id": "bLmtlzBZ7rmR"
   },
   "source": [
    "#### We are using the same LSTM Encoder Decoder model in class shape for rest of the project"
   ]
  },
  {
   "cell_type": "markdown",
   "metadata": {
    "id": "Wd8VStBI5eGb"
   },
   "source": [
    "### 1.1 LSTM with Adam Optimizer"
   ]
  },
  {
   "cell_type": "markdown",
   "metadata": {
    "id": "RASnO12t5eGb"
   },
   "source": [
    "#### Encoder"
   ]
  },
  {
   "cell_type": "code",
   "execution_count": null,
   "metadata": {
    "id": "uMJHf-FB5eGb"
   },
   "outputs": [],
   "source": [
    "class Encoder(tf.keras.Model):\n",
    "    \n",
    "\n",
    "    '''\n",
    "    Encoder model -- That takes a input sequence and returns encoder-outputs,encoder_final_state_h,encoder_final_state_c\n",
    "    '''\n",
    "    \n",
    "\n",
    "    def __init__(self,inp_vocab_size,embedding_size,lstm_size,input_length):\n",
    "        \n",
    "\n",
    "        #Initialize Embedding layer\n",
    "        #Intialize Encoder LSTM layer\n",
    "        \n",
    "        super().__init__()\n",
    "        self.lstm_size = lstm_size\n",
    "        #Initialize Embedding layer\n",
    "        self.enc_embed = Embedding(input_dim = inp_vocab_size, output_dim = embedding_size, input_length= input_length)\n",
    "        #Intialize Encoder LSTM layer\n",
    "        self.enc_lstm = LSTM(lstm_size, return_sequences = True, return_state = True)\n",
    "\n",
    "\n",
    "\n",
    "    def call(self,input_sequence,states):\n",
    "        \n",
    "        \n",
    "        '''\n",
    "          This function takes a sequence input and the initial states of the encoder.\n",
    "          Pass the input_sequence input to the Embedding layer, Pass the embedding layer ouput to encoder_lstm\n",
    "          returns -- encoder_output, last time step's hidden and cell state\n",
    "        '''\n",
    "\n",
    "        embedding = self.enc_embed(input_sequence)\n",
    "        output_state, enc_h, enc_c = self.enc_lstm(embedding, initial_state = states)\n",
    "        \n",
    "        return output_state, enc_h, enc_c\n",
    "        \n",
    "\n",
    "    \n",
    "    def initialize_states(self,batch_size):\n",
    "        \n",
    "        '''\n",
    "        Given a batch size it will return intial hidden state and intial cell state.\n",
    "        If batch size is 32- Hidden state is zeros of size [32,lstm_units], cell state zeros is of size [32,lstm_units]\n",
    "        '''\n",
    "        \n",
    "        return [tf.zeros((batch_size, self.lstm_size)), tf.zeros((batch_size, self.lstm_size))]\n",
    "        \n",
    "        \n",
    "    "
   ]
  },
  {
   "cell_type": "markdown",
   "metadata": {
    "id": "vCm_B_Iz5eGb"
   },
   "source": [
    "#### Decoder"
   ]
  },
  {
   "cell_type": "code",
   "execution_count": null,
   "metadata": {
    "id": "JYnDTA3E5eGb"
   },
   "outputs": [],
   "source": [
    "class Decoder(tf.keras.Model):\n",
    "    '''\n",
    "    Decoder model -- That takes a input sequence and returns output sequence\n",
    "    '''\n",
    "    def __init__(self,out_vocab_size,embedding_size,lstm_size,input_length):\n",
    "        #Initialize Embedding layer\n",
    "        #Intialize Decoder LSTM layer\n",
    "        \n",
    "        super().__init__()\n",
    "        #Initialize Embedding layer\n",
    "        self.dec_embed = Embedding(input_dim = out_vocab_size, output_dim = embedding_size, input_length = input_length)\n",
    "        #Intialize Decoder LSTM layer\n",
    "        self.dec_lstm = LSTM(lstm_size, return_sequences = True, return_state = True)\n",
    "    \n",
    "    def call(self,input_sequence, initial_states):\n",
    "        \n",
    "        '''\n",
    "          This function takes a sequence input and the initial states of the encoder.\n",
    "          Pass the input_sequence input to the Embedding layer, Pass the embedding layer ouput to decoder_lstm\n",
    "        \n",
    "          returns -- decoder_output,decoder_final_state_h,decoder_final_state_c\n",
    "        '''\n",
    "\n",
    "        embedding = self.dec_embed(input_sequence)\n",
    "        \n",
    "        output_state, dec_h, dec_c = self.dec_lstm(embedding, initial_state = initial_states)\n",
    "        \n",
    "        return output_state, dec_h, dec_c"
   ]
  },
  {
   "cell_type": "markdown",
   "metadata": {
    "id": "rIOq1ZN75eGc"
   },
   "source": [
    "#### Encoder_decoder"
   ]
  },
  {
   "cell_type": "code",
   "execution_count": null,
   "metadata": {
    "id": "-16f5XkW5eGc"
   },
   "outputs": [],
   "source": [
    "class Encoder_decoder(tf.keras.Model): \n",
    "    \n",
    "    def __init__(self,*params):\n",
    "    \n",
    "        #Create encoder object\n",
    "        #Create decoder object\n",
    "        #Intialize Dense layer(out_vocab_size) with activation='softmax'\n",
    "    \n",
    "        super().__init__()\n",
    "        #Create encoder object\n",
    "        self.encoder = Encoder(inp_vocab_size = params[0], embedding_size = params[2], lstm_size = params[3], input_length = params[4])\n",
    "        #Create decoder object\n",
    "        self.decoder = Decoder(out_vocab_size = params[1], embedding_size = params[2], lstm_size = params[3], input_length = params[5])\n",
    "        #Intialize Dense layer(out_vocab_size) with activation='softmax'\n",
    "        self.dense = Dense(params[1], activation='softmax')\n",
    "    \n",
    "    @tf.function\n",
    "    def call(self, params, training = True):\n",
    "        \n",
    "        '''\n",
    "        1. Pass the input sequence to Encoder layer -- Return encoder_output,encoder_final_state_h,encoder_final_state_c\n",
    "        2. Pass the target sequence to Decoder layer with intial states as encoder_final_state_h,encoder_final_state_C\n",
    "        3. Pass the decoder_outputs into Dense layer \n",
    "        \n",
    "        Return decoder_outputs\n",
    "        '''\n",
    "        \n",
    "\n",
    "        enc_inp, dec_inp = params[0], params[1]\n",
    "        \n",
    "        initial_state = self.encoder.initialize_states(batch_size)\n",
    "        \n",
    "        output_state, enc_h, enc_c = self.encoder(enc_inp, initial_state)\n",
    "        \n",
    "        output, _, _ = self.decoder(dec_inp ,[enc_h, enc_c])\n",
    "        \n",
    "        return self.dense(output)"
   ]
  },
  {
   "cell_type": "code",
   "execution_count": null,
   "metadata": {
    "id": "CM_EPweU5eGc"
   },
   "outputs": [],
   "source": [
    "train_dataset = Dataset(train, tokenizer_enc, tokenizer_dec, max_enc, max_dec)\n",
    "test_dataset  = Dataset(test, tokenizer_enc, tokenizer_dec, max_enc, max_dec)\n",
    "val_dataset  = Dataset(val, tokenizer_enc, tokenizer_dec, max_enc, max_dec)\n",
    "\n",
    "train_dataloader = Dataloder(train_dataset, batch_size=batch_size)\n",
    "test_dataloader = Dataloder(test_dataset, batch_size=batch_size)\n",
    "val_dataloader = Dataloder(val_dataset, batch_size = batch_size)"
   ]
  },
  {
   "cell_type": "code",
   "execution_count": null,
   "metadata": {
    "id": "9-TXBoPR5eGd"
   },
   "outputs": [],
   "source": [
    "model = Encoder_decoder(vocab_size_enc, \n",
    "                        vocab_size_dec, \n",
    "                        embedding_dim, \n",
    "                        lstm_size, \n",
    "                        max_enc, \n",
    "                        max_dec, \n",
    "                        dense_units)"
   ]
  },
  {
   "cell_type": "code",
   "execution_count": null,
   "metadata": {
    "id": "Il4xBr2B5eGd"
   },
   "outputs": [],
   "source": [
    "model.compile(optimizer = 'Adam', loss = 'sparse_categorical_crossentropy')"
   ]
  },
  {
   "cell_type": "code",
   "execution_count": null,
   "metadata": {
    "id": "ge3MZoHz5eGd"
   },
   "outputs": [],
   "source": [
    "import datetime\n",
    "\n",
    "log_dir=\"logs/fit/LSTM/\" + datetime.datetime.now().strftime(\"%Y%m%d-%H%M%S\")\n",
    "\n",
    "#A callback is a function passed as an argument to another function. This technique allows a function to call another function.\n",
    "callbacks = [ModelCheckpoint(\"lstm_adam\", save_best_only= True, verbose = 1),\n",
    "             TensorBoard(log_dir = log_dir, histogram_freq=1, write_graph=True),\n",
    "             EarlyStopping(monitor='val_loss',patience = 5, verbose = 1),\n",
    "             ReduceLROnPlateau(monitor='val_loss',patience = 2, verbose = 1)]\n"
   ]
  },
  {
   "cell_type": "code",
   "execution_count": null,
   "metadata": {
    "id": "VU7kXzcd5eGd",
    "outputId": "edf6b9c4-29bf-43f5-9aa7-bfde72b72d08"
   },
   "outputs": [
    {
     "name": "stdout",
     "output_type": "stream",
     "text": [
      "Epoch 1/40\n",
      "7306/7306 [==============================] - 2602s 356ms/step - loss: 1.4761 - val_loss: 0.9652\n",
      "\n",
      "Epoch 00001: val_loss improved from inf to 0.96517, saving model to lstm_addm\n",
      "Epoch 2/40\n",
      "7306/7306 [==============================] - 2576s 353ms/step - loss: 0.9076 - val_loss: 0.7918\n",
      "\n",
      "Epoch 00002: val_loss improved from 0.96517 to 0.79184, saving model to lstm_addm\n",
      "Epoch 3/40\n",
      "7306/7306 [==============================] - 2736s 375ms/step - loss: 0.7399 - val_loss: 0.6864\n",
      "\n",
      "Epoch 00003: val_loss improved from 0.79184 to 0.68640, saving model to lstm_addm\n",
      "Epoch 4/40\n",
      "7306/7306 [==============================] - 2589s 354ms/step - loss: 0.6328 - val_loss: 0.6166\n",
      "\n",
      "Epoch 00004: val_loss improved from 0.68640 to 0.61656, saving model to lstm_addm\n",
      "Epoch 5/40\n",
      "7306/7306 [==============================] - 2586s 354ms/step - loss: 0.5600 - val_loss: 0.5658\n",
      "\n",
      "Epoch 00005: val_loss improved from 0.61656 to 0.56584, saving model to lstm_addm\n",
      "Epoch 6/40\n",
      "7306/7306 [==============================] - 2573s 352ms/step - loss: 0.5025 - val_loss: 0.5279\n",
      "\n",
      "Epoch 00006: val_loss improved from 0.56584 to 0.52793, saving model to lstm_addm\n",
      "Epoch 7/40\n",
      "7306/7306 [==============================] - 2587s 354ms/step - loss: 0.4609 - val_loss: 0.4994\n",
      "\n",
      "Epoch 00007: val_loss improved from 0.52793 to 0.49937, saving model to lstm_addm\n",
      "Epoch 8/40\n",
      "7306/7306 [==============================] - 2588s 354ms/step - loss: 0.4255 - val_loss: 0.4765\n",
      "\n",
      "Epoch 00008: val_loss improved from 0.49937 to 0.47646, saving model to lstm_addm\n",
      "Epoch 9/40\n",
      "7306/7306 [==============================] - 2611s 357ms/step - loss: 0.3967 - val_loss: 0.4577\n",
      "\n",
      "Epoch 00009: val_loss improved from 0.47646 to 0.45769, saving model to lstm_addm\n",
      "Epoch 10/40\n",
      "7306/7306 [==============================] - 2652s 363ms/step - loss: 0.3718 - val_loss: 0.4427\n",
      "\n",
      "Epoch 00010: val_loss improved from 0.45769 to 0.44271, saving model to lstm_addm\n",
      "Epoch 11/40\n",
      "7306/7306 [==============================] - 2662s 364ms/step - loss: 0.3519 - val_loss: 0.4315\n",
      "\n",
      "Epoch 00011: val_loss improved from 0.44271 to 0.43153, saving model to lstm_addm\n",
      "Epoch 12/40\n",
      "7306/7306 [==============================] - 2647s 362ms/step - loss: 0.3350 - val_loss: 0.4207\n",
      "\n",
      "Epoch 00012: val_loss improved from 0.43153 to 0.42067, saving model to lstm_addm\n",
      "Epoch 13/40\n",
      "7306/7306 [==============================] - 2567s 351ms/step - loss: 0.3196 - val_loss: 0.4128\n",
      "\n",
      "Epoch 00013: val_loss improved from 0.42067 to 0.41277, saving model to lstm_addm\n",
      "Epoch 14/40\n",
      "7306/7306 [==============================] - 2588s 354ms/step - loss: 0.3076 - val_loss: 0.4060\n",
      "\n",
      "Epoch 00014: val_loss improved from 0.41277 to 0.40602, saving model to lstm_addm\n",
      "Epoch 15/40\n",
      "7306/7306 [==============================] - 2601s 356ms/step - loss: 0.2962 - val_loss: 0.4004\n",
      "\n",
      "Epoch 00015: val_loss improved from 0.40602 to 0.40044, saving model to lstm_addm\n",
      "Epoch 16/40\n",
      "7306/7306 [==============================] - 2588s 354ms/step - loss: 0.2849 - val_loss: 0.3962\n",
      "\n",
      "Epoch 00016: val_loss improved from 0.40044 to 0.39621, saving model to lstm_addm\n",
      "Epoch 17/40\n",
      "7306/7306 [==============================] - 2607s 357ms/step - loss: 0.2750 - val_loss: 0.3914\n",
      "\n",
      "Epoch 00017: val_loss improved from 0.39621 to 0.39135, saving model to lstm_addm\n",
      "Epoch 18/40\n",
      "7306/7306 [==============================] - 2589s 354ms/step - loss: 0.2665 - val_loss: 0.3877\n",
      "\n",
      "Epoch 00018: val_loss improved from 0.39135 to 0.38769, saving model to lstm_addm\n",
      "Epoch 19/40\n",
      "7306/7306 [==============================] - 2573s 352ms/step - loss: 0.2592 - val_loss: 0.3862\n",
      "\n",
      "Epoch 00019: val_loss improved from 0.38769 to 0.38623, saving model to lstm_addm\n",
      "Epoch 20/40\n",
      "7306/7306 [==============================] - 2562s 351ms/step - loss: 0.2535 - val_loss: 0.3827\n",
      "\n",
      "Epoch 00020: val_loss improved from 0.38623 to 0.38274, saving model to lstm_addm\n",
      "Epoch 21/40\n",
      "7306/7306 [==============================] - 2587s 354ms/step - loss: 0.2454 - val_loss: 0.3801\n",
      "\n",
      "Epoch 00021: val_loss improved from 0.38274 to 0.38005, saving model to lstm_addm\n",
      "Epoch 22/40\n",
      "7306/7306 [==============================] - 2574s 352ms/step - loss: 0.2404 - val_loss: 0.3789\n",
      "\n",
      "Epoch 00022: val_loss improved from 0.38005 to 0.37895, saving model to lstm_addm\n",
      "Epoch 23/40\n",
      "7306/7306 [==============================] - 2587s 354ms/step - loss: 0.2366 - val_loss: 0.3785\n",
      "\n",
      "Epoch 00023: val_loss improved from 0.37895 to 0.37852, saving model to lstm_addm\n",
      "Epoch 24/40\n",
      "7306/7306 [==============================] - 2586s 354ms/step - loss: 0.2296 - val_loss: 0.3759\n",
      "\n",
      "Epoch 00024: val_loss improved from 0.37852 to 0.37595, saving model to lstm_addm\n",
      "Epoch 25/40\n",
      "7306/7306 [==============================] - 2588s 354ms/step - loss: 0.2255 - val_loss: 0.3752\n",
      "\n",
      "Epoch 00025: val_loss improved from 0.37595 to 0.37516, saving model to lstm_addm\n",
      "Epoch 26/40\n",
      "7306/7306 [==============================] - 2590s 354ms/step - loss: 0.2216 - val_loss: 0.3747\n",
      "\n",
      "Epoch 00026: val_loss improved from 0.37516 to 0.37472, saving model to lstm_addm\n",
      "Epoch 27/40\n",
      "7306/7306 [==============================] - 2605s 357ms/step - loss: 0.2182 - val_loss: 0.3730\n",
      "\n",
      "Epoch 00027: val_loss improved from 0.37472 to 0.37302, saving model to lstm_addm\n",
      "Epoch 28/40\n",
      "7306/7306 [==============================] - 2594s 355ms/step - loss: 0.2149 - val_loss: 0.3735\n",
      "\n",
      "Epoch 00028: val_loss did not improve from 0.37302\n",
      "Epoch 29/40\n",
      "7306/7306 [==============================] - 2567s 351ms/step - loss: 0.2104 - val_loss: 0.3725\n",
      "\n",
      "Epoch 00029: val_loss improved from 0.37302 to 0.37251, saving model to lstm_addm\n",
      "Epoch 30/40\n",
      "7306/7306 [==============================] - 2626s 359ms/step - loss: 0.2073 - val_loss: 0.3732\n",
      "\n",
      "Epoch 00030: val_loss did not improve from 0.37251\n",
      "Epoch 31/40\n",
      "7306/7306 [==============================] - 2652s 363ms/step - loss: 0.2034 - val_loss: 0.3716\n",
      "\n",
      "Epoch 00031: val_loss improved from 0.37251 to 0.37157, saving model to lstm_addm\n",
      "Epoch 32/40\n",
      "7306/7306 [==============================] - 2641s 361ms/step - loss: 0.2014 - val_loss: 0.3721\n",
      "\n",
      "Epoch 00032: val_loss did not improve from 0.37157\n",
      "Epoch 33/40\n",
      "7306/7306 [==============================] - 2635s 361ms/step - loss: 0.1989 - val_loss: 0.3723\n",
      "\n",
      "Epoch 00033: val_loss did not improve from 0.37157\n",
      "\n",
      "Epoch 00033: ReduceLROnPlateau reducing learning rate to 0.00010000000474974513.\n",
      "Epoch 34/40\n",
      "7306/7306 [==============================] - 2612s 358ms/step - loss: 0.1804 - val_loss: 0.3557\n",
      "\n",
      "Epoch 00034: val_loss improved from 0.37157 to 0.35566, saving model to lstm_addm\n",
      "Epoch 35/40\n",
      "7306/7306 [==============================] - 2605s 357ms/step - loss: 0.1672 - val_loss: 0.3544\n",
      "\n",
      "Epoch 00035: val_loss improved from 0.35566 to 0.35441, saving model to lstm_addm\n",
      "Epoch 36/40\n",
      "7306/7306 [==============================] - 2620s 359ms/step - loss: 0.1631 - val_loss: 0.3545\n",
      "\n",
      "Epoch 00036: val_loss did not improve from 0.35441\n",
      "Epoch 37/40\n",
      "7306/7306 [==============================] - 2643s 362ms/step - loss: 0.1602 - val_loss: 0.3548\n",
      "\n",
      "Epoch 00037: val_loss did not improve from 0.35441\n",
      "\n",
      "Epoch 00037: ReduceLROnPlateau reducing learning rate to 1.0000000474974514e-05.\n",
      "Epoch 38/40\n",
      "7306/7306 [==============================] - 2605s 357ms/step - loss: 0.1561 - val_loss: 0.3548\n",
      "\n",
      "Epoch 00038: val_loss did not improve from 0.35441\n",
      "Epoch 39/40\n",
      "7306/7306 [==============================] - 2597s 356ms/step - loss: 0.1559 - val_loss: 0.3549\n",
      "\n",
      "Epoch 00039: val_loss did not improve from 0.35441\n",
      "\n",
      "Epoch 00039: ReduceLROnPlateau reducing learning rate to 1.0000000656873453e-06.\n",
      "Epoch 40/40\n",
      "7306/7306 [==============================] - 2726s 373ms/step - loss: 0.1553 - val_loss: 0.3549\n",
      "\n",
      "Epoch 00040: val_loss did not improve from 0.35441\n",
      "Epoch 00040: early stopping\n"
     ]
    },
    {
     "data": {
      "text/plain": [
       "<tensorflow.python.keras.callbacks.History at 0x2be914a7160>"
      ]
     },
     "execution_count": 21,
     "metadata": {},
     "output_type": "execute_result"
    }
   ],
   "source": [
    "#Model training\n",
    "model.fit(x = train_dataloader, \n",
    "          steps_per_epoch = train_dataloader.__len__(),\n",
    "          validation_data = val_dataloader,\n",
    "          validation_steps = val_dataloader.__len__(),\n",
    "          epochs = 40,\n",
    "          verbose = 1,\n",
    "          callbacks = callbacks)"
   ]
  },
  {
   "cell_type": "code",
   "execution_count": null,
   "metadata": {
    "id": "j6aepm955eGd",
    "outputId": "5fe1f29c-a2d2-4d1b-edee-c6654c9cc20b"
   },
   "outputs": [
    {
     "name": "stdout",
     "output_type": "stream",
     "text": [
      "The tensorboard extension is already loaded. To reload it, use:\n",
      "  %reload_ext tensorboard\n"
     ]
    },
    {
     "data": {
      "text/plain": [
       "Reusing TensorBoard on port 6006 (pid 12268), started 10 days, 21:56:02 ago. (Use '!kill 12268' to kill it.)"
      ]
     },
     "metadata": {},
     "output_type": "display_data"
    },
    {
     "data": {
      "text/html": [
       "\n",
       "      <iframe id=\"tensorboard-frame-393d71386522ae4d\" width=\"100%\" height=\"800\" frameborder=\"0\">\n",
       "      </iframe>\n",
       "      <script>\n",
       "        (function() {\n",
       "          const frame = document.getElementById(\"tensorboard-frame-393d71386522ae4d\");\n",
       "          const url = new URL(\"/\", window.location);\n",
       "          const port = 6006;\n",
       "          if (port) {\n",
       "            url.port = port;\n",
       "          }\n",
       "          frame.src = url;\n",
       "        })();\n",
       "      </script>\n",
       "    "
      ],
      "text/plain": [
       "<IPython.core.display.HTML object>"
      ]
     },
     "metadata": {},
     "output_type": "display_data"
    }
   ],
   "source": [
    "%load_ext tensorboard\n",
    "%tensorboard --logdir logs/fit/LSTM/20220726-214001/"
   ]
  },
  {
   "cell_type": "code",
   "execution_count": null,
   "metadata": {
    "id": "m35kGlge5eGd",
    "outputId": "673217da-f39a-49db-d5ad-595cfdc50008"
   },
   "outputs": [
    {
     "name": "stdout",
     "output_type": "stream",
     "text": [
      "2435/2435 [==============================] - 165s 68ms/step - loss: 0.3543\n"
     ]
    },
    {
     "data": {
      "text/plain": [
       "0.35427072644233704"
      ]
     },
     "execution_count": 24,
     "metadata": {},
     "output_type": "execute_result"
    }
   ],
   "source": [
    "test_steps = test_dataloader.__len__()\n",
    "model.evaluate(test_dataloader,steps=test_steps)"
   ]
  },
  {
   "cell_type": "markdown",
   "metadata": {
    "id": "EbH6-Omx5eGe"
   },
   "source": [
    "### Prediction"
   ]
  },
  {
   "cell_type": "code",
   "execution_count": null,
   "metadata": {
    "id": "YgKDEup25eGe"
   },
   "outputs": [],
   "source": [
    "class pred_Encoder_decoder(tf.keras.Model): \n",
    "    def __init__(self,*params):\n",
    "        super().__init__()\n",
    "        #Create encoder object\n",
    "        self.encoder = Encoder(inp_vocab_size = params[0], embedding_size = params[2], lstm_size = params[3], input_length = params[4])\n",
    "        #Create decoder object\n",
    "        self.decoder = Decoder(out_vocab_size = params[1], embedding_size = params[2], lstm_size = params[3], input_length = params[5])\n",
    "        #Intialize Dense layer(out_vocab_size) with activation='softmax'\n",
    "        self.dense = Dense(params[1], activation='softmax')\n",
    "    \n",
    "    def call(self, params, training = True):\n",
    "        '''\n",
    "        1. Pass the input sequence to Encoder layer -- Return encoder_output,encoder_final_state_h,encoder_final_state_c\n",
    "        2. Pass the target sequence to Decoder layer with intial states as encoder_final_state_h,encoder_final_state_C\n",
    "        3. Pass the decoder_outputs into Dense layer \n",
    "        \n",
    "        Return decoder_outputs\n",
    "        '''\n",
    "        enc_inp = params[0]\n",
    "        initial_state = self.encoder.initialize_states(1)\n",
    "        \n",
    "        output_state, enc_h, enc_c = self.encoder(enc_inp, initial_state)\n",
    "        pred = tf.expand_dims([tokenizer_dec.word_index['<sos>']], 0)\n",
    "        \n",
    "        dec_h = enc_h\n",
    "        dec_c = enc_c\n",
    "        \n",
    "        all_pred = []\n",
    "        \n",
    "        for t in range(max_dec):  \n",
    "            pred, dec_h,dec_c = self.decoder(pred, [dec_h, dec_c])\n",
    "            pred = self.dense(pred)\n",
    "            pred = tf.argmax(pred, axis = -1)\n",
    "            all_pred.append(pred)\n",
    "        \n",
    "        return all_pred"
   ]
  },
  {
   "cell_type": "code",
   "execution_count": null,
   "metadata": {
    "id": "MfwrvS8h5eGe"
   },
   "outputs": [],
   "source": [
    "pred_model = pred_Encoder_decoder(vocab_size_enc, \n",
    "                                  vocab_size_dec, \n",
    "                                  embedding_dim, \n",
    "                                  lstm_size, \n",
    "                                  max_enc, \n",
    "                                  max_dec, \n",
    "                                  dense_units)\n",
    "\n"
   ]
  },
  {
   "cell_type": "code",
   "execution_count": null,
   "metadata": {
    "id": "kIBjIEOY5eGe"
   },
   "outputs": [],
   "source": [
    "pred_model.compile(optimizer = 'Adam', loss = 'sparse_categorical_crossentropy')"
   ]
  },
  {
   "cell_type": "code",
   "execution_count": null,
   "metadata": {
    "id": "hCrB6RBc5eGe",
    "outputId": "c08ef497-0611-4399-ff69-13c1f3be0d13"
   },
   "outputs": [
    {
     "data": {
      "text/plain": [
       "<tensorflow.python.training.tracking.util.CheckpointLoadStatus at 0x27158964fa0>"
      ]
     },
     "execution_count": 20,
     "metadata": {},
     "output_type": "execute_result"
    }
   ],
   "source": [
    "#Load the previously trained model\n",
    "pred_model.load_weights('lstm_adam')"
   ]
  },
  {
   "cell_type": "code",
   "execution_count": null,
   "metadata": {
    "id": "m_GO_2215eGe"
   },
   "outputs": [],
   "source": [
    "def predict(input_sequence):\n",
    "    '''\n",
    "    1. Given the input sentence, convert the sentence into integers using the tokenizer used earlier\n",
    "    2. Pass the input_sequence to the encoder. we get encoder_outputs, last time step hidden and cell state\n",
    "    3. Initialize index of <start> as input to decoder. and encoder final states as input_states to the decoder\n",
    "    4. till we reach max_length of decoder or till the model predicted word <end>:\n",
    "         predicted_out,state_h,state_c=model.layers[1](dec_input,states)\n",
    "         pass the predicted_out to the dense layer\n",
    "         update the states=[state_h,state_c]\n",
    "         And get the index of the word with the maximum probability of the dense layer output, using the tokenizer(word index) get the word and then store it in a string.\n",
    "         Update the input_to_decoder with current predictions\n",
    "    5. Return the predicted sentence\n",
    "    '''\n",
    "    seq = input_sequence\n",
    "    seq = '<sos> '+seq+' <eos>'\n",
    "    seq = tokenizer_enc.texts_to_sequences([seq])\n",
    "    \n",
    "    seq = pad_sequences(seq, maxlen=max_dec, padding='post', dtype = np.int32)\n",
    "    pred = pred_model.predict(tf.expand_dims(seq, 0))\n",
    "    output = []\n",
    "    for i in pred:\n",
    "        word = tokenizer_dec.index_word[i[0][0]]\n",
    "        if word == '<eos>':\n",
    "            break\n",
    "        output.append(word)\n",
    "    return ' '.join(output)"
   ]
  },
  {
   "cell_type": "code",
   "execution_count": null,
   "metadata": {
    "id": "_WEyY-zB5eGf",
    "outputId": "d966aa5c-d562-47ac-d6db-b666956a12ec"
   },
   "outputs": [
    {
     "name": "stdout",
     "output_type": "stream",
     "text": [
      "input :  I also\n",
      "predicted output :  need to have to be in the attached credit worksheet with a master firm purchase sale inc under may\n"
     ]
    }
   ],
   "source": [
    "sentence = 'I also'\n",
    "print('input : ', sentence)\n",
    "\n",
    "result = predict(sentence)\n",
    "print('predicted output : ',result)\n"
   ]
  },
  {
   "cell_type": "code",
   "execution_count": null,
   "metadata": {
    "id": "qFEK5TEU5eGf",
    "outputId": "4d4b9e09-6861-45d6-c5a4-5ff6f242d108"
   },
   "outputs": [
    {
     "name": "stdout",
     "output_type": "stream",
     "text": [
      "input :  I also am including a draft of an announcement\n",
      "predicted output :  today\n"
     ]
    }
   ],
   "source": [
    "sentence = 'I also am including a draft of an announcement'\n",
    "print('input : ', sentence)\n",
    "\n",
    "result = predict(sentence)\n",
    "print('predicted output : ',result)\n"
   ]
  },
  {
   "cell_type": "markdown",
   "metadata": {
    "id": "70YWBdSI5eGf"
   },
   "source": [
    "### Bleu score"
   ]
  },
  {
   "cell_type": "code",
   "execution_count": null,
   "metadata": {
    "id": "y1rsXpEV5eGf"
   },
   "outputs": [],
   "source": [
    "def BLEUScore():\n",
    "    BLEUscore_list = []\n",
    "    for x in  test['body_enc_seq'].sample(10000):\n",
    "        reference = x.split()\n",
    "        hypothesis = predict(x)\n",
    "        BLEUscore = nltk.translate.bleu_score.sentence_bleu([reference], hypothesis.split())\n",
    "        BLEUscore_list.append(BLEUscore)\n",
    "        \n",
    "    return sum(BLEUscore_list)/len(BLEUscore_list)"
   ]
  },
  {
   "cell_type": "code",
   "execution_count": null,
   "metadata": {
    "id": "KkMugdau5eGf",
    "outputId": "3291fc50-965b-4c5d-dfe9-03fbda81b1e1"
   },
   "outputs": [
    {
     "name": "stdout",
     "output_type": "stream",
     "text": [
      "0.4841624183167232\n"
     ]
    }
   ],
   "source": [
    "bleuscore_lstm =BLEUScore()\n",
    "\n",
    "print(bleuscore_lstm)"
   ]
  },
  {
   "cell_type": "code",
   "execution_count": null,
   "metadata": {
    "id": "o6pCEhRH5eGf"
   },
   "outputs": [],
   "source": []
  },
  {
   "cell_type": "markdown",
   "metadata": {
    "id": "m_am_RDX5eGf"
   },
   "source": [
    "### 1.2. LSTM with RMSProp Optimizer"
   ]
  },
  {
   "cell_type": "code",
   "execution_count": null,
   "metadata": {
    "id": "t-aplflf5eGg"
   },
   "outputs": [],
   "source": [
    "model2 = Encoder_decoder(vocab_size_enc, \n",
    "                        vocab_size_dec, \n",
    "                        embedding_dim, \n",
    "                        lstm_size, \n",
    "                        max_enc, \n",
    "                        max_dec, \n",
    "                        dense_units)"
   ]
  },
  {
   "cell_type": "code",
   "execution_count": null,
   "metadata": {
    "id": "FvypWoTX5eGg"
   },
   "outputs": [],
   "source": [
    "model2.compile(optimizer = 'RMSprop', loss = 'sparse_categorical_crossentropy')"
   ]
  },
  {
   "cell_type": "code",
   "execution_count": null,
   "metadata": {
    "id": "kXsbzTJu5eGg"
   },
   "outputs": [],
   "source": [
    "import datetime\n",
    "\n",
    "log_dir=\"logs/fit/LSTM2/\" + datetime.datetime.now().strftime(\"%Y%m%d-%H%M%S\")\n",
    "\n",
    "#A callback is a function passed as an argument to another function. This technique allows a function to call another function.\n",
    "callbacks = [ModelCheckpoint(\"lstm_RMSprop\", save_best_only= True, verbose = 1),\n",
    "             TensorBoard(log_dir = log_dir, histogram_freq=1, write_graph=True),\n",
    "             EarlyStopping(monitor='val_loss',patience = 5, verbose = 1),\n",
    "             ReduceLROnPlateau(monitor='val_loss',patience = 2, verbose = 1)]\n"
   ]
  },
  {
   "cell_type": "code",
   "execution_count": null,
   "metadata": {
    "id": "od6m3B0P5eGg",
    "outputId": "83667fb2-27f9-47f4-8cf8-57e479ac1a29"
   },
   "outputs": [
    {
     "name": "stdout",
     "output_type": "stream",
     "text": [
      "Epoch 1/40\n",
      "7306/7306 [==============================] - 2516s 344ms/step - loss: 1.3382 - val_loss: 1.0411\n",
      "\n",
      "Epoch 00001: val_loss improved from inf to 1.04105, saving model to lstm_RMSprop\n",
      "Epoch 2/40\n",
      "7306/7306 [==============================] - 2375s 325ms/step - loss: 1.0179 - val_loss: 0.9891\n",
      "\n",
      "Epoch 00002: val_loss improved from 1.04105 to 0.98906, saving model to lstm_RMSprop\n",
      "Epoch 3/40\n",
      "7306/7306 [==============================] - 2368s 324ms/step - loss: 0.9757 - val_loss: 0.9637\n",
      "\n",
      "Epoch 00003: val_loss improved from 0.98906 to 0.96368, saving model to lstm_RMSprop\n",
      "Epoch 4/40\n",
      "7306/7306 [==============================] - 2359s 323ms/step - loss: 0.9428 - val_loss: 0.9341\n",
      "\n",
      "Epoch 00004: val_loss improved from 0.96368 to 0.93409, saving model to lstm_RMSprop\n",
      "Epoch 5/40\n",
      "7306/7306 [==============================] - 2340s 320ms/step - loss: 0.9062 - val_loss: 0.9010\n",
      "\n",
      "Epoch 00005: val_loss improved from 0.93409 to 0.90101, saving model to lstm_RMSprop\n",
      "Epoch 6/40\n",
      "7306/7306 [==============================] - 2365s 324ms/step - loss: 0.8738 - val_loss: 0.8785\n",
      "\n",
      "Epoch 00006: val_loss improved from 0.90101 to 0.87848, saving model to lstm_RMSprop\n",
      "Epoch 7/40\n",
      "7306/7306 [==============================] - 2432s 333ms/step - loss: 0.8449 - val_loss: 0.8587\n",
      "\n",
      "Epoch 00007: val_loss improved from 0.87848 to 0.85865, saving model to lstm_RMSprop\n",
      "Epoch 8/40\n",
      "7306/7306 [==============================] - 2378s 325ms/step - loss: 0.8263 - val_loss: 0.8403\n",
      "\n",
      "Epoch 00008: val_loss improved from 0.85865 to 0.84031, saving model to lstm_RMSprop\n",
      "Epoch 9/40\n",
      "7306/7306 [==============================] - 2372s 325ms/step - loss: 0.8001 - val_loss: 0.8210\n",
      "\n",
      "Epoch 00009: val_loss improved from 0.84031 to 0.82100, saving model to lstm_RMSprop\n",
      "Epoch 10/40\n",
      "7306/7306 [==============================] - 2357s 323ms/step - loss: 0.7795 - val_loss: 0.8087\n",
      "\n",
      "Epoch 00010: val_loss improved from 0.82100 to 0.80871, saving model to lstm_RMSprop\n",
      "Epoch 11/40\n",
      "7306/7306 [==============================] - 2414s 330ms/step - loss: 0.7628 - val_loss: 0.8004\n",
      "\n",
      "Epoch 00011: val_loss improved from 0.80871 to 0.80042, saving model to lstm_RMSprop\n",
      "Epoch 12/40\n",
      "7306/7306 [==============================] - 2407s 330ms/step - loss: 0.7490 - val_loss: 0.7923\n",
      "\n",
      "Epoch 00012: val_loss improved from 0.80042 to 0.79229, saving model to lstm_RMSprop\n",
      "Epoch 13/40\n",
      "7306/7306 [==============================] - 2437s 334ms/step - loss: 0.7414 - val_loss: 0.7834\n",
      "\n",
      "Epoch 00013: val_loss improved from 0.79229 to 0.78345, saving model to lstm_RMSprop\n",
      "Epoch 14/40\n",
      "7306/7306 [==============================] - 2374s 325ms/step - loss: 0.7255 - val_loss: 0.7741\n",
      "\n",
      "Epoch 00014: val_loss improved from 0.78345 to 0.77410, saving model to lstm_RMSprop\n",
      "Epoch 15/40\n",
      "7306/7306 [==============================] - 2358s 323ms/step - loss: 0.7137 - val_loss: 0.7657\n",
      "\n",
      "Epoch 00015: val_loss improved from 0.77410 to 0.76572, saving model to lstm_RMSprop\n",
      "Epoch 16/40\n",
      "7306/7306 [==============================] - 2358s 323ms/step - loss: 0.7031 - val_loss: 0.7602\n",
      "\n",
      "Epoch 00016: val_loss improved from 0.76572 to 0.76024, saving model to lstm_RMSprop\n",
      "Epoch 17/40\n",
      "7306/7306 [==============================] - 2362s 323ms/step - loss: 0.6959 - val_loss: 0.7502\n",
      "\n",
      "Epoch 00017: val_loss improved from 0.76024 to 0.75018, saving model to lstm_RMSprop\n",
      "Epoch 18/40\n",
      "7306/7306 [==============================] - 2367s 324ms/step - loss: 0.6818 - val_loss: 0.7423\n",
      "\n",
      "Epoch 00018: val_loss improved from 0.75018 to 0.74229, saving model to lstm_RMSprop\n",
      "Epoch 19/40\n",
      "7306/7306 [==============================] - 25663s 4s/step - loss: 0.6726 - val_loss: 0.7375\n",
      "\n",
      "Epoch 00019: val_loss improved from 0.74229 to 0.73746, saving model to lstm_RMSprop\n",
      "Epoch 20/40\n",
      "7306/7306 [==============================] - 2371s 325ms/step - loss: 0.6660 - val_loss: 0.7330\n",
      "\n",
      "Epoch 00020: val_loss improved from 0.73746 to 0.73297, saving model to lstm_RMSprop\n",
      "Epoch 21/40\n",
      "7306/7306 [==============================] - 2379s 326ms/step - loss: 0.6596 - val_loss: 0.7278\n",
      "\n",
      "Epoch 00021: val_loss improved from 0.73297 to 0.72775, saving model to lstm_RMSprop\n",
      "Epoch 22/40\n",
      "7306/7306 [==============================] - 8813s 1s/step - loss: 0.6531 - val_loss: 0.7268\n",
      "\n",
      "Epoch 00022: val_loss improved from 0.72775 to 0.72684, saving model to lstm_RMSprop\n",
      "Epoch 23/40\n",
      "7306/7306 [==============================] - 2436s 333ms/step - loss: 0.6495 - val_loss: 0.7238\n",
      "\n",
      "Epoch 00023: val_loss improved from 0.72684 to 0.72376, saving model to lstm_RMSprop\n",
      "Epoch 24/40\n",
      "7306/7306 [==============================] - 2469s 338ms/step - loss: 0.6439 - val_loss: 0.7195\n",
      "\n",
      "Epoch 00024: val_loss improved from 0.72376 to 0.71950, saving model to lstm_RMSprop\n",
      "Epoch 25/40\n",
      "7306/7306 [==============================] - 2515s 344ms/step - loss: 0.6372 - val_loss: 0.7146\n",
      "\n",
      "Epoch 00025: val_loss improved from 0.71950 to 0.71463, saving model to lstm_RMSprop\n",
      "Epoch 26/40\n",
      "7306/7306 [==============================] - 2378s 326ms/step - loss: 0.6278 - val_loss: 0.7112\n",
      "\n",
      "Epoch 00026: val_loss improved from 0.71463 to 0.71117, saving model to lstm_RMSprop\n",
      "Epoch 27/40\n",
      "7306/7306 [==============================] - 2357s 323ms/step - loss: 0.6233 - val_loss: 0.7064\n",
      "\n",
      "Epoch 00027: val_loss improved from 0.71117 to 0.70643, saving model to lstm_RMSprop\n",
      "Epoch 28/40\n",
      "7306/7306 [==============================] - 2390s 327ms/step - loss: 0.6151 - val_loss: 0.7040\n",
      "\n",
      "Epoch 00028: val_loss improved from 0.70643 to 0.70399, saving model to lstm_RMSprop\n",
      "Epoch 29/40\n",
      "7306/7306 [==============================] - 2394s 328ms/step - loss: 0.6116 - val_loss: 0.7004\n",
      "\n",
      "Epoch 00029: val_loss improved from 0.70399 to 0.70037, saving model to lstm_RMSprop\n",
      "Epoch 30/40\n",
      "7306/7306 [==============================] - 2369s 324ms/step - loss: 0.6045 - val_loss: 0.6969\n",
      "\n",
      "Epoch 00030: val_loss improved from 0.70037 to 0.69695, saving model to lstm_RMSprop\n",
      "Epoch 31/40\n",
      "7306/7306 [==============================] - 2473s 339ms/step - loss: 0.6002 - val_loss: 0.6971\n",
      "\n",
      "Epoch 00031: val_loss did not improve from 0.69695\n",
      "Epoch 32/40\n",
      "7306/7306 [==============================] - 2495s 342ms/step - loss: 0.5959 - val_loss: 0.6935\n",
      "\n",
      "Epoch 00032: val_loss improved from 0.69695 to 0.69345, saving model to lstm_RMSprop\n",
      "Epoch 33/40\n",
      "7306/7306 [==============================] - 2412s 330ms/step - loss: 0.5911 - val_loss: 0.6911\n",
      "\n",
      "Epoch 00033: val_loss improved from 0.69345 to 0.69107, saving model to lstm_RMSprop\n",
      "Epoch 34/40\n",
      "7306/7306 [==============================] - 2396s 328ms/step - loss: 0.5878 - val_loss: 0.6886\n",
      "\n",
      "Epoch 00034: val_loss improved from 0.69107 to 0.68860, saving model to lstm_RMSprop\n",
      "Epoch 35/40\n",
      "7306/7306 [==============================] - 2370s 324ms/step - loss: 0.5865 - val_loss: 0.6866\n",
      "\n",
      "Epoch 00035: val_loss improved from 0.68860 to 0.68660, saving model to lstm_RMSprop\n",
      "Epoch 36/40\n",
      "7306/7306 [==============================] - 2394s 328ms/step - loss: 0.5784 - val_loss: 0.6840\n",
      "\n",
      "Epoch 00036: val_loss improved from 0.68660 to 0.68401, saving model to lstm_RMSprop\n",
      "Epoch 37/40\n",
      "7306/7306 [==============================] - 2361s 323ms/step - loss: 0.5757 - val_loss: 0.6825\n",
      "\n",
      "Epoch 00037: val_loss improved from 0.68401 to 0.68247, saving model to lstm_RMSprop\n",
      "Epoch 38/40\n",
      "7306/7306 [==============================] - 6353s 870ms/step - loss: 0.5717 - val_loss: 0.6798\n",
      "\n",
      "Epoch 00038: val_loss improved from 0.68247 to 0.67984, saving model to lstm_RMSprop\n",
      "Epoch 39/40\n",
      "7306/7306 [==============================] - 2334s 320ms/step - loss: 0.5700 - val_loss: 0.6778\n",
      "\n",
      "Epoch 00039: val_loss improved from 0.67984 to 0.67775, saving model to lstm_RMSprop\n",
      "Epoch 40/40\n",
      "7306/7306 [==============================] - 2332s 319ms/step - loss: 0.5640 - val_loss: 0.6775\n",
      "\n",
      "Epoch 00040: val_loss improved from 0.67775 to 0.67749, saving model to lstm_RMSprop\n"
     ]
    },
    {
     "data": {
      "text/plain": [
       "<tensorflow.python.keras.callbacks.History at 0x24c83e8c400>"
      ]
     },
     "execution_count": 22,
     "metadata": {},
     "output_type": "execute_result"
    }
   ],
   "source": [
    "#Model training\n",
    "model2.fit(x = train_dataloader, \n",
    "          steps_per_epoch = train_dataloader.__len__(),\n",
    "          validation_data = val_dataloader,\n",
    "          validation_steps = val_dataloader.__len__(),\n",
    "          epochs = 40,\n",
    "          verbose = 1,\n",
    "          callbacks = callbacks)"
   ]
  },
  {
   "cell_type": "code",
   "execution_count": null,
   "metadata": {
    "id": "M8WWq73d5eGg",
    "outputId": "b53ab631-cb2f-4c46-a79b-37d1325f5377"
   },
   "outputs": [
    {
     "data": {
      "text/plain": [
       "Reusing TensorBoard on port 6006 (pid 27900), started 0:01:00 ago. (Use '!kill 27900' to kill it.)"
      ]
     },
     "metadata": {},
     "output_type": "display_data"
    },
    {
     "data": {
      "text/html": [
       "\n",
       "      <iframe id=\"tensorboard-frame-84292b210a7eed12\" width=\"100%\" height=\"800\" frameborder=\"0\">\n",
       "      </iframe>\n",
       "      <script>\n",
       "        (function() {\n",
       "          const frame = document.getElementById(\"tensorboard-frame-84292b210a7eed12\");\n",
       "          const url = new URL(\"/\", window.location);\n",
       "          const port = 6006;\n",
       "          if (port) {\n",
       "            url.port = port;\n",
       "          }\n",
       "          frame.src = url;\n",
       "        })();\n",
       "      </script>\n",
       "    "
      ],
      "text/plain": [
       "<IPython.core.display.HTML object>"
      ]
     },
     "metadata": {},
     "output_type": "display_data"
    }
   ],
   "source": [
    "%reload_ext tensorboard\n",
    "\n",
    "%tensorboard --logdir logs/fit/LSTM2/20220730-205557/"
   ]
  },
  {
   "cell_type": "code",
   "execution_count": null,
   "metadata": {
    "id": "ZwlU8PZ25eGg",
    "outputId": "2a0209fc-7880-4dae-e5f5-4cabffab3a43"
   },
   "outputs": [
    {
     "name": "stdout",
     "output_type": "stream",
     "text": [
      "2435/2435 [==============================] - 232s 95ms/step - loss: 0.6798\n"
     ]
    },
    {
     "data": {
      "text/plain": [
       "0.6797993183135986"
      ]
     },
     "execution_count": 35,
     "metadata": {},
     "output_type": "execute_result"
    }
   ],
   "source": [
    "test_steps = test_dataloader.__len__()\n",
    "model2.evaluate(test_dataloader,steps=test_steps)"
   ]
  },
  {
   "cell_type": "markdown",
   "metadata": {
    "id": "WXTgKMSW5eGg"
   },
   "source": [
    "### Prediction"
   ]
  },
  {
   "cell_type": "code",
   "execution_count": null,
   "metadata": {
    "id": "zIYYSL745eGg"
   },
   "outputs": [],
   "source": [
    "pred_model2 = pred_Encoder_decoder(vocab_size_enc, \n",
    "                                  vocab_size_dec, \n",
    "                                  embedding_dim, \n",
    "                                  lstm_size, \n",
    "                                  max_enc, \n",
    "                                  max_dec, \n",
    "                                  dense_units)\n",
    "\n"
   ]
  },
  {
   "cell_type": "code",
   "execution_count": null,
   "metadata": {
    "id": "XXxV0HdE5eGh"
   },
   "outputs": [],
   "source": [
    "pred_model2.compile(optimizer = 'RMSprop', loss = 'sparse_categorical_crossentropy')"
   ]
  },
  {
   "cell_type": "code",
   "execution_count": null,
   "metadata": {
    "id": "NAPYmqCn5eGh",
    "outputId": "328d0019-442e-46bd-f729-ab7fbd49abc5"
   },
   "outputs": [
    {
     "data": {
      "text/plain": [
       "<tensorflow.python.training.tracking.util.CheckpointLoadStatus at 0x271babc5d90>"
      ]
     },
     "execution_count": 26,
     "metadata": {},
     "output_type": "execute_result"
    }
   ],
   "source": [
    "#Load the previously trained model\n",
    "pred_model2.load_weights('lstm_RMSprop')"
   ]
  },
  {
   "cell_type": "code",
   "execution_count": null,
   "metadata": {
    "id": "us0UHh9i5eGh"
   },
   "outputs": [],
   "source": [
    "def predict(input_sequence):\n",
    "        \n",
    "    '''\n",
    "    1. Given the input sentence, convert the sentence into integers using the tokenizer used earlier\n",
    "    2. Pass the input_sequence to the encoder. we get encoder_outputs, last time step hidden and cell state\n",
    "    3. Initialize index of <start> as input to decoder. and encoder final states as input_states to the decoder\n",
    "    4. till we reach max_length of decoder or till the model predicted word <end>:\n",
    "         predicted_out,state_h,state_c=model.layers[1](dec_input,states)\n",
    "         pass the predicted_out to the dense layer\n",
    "         update the states=[state_h,state_c]\n",
    "         And get the index of the word with the maximum probability of the dense layer output, using the tokenizer(word index) get the word and then store it in a string.\n",
    "         Update the input_to_decoder with current predictions\n",
    "    5. Return the predicted sentence\n",
    "    '''\n",
    "    \n",
    "    \n",
    "    seq = input_sequence\n",
    "    seq = '<sos> '+seq+' <eos>'\n",
    "    seq = tokenizer_enc.texts_to_sequences([seq])\n",
    "    \n",
    "    seq = pad_sequences(seq, maxlen=max_dec, padding='post', dtype = np.int32)\n",
    "    pred = pred_model2.predict(tf.expand_dims(seq, 0))\n",
    "    output = []\n",
    "    for i in pred:\n",
    "        word = tokenizer_dec.index_word[i[0][0]]\n",
    "        if word == '<eos>':\n",
    "            break\n",
    "        output.append(word)\n",
    "    return ' '.join(output)"
   ]
  },
  {
   "cell_type": "code",
   "execution_count": null,
   "metadata": {
    "id": "GgXTuQ1N5eGh"
   },
   "outputs": [],
   "source": []
  },
  {
   "cell_type": "code",
   "execution_count": null,
   "metadata": {
    "id": "OnhQTy2D5eGh",
    "outputId": "ba8b1e4d-01c4-4d25-d9a4-3d77985d3bbf"
   },
   "outputs": [
    {
     "name": "stdout",
     "output_type": "stream",
     "text": [
      "input :  I also\n",
      "predicted output :  have sure that you want to go to the following the enron has our power trading isda and a same form for that you can be the right hand to get to credit help\n"
     ]
    }
   ],
   "source": [
    "sentence = 'I also'\n",
    "print('input : ', sentence)\n",
    "\n",
    "result = predict(sentence)\n",
    "print('predicted output : ',result)\n"
   ]
  },
  {
   "cell_type": "code",
   "execution_count": null,
   "metadata": {
    "id": "DATgJWok5eGh",
    "outputId": "1b7cad94-b0ef-4873-f6de-ca95735a75e6"
   },
   "outputs": [
    {
     "name": "stdout",
     "output_type": "stream",
     "text": [
      "input :  I also am including a draft of an announcement\n",
      "predicted output :  of the last month st cc click on the following documents click here for\n"
     ]
    }
   ],
   "source": [
    "sentence = 'I also am including a draft of an announcement'\n",
    "print('input : ', sentence)\n",
    "\n",
    "result = predict(sentence)\n",
    "print('predicted output : ',result)\n"
   ]
  },
  {
   "cell_type": "markdown",
   "metadata": {
    "id": "b1Dut1aH5eGi"
   },
   "source": [
    "### Bleu score"
   ]
  },
  {
   "cell_type": "code",
   "execution_count": null,
   "metadata": {
    "id": "FW_DDuX85eGi"
   },
   "outputs": [],
   "source": [
    "def BLEUScore():\n",
    "    BLEUscore_list = []\n",
    "    for x in  test['body_enc_seq'].sample(10000):\n",
    "        reference = x.split()\n",
    "        hypothesis = predict(x)\n",
    "        BLEUscore = nltk.translate.bleu_score.sentence_bleu([reference], hypothesis.split())\n",
    "        BLEUscore_list.append(BLEUscore)\n",
    "        \n",
    "    return sum(BLEUscore_list)/len(BLEUscore_list)"
   ]
  },
  {
   "cell_type": "code",
   "execution_count": null,
   "metadata": {
    "id": "W7kNBHrl5eGi",
    "outputId": "01f566d7-dfdd-4671-b116-565f7169914c"
   },
   "outputs": [
    {
     "name": "stdout",
     "output_type": "stream",
     "text": [
      "0.3962702464798132\n"
     ]
    }
   ],
   "source": [
    "bleuscore_lstm2 =BLEUScore()\n",
    "\n",
    "print(bleuscore_lstm2)"
   ]
  },
  {
   "cell_type": "code",
   "execution_count": null,
   "metadata": {
    "id": "OZcMZLje5eGi"
   },
   "outputs": [],
   "source": []
  },
  {
   "cell_type": "code",
   "execution_count": null,
   "metadata": {
    "id": "eH2RMgH8fgEL"
   },
   "outputs": [],
   "source": []
  },
  {
   "cell_type": "markdown",
   "metadata": {
    "id": "De3_fqs5fgEL"
   },
   "source": [
    "# 2. LSTM with Attention layer"
   ]
  },
  {
   "cell_type": "code",
   "execution_count": 20,
   "metadata": {
    "id": "bWZWj5PwfgEL"
   },
   "outputs": [],
   "source": [
    "batch_size=32\n",
    "lstm_size=128\n",
    "max_dec = 50\n",
    "max_enc = 29\n",
    "embedding_dim = 100\n",
    "dense_units = 256\n",
    "latent_dim=192\n"
   ]
  },
  {
   "cell_type": "code",
   "execution_count": 21,
   "metadata": {
    "colab": {
     "base_uri": "https://localhost:8080/"
    },
    "id": "0-eoTtGxfgEL",
    "outputId": "132476fe-9381-44d5-862f-cb259b433f4f"
   },
   "outputs": [
    {
     "name": "stdout",
     "output_type": "stream",
     "text": [
      "Model: \"model_1\"\n",
      "__________________________________________________________________________________________________\n",
      " Layer (type)                   Output Shape         Param #     Connected to                     \n",
      "==================================================================================================\n",
      " input_3 (InputLayer)           [(None, 29)]         0           []                               \n",
      "                                                                                                  \n",
      " input_4 (InputLayer)           [(None, None)]       0           []                               \n",
      "                                                                                                  \n",
      " embedding_2 (Embedding)        (None, 29, 100)      27212400    ['input_3[0][0]']                \n",
      "                                                                                                  \n",
      " embedding_3 (Embedding)        (None, None, 100)    3673000     ['input_4[0][0]']                \n",
      "                                                                                                  \n",
      " lstm_2 (LSTM)                  [(32, 29, 128),      117248      ['embedding_2[0][0]']            \n",
      "                                 (32, 128),                                                       \n",
      "                                 (32, 128)]                                                       \n",
      "                                                                                                  \n",
      " lstm_3 (LSTM)                  [(32, None, 128),    117248      ['embedding_3[0][0]',            \n",
      "                                 (32, 128),                       'lstm_2[0][1]',                 \n",
      "                                 (32, 128)]                       'lstm_2[0][2]']                 \n",
      "                                                                                                  \n",
      " Dot_1 (Dot)                    (32, None, 29)       0           ['lstm_3[0][0]',                 \n",
      "                                                                  'lstm_2[0][0]']                 \n",
      "                                                                                                  \n",
      " attention (Activation)         (32, None, 29)       0           ['Dot_1[0][0]']                  \n",
      "                                                                                                  \n",
      " Dot_2 (Dot)                    (32, None, 128)      0           ['attention[0][0]',              \n",
      "                                                                  'lstm_2[0][0]']                 \n",
      "                                                                                                  \n",
      " Concatenate (Concatenate)      (32, None, 256)      0           ['Dot_2[0][0]',                  \n",
      "                                                                  'lstm_3[0][0]']                 \n",
      "                                                                                                  \n",
      " dense_1 (Dense)                (32, None, 36730)    9439610     ['Concatenate[0][0]']            \n",
      "                                                                                                  \n",
      "==================================================================================================\n",
      "Total params: 40,559,506\n",
      "Trainable params: 40,559,506\n",
      "Non-trainable params: 0\n",
      "__________________________________________________________________________________________________\n"
     ]
    }
   ],
   "source": [
    "\n",
    "state=[tf.zeros((batch_size, lstm_size)), tf.zeros((batch_size, lstm_size))]\n",
    "\n",
    "# LSTM Encoder\n",
    "enc_inp = keras.layers.Input(shape=(max_enc,))\n",
    "encoder_embedding = keras.layers.Embedding(input_dim=vocab_size_enc, output_dim=embedding_dim,input_length = max_enc)\n",
    "encoder_lstm = keras.layers.LSTM(lstm_size, return_sequences = True, return_state = True)\n",
    "\n",
    "output_state, enc_h, enc_c = encoder_lstm(encoder_embedding(enc_inp),initial_state=state)\n",
    "\n",
    "# LSTM Decoder\n",
    "dec_inp = keras.layers.Input(shape=(None,))\n",
    "decoder_embedding = keras.layers.Embedding(input_dim=vocab_size_dec, output_dim=embedding_dim,input_length = max_dec)\n",
    "decoder_lstm = keras.layers.LSTM(units=lstm_size , return_sequences = True, return_state = True)\n",
    "\n",
    "output, _ , _ = decoder_lstm(decoder_embedding(dec_inp), initial_state=[enc_h,enc_c])\n",
    "\n",
    "\n",
    "################ define attention  #####################\n",
    "attention = dot([output, output_state], axes=[2, 2],name = 'Dot_1')\n",
    "attention = Activation('softmax', name='attention')(attention)\n",
    "context = dot([attention, output_state], axes=[2,1], name='Dot_2')\n",
    "decoder_combined_context = concatenate([context, output],name='Concatenate')\n",
    "output = Dense(vocab_size_dec, activation=\"softmax\")(decoder_combined_context)\n",
    "final_output = (output)\n",
    "\n",
    "# Define the model that uses the Encoder and the Decoder\n",
    "model_lstm = keras.models.Model([enc_inp, dec_inp], final_output)\n",
    "model_lstm.summary()"
   ]
  },
  {
   "cell_type": "code",
   "execution_count": 22,
   "metadata": {
    "colab": {
     "base_uri": "https://localhost:8080/",
     "height": 856
    },
    "id": "9yt5rciCfgEL",
    "outputId": "4755621c-9af9-41fc-d62c-fec8e693e7a9"
   },
   "outputs": [
    {
     "data": {
      "image/png": "[encoded data removed]",
      "text/plain": [
       "<IPython.core.display.Image object>"
      ]
     },
     "execution_count": 22,
     "metadata": {},
     "output_type": "execute_result"
    }
   ],
   "source": [
    "tf.keras.utils.plot_model(model_lstm,to_file='model_lstm_attention.png')"
   ]
  },
  {
   "cell_type": "code",
   "execution_count": 23,
   "metadata": {
    "colab": {
     "base_uri": "https://localhost:8080/"
    },
    "id": "A8Zm8gcOfgEL",
    "outputId": "6ac8cd7d-7993-4065-92e6-c61c9722d45c"
   },
   "outputs": [
    {
     "name": "stdout",
     "output_type": "stream",
     "text": [
      "total 1114900\n",
      "drwxr-xr-x 1 root root       4096 Aug  3 20:21 sample_data\n",
      "-rw-r--r-- 1 root root  101363371 Aug 10 16:14 Sequence_data.pickle\n",
      "-rw-r--r-- 1 root root 1037962819 Aug 10 16:15 glove.6B.300d.txt\n",
      "-rw-r--r-- 1 root root    1069446 Aug 10 16:16 tokenizer_enc.pickle\n",
      "-rw-r--r-- 1 root root    1179129 Aug 10 16:16 tokenizer_dec.pickle\n",
      "-rw-r--r-- 1 root root          8 Aug 10 16:16 vocab_size_enc.pickle\n",
      "-rw-r--r-- 1 root root          6 Aug 10 16:16 vocab_size_dec.pickle\n",
      "-rw-r--r-- 1 root root      18712 Aug 10 16:17 model_lstm.png\n",
      "-rw-r--r-- 1 root root      39658 Aug 10 16:17 model_lstm_attention.png\n"
     ]
    }
   ],
   "source": [
    "!ls -ltr"
   ]
  },
  {
   "cell_type": "code",
   "execution_count": 24,
   "metadata": {
    "colab": {
     "base_uri": "https://localhost:8080/",
     "height": 17
    },
    "id": "kq_OMbpkfgEM",
    "outputId": "2536cfba-80c0-4192-804d-7b30c7e5c3ee"
   },
   "outputs": [
    {
     "data": {
      "application/javascript": [
       "\n",
       "    async function download(id, filename, size) {\n",
       "      if (!google.colab.kernel.accessAllowed) {\n",
       "        return;\n",
       "      }\n",
       "      const div = document.createElement('div');\n",
       "      const label = document.createElement('label');\n",
       "      label.textContent = `Downloading \"${filename}\": `;\n",
       "      div.appendChild(label);\n",
       "      const progress = document.createElement('progress');\n",
       "      progress.max = size;\n",
       "      div.appendChild(progress);\n",
       "      document.body.appendChild(div);\n",
       "\n",
       "      const buffers = [];\n",
       "      let downloaded = 0;\n",
       "\n",
       "      const channel = await google.colab.kernel.comms.open(id);\n",
       "      // Send a message to notify the kernel that we're ready.\n",
       "      channel.send({})\n",
       "\n",
       "      for await (const message of channel.messages) {\n",
       "        // Send a message to notify the kernel that we're ready.\n",
       "        channel.send({})\n",
       "        if (message.buffers) {\n",
       "          for (const buffer of message.buffers) {\n",
       "            buffers.push(buffer);\n",
       "            downloaded += buffer.byteLength;\n",
       "            progress.value = downloaded;\n",
       "          }\n",
       "        }\n",
       "      }\n",
       "      const blob = new Blob(buffers, {type: 'application/binary'});\n",
       "      const a = document.createElement('a');\n",
       "      a.href = window.URL.createObjectURL(blob);\n",
       "      a.download = filename;\n",
       "      div.appendChild(a);\n",
       "      a.click();\n",
       "      div.remove();\n",
       "    }\n",
       "  "
      ],
      "text/plain": [
       "<IPython.core.display.Javascript object>"
      ]
     },
     "metadata": {},
     "output_type": "display_data"
    },
    {
     "data": {
      "application/javascript": [
       "download(\"download_dc2607c6-ac00-44ef-bd48-d6533f253325\", \"model_lstm_attention.png\", 39658)"
      ],
      "text/plain": [
       "<IPython.core.display.Javascript object>"
      ]
     },
     "metadata": {},
     "output_type": "display_data"
    }
   ],
   "source": [
    "from google.colab import files\n",
    "files.download('model_lstm_attention.png')"
   ]
  },
  {
   "cell_type": "markdown",
   "metadata": {
    "id": "bmizB31dfgEM"
   },
   "source": [
    "### Encoder"
   ]
  },
  {
   "cell_type": "code",
   "execution_count": null,
   "metadata": {
    "id": "RB4Qj7WTfgEM"
   },
   "outputs": [],
   "source": [
    "\n",
    "class Encoder(tf.keras.layers.Layer):\n",
    "    '''\n",
    "    Encoder model -- That takes a input sequence and returns encoder-outputs,encoder_final_state_h,encoder_final_state_c\n",
    "    '''\n",
    "\n",
    "    def __init__(self,inp_vocab_size,embedding_size,lstm_size,input_length):\n",
    "        super(Encoder, self).__init__()\n",
    "        self.lstm_size = lstm_size\n",
    "        #Initialize Embedding layer\n",
    "        self.enc_embed = Embedding(input_dim = inp_vocab_size, output_dim = embedding_size)\n",
    "        #Intialize Encoder LSTM layer\n",
    "        self.enc_lstm = LSTM(lstm_size, return_sequences = True, return_state = True)\n",
    "        \n",
    "    def call(self,input_sequence,states):\n",
    "        '''\n",
    "          This function takes a sequence input and the initial states of the encoder.\n",
    "          Pass the input_sequence input to the Embedding layer, Pass the embedding layer ouput to encoder_lstm\n",
    "          returns -- encoder_output, last time step's hidden and cell state\n",
    "        '''\n",
    "        embedding = self.enc_embed(input_sequence)\n",
    "        output_state, enc_h, enc_c = self.enc_lstm(embedding, initial_state = states)\n",
    "        return output_state, enc_h, enc_c\n",
    "    \n",
    "    def initialize_states(self,batch_size):\n",
    "      '''\n",
    "      Given a batch size it will return intial hidden state and intial cell state.\n",
    "      If batch size is 32- Hidden state is zeros of size [32,lstm_units], cell state zeros is of size [32,lstm_units]\n",
    "      '''\n",
    "      return [tf.zeros((batch_size, self.lstm_size)), tf.zeros((batch_size, self.lstm_size))]\n"
   ]
  },
  {
   "cell_type": "markdown",
   "metadata": {
    "id": "8IzD_Vr9fgEM"
   },
   "source": [
    "### Attention Model"
   ]
  },
  {
   "cell_type": "code",
   "execution_count": null,
   "metadata": {
    "id": "u7edFkW5fgEM"
   },
   "outputs": [],
   "source": [
    "class Attention(tf.keras.layers.Layer):\n",
    "\n",
    "    def __init__(self,scoring_function, att_units):\n",
    "        \n",
    "        # Please go through the reference notebook and research paper to complete the scoring functions\n",
    "        \n",
    "        super(Attention, self).__init__()\n",
    "        self.scoring_function = scoring_function\n",
    "        \n",
    "        # Intialize variables needed for Dot score function here\n",
    "        if scoring_function == 'dot':\n",
    "            self.dot = Dot(axes = (1, 2))\n",
    "            pass\n",
    "        \n",
    "        # Intialize variables needed for General score function here\n",
    "        if scoring_function == 'general':\n",
    "            self.W = Dense(att_units)\n",
    "            self.dot = Dot(axes = (1, 2))\n",
    "            pass\n",
    "        \n",
    "        # Intialize variables needed for Concat score function here\n",
    "        if scoring_function == 'concat':\n",
    "            self.W1 = Dense(att_units)\n",
    "            self.W2 = Dense(att_units)\n",
    "            self.V = Dense(1)\n",
    "            pass\n",
    "        \n",
    "    def call(self,decoder_hidden_state,encoder_output):\n",
    "        \n",
    "        '''\n",
    "        Attention mechanism takes two inputs current step -- decoder_hidden_state and all the encoder_outputs.\n",
    "        Based on the scoring function we will find the score or similarity between decoder_hidden_state and encoder_output.\n",
    "        Multiply the score function with your encoder_outputs to get the context vector.\n",
    "        Function returns context vector and attention weights(softmax - scores)\n",
    "        '''\n",
    "    \n",
    "        decoder_hidden_state = tf.expand_dims(decoder_hidden_state, 1)\n",
    "        \n",
    "        if self.scoring_function == 'dot':\n",
    "            # Implement Dot score function here\n",
    "            score = tf.transpose(self.dot([tf.transpose(decoder_hidden_state, (0, 2, 1)), encoder_output]), (0, 2,1))\n",
    "            pass\n",
    "            \n",
    "        elif self.scoring_function == 'general':\n",
    "            # Implement General score function here\n",
    "            mul = self.W(encoder_output)\n",
    "            score = tf.transpose(self.dot([tf.transpose(decoder_hidden_state, (0, 2, 1)), mul]), (0, 2,1))\n",
    "            pass\n",
    "            \n",
    "        elif self.scoring_function == 'concat':\n",
    "            # Implement General score function here\n",
    "            inter = self.W1(decoder_hidden_state) + self.W2(encoder_output)\n",
    "            tan = tf.nn.tanh(inter)\n",
    "            score = self.V(tan)\n",
    "            pass\n",
    "        \n",
    "        attention_weights = tf.nn.softmax(score, axis =1)\n",
    "        context_vector = attention_weights * encoder_output\n",
    "        context_vector = tf.reduce_sum(context_vector, axis=1)\n",
    "        \n",
    "        return context_vector, attention_weights"
   ]
  },
  {
   "cell_type": "markdown",
   "metadata": {
    "id": "i6yyZPCCfgEM"
   },
   "source": [
    "### OneStepDecoder"
   ]
  },
  {
   "cell_type": "code",
   "execution_count": null,
   "metadata": {
    "id": "QKOIVbXefgEM"
   },
   "outputs": [],
   "source": [
    "class One_Step_Decoder(tf.keras.Model):\n",
    "    \n",
    "    def __init__(self,tar_vocab_size, embedding_dim, input_length, dec_units ,score_fun ,att_units):\n",
    "        \n",
    "        # Initialize decoder embedding layer, LSTM and any other objects needed\n",
    "        super().__init__()\n",
    "        self.tar_vocab_size = tar_vocab_size\n",
    "        self.embedding_dim = embedding_dim\n",
    "        self.input_dim = input_length\n",
    "        self.lstm_units = dec_units\n",
    "        self.score_fun = score_fun\n",
    "        self.att_units = att_units\n",
    "        self.context_vector = 0\n",
    "        self.attention_weights = 0\n",
    "        self.dec_output = 0\n",
    "        self.decoder_state_h = 0\n",
    "        self.decoder_state_c = 0\n",
    "\n",
    "        self.Embedding_layer = Embedding(input_dim= self.tar_vocab_size, output_dim= self.embedding_dim,input_length= self.input_dim,\n",
    "                                      mask_zero = True, name = \"decoder_embedding_layer\")\n",
    "        self.LSTM_layer = LSTM(units = self.lstm_units, return_sequences= True,return_state= True, name = \"decoder_LSTM_layer\")\n",
    "\n",
    "        self.Attention_layer = Attention(self.score_fun, self.att_units)\n",
    "\n",
    "        self.Dense_layer = Dense(units = self.tar_vocab_size)\n",
    "        \n",
    "    def call(self,input_to_decoder, encoder_output, state_h,state_c):\n",
    "        '''\n",
    "        One step decoder mechanisim step by step:\n",
    "      A. Pass the input_to_decoder to the embedding layer and then get the output(batch_size,1,embedding_dim)\n",
    "      B. Using the encoder_output and decoder hidden state, compute the context vector.\n",
    "      C. Concat the context vector with the step A output\n",
    "      D. Pass the Step-C output to LSTM/GRU and get the decoder output and states(hidden and cell state)\n",
    "      E. Pass the decoder output to dense layer(vocab size) and store the result into output.\n",
    "      F. Return the states from step D, output from Step E, attention weights from Step -B\n",
    "        '''\n",
    "        embedded_output = self.Embedding_layer(input_to_decoder)\n",
    "        \n",
    "        self.context_vector,self.attention_weights = self.Attention_layer(state_h,encoder_output)\n",
    "        self.context_vector = tf.expand_dims(self.context_vector, axis = 1)\n",
    "        \n",
    "        concanated_decoder_input = tf.concat([self.context_vector,embedded_output], axis = -1)\n",
    "        \n",
    "        self.dec_output, self.decoder_state_h, self.decoder_state_c = self.LSTM_layer(concanated_decoder_input,\n",
    "                                                                                      initial_state=[state_h, state_c])\n",
    "        \n",
    "        output = self.Dense_layer(self.dec_output)\n",
    "        output = tf.squeeze(output, axis =1)\n",
    "        \n",
    "        self.context_vector = tf.squeeze(self.context_vector)\n",
    "        \n",
    "        return output, self.decoder_state_h, self.decoder_state_c, self.attention_weights,self.context_vector\n",
    "    "
   ]
  },
  {
   "cell_type": "markdown",
   "metadata": {
    "id": "dWN8gpd-fgEN"
   },
   "source": [
    "### Decoder"
   ]
  },
  {
   "cell_type": "code",
   "execution_count": null,
   "metadata": {
    "id": "VafdsNcwfgEN"
   },
   "outputs": [],
   "source": [
    "class Decoder(tf.keras.Model):\n",
    "    def __init__(self,out_vocab_size, embedding_dim, input_length, dec_units ,score_fun ,att_units):\n",
    "      #Intialize necessary variables and create an object from the class onestepdecoder\n",
    "        \n",
    "        super(Decoder, self).__init__()\n",
    "        self.input_length = input_length\n",
    "        self.out_vocab_size = out_vocab_size\n",
    "        self.one_step_decoder = One_Step_Decoder(out_vocab_size, \n",
    "                                               embedding_dim, \n",
    "                                               input_length, \n",
    "                                               dec_units,\n",
    "                                               score_fun,\n",
    "                                               att_units)\n",
    "        \n",
    "        self.out_vocab_size = out_vocab_size\n",
    "        \n",
    "    def call(self, input_to_decoder, encoder_output, decoder_hidden_state, decoder_cell_state):\n",
    "        \n",
    "        #Initialize an empty Tensor array, that will store the outputs at each and every time step\n",
    "        #Create a tensor array as shown in the reference notebook\n",
    "        \n",
    "        #Iterate till the length of the decoder input\n",
    "            # Call onestepdecoder for each token in decoder_input\n",
    "            # Store the output in tensorarray\n",
    "        # Return the tensor array\n",
    "        \n",
    "        all_outputs = tf.TensorArray(dtype = tf.float32, size= input_to_decoder.shape[1])\n",
    "        \n",
    "        for timestep in range(input_to_decoder.shape[1]):\n",
    "            output, decoder_hidden_state, decoder_cell_state, _, _ = self.one_step_decoder(input_to_decoder[:, timestep:timestep+1], \n",
    "                                                                                             encoder_output, \n",
    "                                                                                             decoder_hidden_state,\n",
    "                                                                                             decoder_cell_state)\n",
    "            # Store the output in tensorarray\n",
    "            all_outputs = all_outputs.write(timestep, output)\n",
    "        # Return the tensor array\n",
    "        all_outputs = tf.transpose(all_outputs.stack(), (1, 0, 2))\n",
    "        return all_outputs\n",
    "        \n",
    "    "
   ]
  },
  {
   "cell_type": "markdown",
   "metadata": {
    "id": "8tn0wkeDfgEN"
   },
   "source": [
    "### Encoder_decoder"
   ]
  },
  {
   "cell_type": "code",
   "execution_count": null,
   "metadata": {
    "id": "SEymwdqOfgEN"
   },
   "outputs": [],
   "source": [
    "class encoder_decoder(tf.keras.Model):\n",
    "    def __init__(self, inp_vocab_size, out_vocab_size, embedding_dim, enc_units, dec_units, max_ita, max_eng, score_fun, att_units, batch_size):\n",
    "        #Intialize objects from encoder decoder\n",
    "        \n",
    "        super(encoder_decoder, self).__init__()\n",
    "        self.encoder = Encoder(inp_vocab_size, embedding_dim, enc_units, max_ita)\n",
    "        self.one_step_decoder = One_Step_Decoder(out_vocab_size, embedding_dim, max_eng, dec_units ,score_fun ,att_units)\n",
    "        self.batch_size = batch_size\n",
    "    \n",
    "    @tf.function\n",
    "    def call(self, data):\n",
    "        \n",
    "        #Intialize encoder states, Pass the encoder_sequence to the embedding layer\n",
    "        # Decoder initial states are encoder final states, Initialize it accordingly\n",
    "        # Pass the decoder sequence,encoder_output,decoder states to Decoder\n",
    "        # return the decoder output\n",
    "\n",
    "        enc_inp, dec_inp = data[0], data[1]\n",
    "        initial_state = self.encoder.initialize_states(self.batch_size)\n",
    "        enc_output, enc_h, enc_c = self.encoder(enc_inp, initial_state)\n",
    "        all_outputs = tf.TensorArray(dtype = tf.float32, size= 50)\n",
    "        \n",
    "        dec_h = enc_h\n",
    "        dec_c = enc_c\n",
    "        for timestep in range(50):\n",
    "            # Call onestepdecoder for each token in decoder_input\n",
    "            output, dec_h, dec_c, _, _ = self.one_step_decoder(dec_inp[:, timestep:timestep+1], \n",
    "                                                               enc_output, \n",
    "                                                               dec_h,\n",
    "                                                               dec_c)\n",
    "            # Store the output in tensorarray\n",
    "            all_outputs = all_outputs.write(timestep, output)\n",
    "        # Return the tensor array\n",
    "        all_outputs = tf.transpose(all_outputs.stack(), (1, 0, 2))\n",
    "        # return the decoder output\n",
    "        return all_outputs"
   ]
  },
  {
   "cell_type": "markdown",
   "metadata": {
    "id": "bzrxsvi6fgEN"
   },
   "source": [
    "### Loss function"
   ]
  },
  {
   "cell_type": "code",
   "execution_count": null,
   "metadata": {
    "id": "gzlJKd39fgEO"
   },
   "outputs": [],
   "source": [
    "def custom_lossfunction(targets,logits):\n",
    "    \n",
    "    # Custom loss function that will not consider the loss for padded zeros.\n",
    "    # Refer https://www.tensorflow.org/tutorials/text/nmt_with_attention#define_the_optimizer_and_the_loss_function\n",
    "    \n",
    "    loss_object = tf.keras.losses.SparseCategoricalCrossentropy(from_logits=True, reduction='none')\n",
    "    \n",
    "    mask = tf.math.logical_not(tf.math.equal(targets, 0))\n",
    "    \n",
    "    loss_ = loss_object(targets, logits)\n",
    "    \n",
    "    mask = tf.cast(mask, dtype=loss_.dtype)\n",
    "    \n",
    "    loss_ *= mask\n",
    "    \n",
    "    return tf.reduce_mean(loss_)"
   ]
  },
  {
   "cell_type": "markdown",
   "metadata": {
    "id": "7CLj56HGfgEO"
   },
   "source": [
    "# 2.1 Attention with Dot score function"
   ]
  },
  {
   "cell_type": "code",
   "execution_count": null,
   "metadata": {
    "id": "aQdNJOR-fgEO"
   },
   "outputs": [],
   "source": [
    "# Implement teacher forcing while training your model. You can do it two ways.\n",
    "# Prepare your data, encoder_input,decoder_input and decoder_output\n",
    "# if decoder input is \n",
    "# <start> Hi how are you\n",
    "# decoder output should be\n",
    "# Hi How are you <end>\n",
    "# i.e when you have send <start>-- decoder predicted Hi, 'Hi' decoder predicted 'How' .. e.t.c\n",
    "\n",
    "# or\n",
    " \n",
    "# model.fit([train_ita,train_eng],train_eng[:,1:]..)\n",
    "# Note: If you follow this approach some grader functions might return false and this is fine.\n",
    "\n",
    "batch_size=32\n",
    "lstm_size=128\n",
    "max_dec = 50\n",
    "max_enc = 29\n",
    "embedding_dim = 100\n",
    "dense_units = 256\n",
    "att_units = 256\n",
    "latent_dim=192\n"
   ]
  },
  {
   "cell_type": "code",
   "execution_count": null,
   "metadata": {
    "id": "DXLi0RX2fgEO"
   },
   "outputs": [],
   "source": [
    "train_dataset = Dataset(train, tokenizer_enc, tokenizer_dec, max_enc, max_dec)\n",
    "test_dataset  = Dataset(test, tokenizer_enc, tokenizer_dec, max_enc, max_dec)\n",
    "val_dataset  = Dataset(val, tokenizer_enc, tokenizer_dec, max_enc, max_dec)\n",
    "\n",
    "train_dataloader = Dataloder(train_dataset, batch_size=batch_size)\n",
    "test_dataloader = Dataloder(test_dataset, batch_size=batch_size)\n",
    "val_dataloader = Dataloder(val_dataset, batch_size = batch_size)"
   ]
  },
  {
   "cell_type": "code",
   "execution_count": null,
   "metadata": {
    "id": "8JCdk2QlfgEO"
   },
   "outputs": [],
   "source": [
    "model = encoder_decoder(vocab_size_enc, \n",
    "                        vocab_size_dec, \n",
    "                        embedding_dim, \n",
    "                        lstm_size,\n",
    "                        lstm_size,\n",
    "                        max_enc, \n",
    "                        max_dec,\n",
    "                        'dot', \n",
    "                        att_units, \n",
    "                        batch_size)"
   ]
  },
  {
   "cell_type": "code",
   "execution_count": null,
   "metadata": {
    "id": "kwYp5CRYfgEO"
   },
   "outputs": [],
   "source": [
    "model.compile(optimizer = 'Adam', loss = custom_lossfunction)"
   ]
  },
  {
   "cell_type": "code",
   "execution_count": null,
   "metadata": {
    "id": "iHwtdxGkfgEO"
   },
   "outputs": [],
   "source": [
    "import datetime\n",
    "\n",
    "log_dir=\"logs/fit/dot/\" + datetime.datetime.now().strftime(\"%Y%m%d-%H%M%S\")\n",
    "\n",
    "#A callback is a function passed as an argument to another function. This technique allows a function to call another function.\n",
    "callbacks = [ModelCheckpoint('dot', save_best_only= True, verbose = 1),\n",
    "             TensorBoard(log_dir = log_dir, histogram_freq=1, write_graph=True),\n",
    "             EarlyStopping(patience = 5, verbose = 1),\n",
    "             ReduceLROnPlateau(patience = 2, verbose = 1)]"
   ]
  },
  {
   "cell_type": "code",
   "execution_count": null,
   "metadata": {
    "id": "9I1swYP7fgEP"
   },
   "outputs": [],
   "source": [
    "clear_session()"
   ]
  },
  {
   "cell_type": "code",
   "execution_count": null,
   "metadata": {
    "id": "04Sxv_kdfgEP"
   },
   "outputs": [],
   "source": [
    "physical_devices = tf.config.list_physical_devices('GPU')\n",
    "tf.config.experimental.set_memory_growth(physical_devices[0], enable=True)"
   ]
  },
  {
   "cell_type": "code",
   "execution_count": null,
   "metadata": {
    "id": "Lcar36aCfgEP",
    "outputId": "edf6b9c4-29bf-43f5-9aa7-bfde72b72d08"
   },
   "outputs": [
    {
     "name": "stdout",
     "output_type": "stream",
     "text": [
      "Epoch 1/50\n",
      "1000/1000 [==============================] - 475s 433ms/step - loss: 1.4018 - val_loss: 1.2550\n",
      "\n",
      "Epoch 00001: val_loss improved from inf to 1.25500, saving model to dot\n",
      "Epoch 2/50\n",
      "1000/1000 [==============================] - 392s 392ms/step - loss: 1.2020 - val_loss: 1.1830\n",
      "\n",
      "Epoch 00002: val_loss improved from 1.25500 to 1.18301, saving model to dot\n",
      "Epoch 3/50\n",
      "1000/1000 [==============================] - 399s 399ms/step - loss: 1.1348 - val_loss: 1.1210\n",
      "\n",
      "Epoch 00003: val_loss improved from 1.18301 to 1.12100, saving model to dot\n",
      "Epoch 4/50\n",
      "1000/1000 [==============================] - 394s 394ms/step - loss: 1.0727 - val_loss: 1.0737\n",
      "\n",
      "Epoch 00004: val_loss improved from 1.12100 to 1.07369, saving model to dot\n",
      "Epoch 5/50\n",
      "1000/1000 [==============================] - 396s 396ms/step - loss: 1.0185 - val_loss: 1.0306\n",
      "\n",
      "Epoch 00005: val_loss improved from 1.07369 to 1.03063, saving model to dot\n",
      "Epoch 6/50\n",
      "1000/1000 [==============================] - 394s 394ms/step - loss: 0.9816 - val_loss: 0.9928\n",
      "\n",
      "Epoch 00006: val_loss improved from 1.03063 to 0.99284, saving model to dot\n",
      "Epoch 7/50\n",
      "1000/1000 [==============================] - 403s 403ms/step - loss: 0.9446 - val_loss: 0.9613\n",
      "\n",
      "Epoch 00007: val_loss improved from 0.99284 to 0.96128, saving model to dot\n",
      "Epoch 8/50\n",
      "1000/1000 [==============================] - 413s 413ms/step - loss: 0.9065 - val_loss: 0.9306\n",
      "\n",
      "Epoch 00008: val_loss improved from 0.96128 to 0.93059, saving model to dot\n",
      "Epoch 9/50\n",
      "1000/1000 [==============================] - 403s 403ms/step - loss: 0.8740 - val_loss: 0.9041\n",
      "\n",
      "Epoch 00009: val_loss improved from 0.93059 to 0.90411, saving model to dot\n",
      "Epoch 10/50\n",
      "1000/1000 [==============================] - 404s 404ms/step - loss: 0.8438 - val_loss: 0.8807\n",
      "\n",
      "Epoch 00010: val_loss improved from 0.90411 to 0.88074, saving model to dot\n",
      "Epoch 11/50\n",
      "1000/1000 [==============================] - 403s 403ms/step - loss: 0.8283 - val_loss: 0.8566\n",
      "\n",
      "Epoch 00011: val_loss improved from 0.88074 to 0.85663, saving model to dot\n",
      "Epoch 12/50\n",
      "1000/1000 [==============================] - 397s 397ms/step - loss: 0.8013 - val_loss: 0.8358\n",
      "\n",
      "Epoch 00012: val_loss improved from 0.85663 to 0.83580, saving model to dot\n",
      "Epoch 13/50\n",
      "1000/1000 [==============================] - 415s 415ms/step - loss: 0.7681 - val_loss: 0.8155\n",
      "\n",
      "Epoch 00013: val_loss improved from 0.83580 to 0.81549, saving model to dot\n",
      "Epoch 14/50\n",
      "1000/1000 [==============================] - 412s 412ms/step - loss: 0.7537 - val_loss: 0.7958\n",
      "\n",
      "Epoch 00014: val_loss improved from 0.81549 to 0.79583, saving model to dot\n",
      "Epoch 15/50\n",
      "1000/1000 [==============================] - 401s 401ms/step - loss: 0.7309 - val_loss: 0.7781\n",
      "\n",
      "Epoch 00015: val_loss improved from 0.79583 to 0.77805, saving model to dot\n",
      "Epoch 16/50\n",
      "1000/1000 [==============================] - 403s 403ms/step - loss: 0.7150 - val_loss: 0.7591\n",
      "\n",
      "Epoch 00016: val_loss improved from 0.77805 to 0.75906, saving model to dot\n",
      "Epoch 17/50\n",
      "1000/1000 [==============================] - 404s 404ms/step - loss: 0.6918 - val_loss: 0.7435\n",
      "\n",
      "Epoch 00017: val_loss improved from 0.75906 to 0.74346, saving model to dot\n",
      "Epoch 18/50\n",
      "1000/1000 [==============================] - 403s 403ms/step - loss: 0.6728 - val_loss: 0.7261\n",
      "\n",
      "Epoch 00018: val_loss improved from 0.74346 to 0.72607, saving model to dot\n",
      "Epoch 19/50\n",
      "1000/1000 [==============================] - 419s 419ms/step - loss: 0.6556 - val_loss: 0.7107\n",
      "\n",
      "Epoch 00019: val_loss improved from 0.72607 to 0.71068, saving model to dot\n",
      "Epoch 20/50\n",
      "1000/1000 [==============================] - 422s 422ms/step - loss: 0.6426 - val_loss: 0.6975\n",
      "\n",
      "Epoch 00020: val_loss improved from 0.71068 to 0.69750, saving model to dot\n",
      "Epoch 21/50\n",
      "1000/1000 [==============================] - 391s 391ms/step - loss: 0.6242 - val_loss: 0.6835\n",
      "\n",
      "Epoch 00021: val_loss improved from 0.69750 to 0.68347, saving model to dot\n",
      "Epoch 22/50\n",
      "1000/1000 [==============================] - 400s 400ms/step - loss: 0.6085 - val_loss: 0.6711\n",
      "\n",
      "Epoch 00022: val_loss improved from 0.68347 to 0.67106, saving model to dot\n",
      "Epoch 23/50\n",
      "1000/1000 [==============================] - 402s 402ms/step - loss: 0.5912 - val_loss: 0.6581\n",
      "\n",
      "Epoch 00023: val_loss improved from 0.67106 to 0.65808, saving model to dot\n",
      "Epoch 24/50\n",
      "1000/1000 [==============================] - 407s 407ms/step - loss: 0.5854 - val_loss: 0.6439\n",
      "\n",
      "Epoch 00024: val_loss improved from 0.65808 to 0.64386, saving model to dot\n",
      "Epoch 25/50\n",
      "1000/1000 [==============================] - 409s 409ms/step - loss: 0.5712 - val_loss: 0.6325\n",
      "\n",
      "Epoch 00025: val_loss improved from 0.64386 to 0.63248, saving model to dot\n",
      "Epoch 26/50\n",
      "1000/1000 [==============================] - 400s 400ms/step - loss: 0.5537 - val_loss: 0.6234\n",
      "\n",
      "Epoch 00026: val_loss improved from 0.63248 to 0.62336, saving model to dot\n",
      "Epoch 27/50\n",
      "1000/1000 [==============================] - 399s 399ms/step - loss: 0.5386 - val_loss: 0.6121\n",
      "\n",
      "Epoch 00027: val_loss improved from 0.62336 to 0.61207, saving model to dot\n",
      "Epoch 28/50\n",
      "1000/1000 [==============================] - 401s 401ms/step - loss: 0.5327 - val_loss: 0.6018\n",
      "\n",
      "Epoch 00028: val_loss improved from 0.61207 to 0.60184, saving model to dot\n",
      "Epoch 29/50\n",
      "1000/1000 [==============================] - 423s 423ms/step - loss: 0.5217 - val_loss: 0.5923\n",
      "\n",
      "Epoch 00029: val_loss improved from 0.60184 to 0.59233, saving model to dot\n",
      "Epoch 30/50\n",
      "1000/1000 [==============================] - 390s 390ms/step - loss: 0.5037 - val_loss: 0.5825\n",
      "\n",
      "Epoch 00030: val_loss improved from 0.59233 to 0.58250, saving model to dot\n",
      "Epoch 31/50\n",
      "1000/1000 [==============================] - 402s 402ms/step - loss: 0.4959 - val_loss: 0.5737\n",
      "\n",
      "Epoch 00031: val_loss improved from 0.58250 to 0.57370, saving model to dot\n",
      "Epoch 32/50\n",
      "1000/1000 [==============================] - 406s 406ms/step - loss: 0.4837 - val_loss: 0.5650\n",
      "\n",
      "Epoch 00032: val_loss improved from 0.57370 to 0.56503, saving model to dot\n",
      "Epoch 33/50\n",
      "1000/1000 [==============================] - 402s 402ms/step - loss: 0.4777 - val_loss: 0.5584\n",
      "\n",
      "Epoch 00033: val_loss improved from 0.56503 to 0.55839, saving model to dot\n",
      "Epoch 34/50\n",
      "1000/1000 [==============================] - 405s 405ms/step - loss: 0.4731 - val_loss: 0.5502\n",
      "\n",
      "Epoch 00034: val_loss improved from 0.55839 to 0.55023, saving model to dot\n",
      "Epoch 35/50\n",
      "1000/1000 [==============================] - 416s 416ms/step - loss: 0.4623 - val_loss: 0.5401\n",
      "\n",
      "Epoch 00035: val_loss improved from 0.55023 to 0.54006, saving model to dot\n",
      "Epoch 36/50\n",
      "1000/1000 [==============================] - 396s 396ms/step - loss: 0.4452 - val_loss: 0.5345\n",
      "\n",
      "Epoch 00036: val_loss improved from 0.54006 to 0.53453, saving model to dot\n",
      "Epoch 37/50\n",
      "1000/1000 [==============================] - 401s 401ms/step - loss: 0.4478 - val_loss: 0.5284\n",
      "\n",
      "Epoch 00037: val_loss improved from 0.53453 to 0.52839, saving model to dot\n",
      "Epoch 38/50\n",
      "1000/1000 [==============================] - 400s 400ms/step - loss: 0.4358 - val_loss: 0.5211\n",
      "\n",
      "Epoch 00038: val_loss improved from 0.52839 to 0.52110, saving model to dot\n",
      "Epoch 39/50\n",
      "1000/1000 [==============================] - 399s 399ms/step - loss: 0.4307 - val_loss: 0.5154\n",
      "\n",
      "Epoch 00039: val_loss improved from 0.52110 to 0.51541, saving model to dot\n",
      "Epoch 40/50\n",
      "1000/1000 [==============================] - 411s 411ms/step - loss: 0.4180 - val_loss: 0.5097\n",
      "\n",
      "Epoch 00040: val_loss improved from 0.51541 to 0.50973, saving model to dot\n",
      "Epoch 41/50\n",
      "1000/1000 [==============================] - 406s 407ms/step - loss: 0.4138 - val_loss: 0.5034\n",
      "\n",
      "Epoch 00041: val_loss improved from 0.50973 to 0.50341, saving model to dot\n",
      "Epoch 42/50\n",
      "1000/1000 [==============================] - 385s 385ms/step - loss: 0.4098 - val_loss: 0.4966\n",
      "\n",
      "Epoch 00042: val_loss improved from 0.50341 to 0.49660, saving model to dot\n",
      "Epoch 43/50\n",
      "1000/1000 [==============================] - 395s 395ms/step - loss: 0.3978 - val_loss: 0.4924\n",
      "\n",
      "Epoch 00043: val_loss improved from 0.49660 to 0.49237, saving model to dot\n",
      "Epoch 44/50\n",
      "1000/1000 [==============================] - 396s 396ms/step - loss: 0.3910 - val_loss: 0.4880\n",
      "\n",
      "Epoch 00044: val_loss improved from 0.49237 to 0.48795, saving model to dot\n",
      "Epoch 45/50\n",
      "1000/1000 [==============================] - 417s 417ms/step - loss: 0.3875 - val_loss: 0.4810\n",
      "\n",
      "Epoch 00045: val_loss improved from 0.48795 to 0.48105, saving model to dot\n"
     ]
    },
    {
     "name": "stdout",
     "output_type": "stream",
     "text": [
      "Epoch 46/50\n",
      "1000/1000 [==============================] - 416s 416ms/step - loss: 0.3772 - val_loss: 0.4743\n",
      "\n",
      "Epoch 00046: val_loss improved from 0.48105 to 0.47426, saving model to dot\n",
      "Epoch 47/50\n",
      "1000/1000 [==============================] - 384s 384ms/step - loss: 0.3734 - val_loss: 0.4707\n",
      "\n",
      "Epoch 00047: val_loss improved from 0.47426 to 0.47074, saving model to dot\n",
      "Epoch 48/50\n",
      "1000/1000 [==============================] - 394s 394ms/step - loss: 0.3701 - val_loss: 0.4651\n",
      "\n",
      "Epoch 00048: val_loss improved from 0.47074 to 0.46510, saving model to dot\n",
      "Epoch 49/50\n",
      "1000/1000 [==============================] - 397s 397ms/step - loss: 0.3648 - val_loss: 0.4623\n",
      "\n",
      "Epoch 00049: val_loss improved from 0.46510 to 0.46231, saving model to dot\n",
      "Epoch 50/50\n",
      "1000/1000 [==============================] - 405s 405ms/step - loss: 0.3583 - val_loss: 0.4604\n",
      "\n",
      "Epoch 00050: val_loss improved from 0.46231 to 0.46039, saving model to dot\n"
     ]
    },
    {
     "data": {
      "text/plain": [
       "<tensorflow.python.keras.callbacks.History at 0x21727d2d340>"
      ]
     },
     "execution_count": 27,
     "metadata": {},
     "output_type": "execute_result"
    }
   ],
   "source": [
    "#Model training\n",
    "model.fit(x = train_dataloader, \n",
    "          steps_per_epoch = 1000, #train_dataloader.__len__(),\n",
    "          validation_data = val_dataloader,\n",
    "          validation_steps = 100, #val_dataloader.__len__(),\n",
    "          epochs = 50,\n",
    "          verbose = 1,\n",
    "          callbacks = callbacks)"
   ]
  },
  {
   "cell_type": "code",
   "execution_count": null,
   "metadata": {
    "id": "Nvnrb4glfgEP",
    "outputId": "5fe1f29c-a2d2-4d1b-edee-c6654c9cc20b"
   },
   "outputs": [
    {
     "data": {
      "text/plain": [
       "Reusing TensorBoard on port 6006 (pid 11780), started 0:01:03 ago. (Use '!kill 11780' to kill it.)"
      ]
     },
     "metadata": {},
     "output_type": "display_data"
    },
    {
     "data": {
      "text/html": [
       "\n",
       "      <iframe id=\"tensorboard-frame-2e70238606983344\" width=\"100%\" height=\"800\" frameborder=\"0\">\n",
       "      </iframe>\n",
       "      <script>\n",
       "        (function() {\n",
       "          const frame = document.getElementById(\"tensorboard-frame-2e70238606983344\");\n",
       "          const url = new URL(\"/\", window.location);\n",
       "          const port = 6006;\n",
       "          if (port) {\n",
       "            url.port = port;\n",
       "          }\n",
       "          frame.src = url;\n",
       "        })();\n",
       "      </script>\n",
       "    "
      ],
      "text/plain": [
       "<IPython.core.display.HTML object>"
      ]
     },
     "metadata": {},
     "output_type": "display_data"
    }
   ],
   "source": [
    "%reload_ext tensorboard\n",
    "%tensorboard --logdir logs/fit/dot/20220808-030237/"
   ]
  },
  {
   "cell_type": "code",
   "execution_count": null,
   "metadata": {
    "id": "w8SqRJolfgEP",
    "outputId": "673217da-f39a-49db-d5ad-595cfdc50008"
   },
   "outputs": [
    {
     "name": "stdout",
     "output_type": "stream",
     "text": [
      "400/400 [==============================] - 48s 72ms/step - loss: 0.4381 0s - loss: 0.\n"
     ]
    },
    {
     "data": {
      "text/plain": [
       "0.43665775656700134"
      ]
     },
     "execution_count": 25,
     "metadata": {},
     "output_type": "execute_result"
    }
   ],
   "source": [
    "test_steps = 400 #test_dataloader.__len__()\n",
    "model.evaluate(test_dataloader,steps=test_steps)"
   ]
  },
  {
   "cell_type": "markdown",
   "metadata": {
    "id": "rKGkiQQ_fgEP"
   },
   "source": [
    "### Prediction"
   ]
  },
  {
   "cell_type": "code",
   "execution_count": null,
   "metadata": {
    "id": "kBzy3UdEfgEP"
   },
   "outputs": [],
   "source": [
    "class pred_Encoder_decoder(tf.keras.Model): \n",
    "    def __init__(self, inp_vocab_size, out_vocab_size, embedding_dim, enc_units, dec_units, max_ita, max_eng, score_fun, att_units):\n",
    "        #Intialize objects from encoder decoder\n",
    "        super(pred_Encoder_decoder, self).__init__()\n",
    "        self.encoder = Encoder(inp_vocab_size, embedding_dim, enc_units, max_ita)\n",
    "        self.one_step_decoder = One_Step_Decoder(out_vocab_size, embedding_dim, max_eng, dec_units ,score_fun ,att_units)\n",
    "        self.batch_size = batch_size\n",
    "    def call(self, params):\n",
    "        enc_inp = params[0]\n",
    "        initial_state = self.encoder.initialize_states(1)\n",
    "        output_state, enc_h, enc_c = self.encoder(enc_inp, initial_state)\n",
    "        pred = tf.expand_dims([tokenizer_dec.word_index['<sos>']], 0)\n",
    "        dec_h = enc_h\n",
    "        dec_c = enc_c\n",
    "        all_pred = []\n",
    "        all_attention = []\n",
    "        for t in range(50):  \n",
    "            pred, dec_h,dec_c, attention, _ = self.one_step_decoder(pred, output_state, dec_h, dec_c)\n",
    "            pred = tf.argmax(pred, axis = -1)\n",
    "            all_pred.append(pred)\n",
    "            pred = tf.expand_dims(pred, 0)\n",
    "            all_attention.append(attention)\n",
    "        return all_pred, all_attention"
   ]
  },
  {
   "cell_type": "code",
   "execution_count": null,
   "metadata": {
    "id": "WKhCPZclfgEQ"
   },
   "outputs": [],
   "source": [
    "pred_model = pred_Encoder_decoder(vocab_size_enc, \n",
    "                                  vocab_size_dec, \n",
    "                                  embedding_dim, \n",
    "                                  lstm_size,\n",
    "                                  lstm_size,\n",
    "                                  max_enc, \n",
    "                                  max_dec, \n",
    "                                  'dot',\n",
    "                                  att_units)\n"
   ]
  },
  {
   "cell_type": "code",
   "execution_count": null,
   "metadata": {
    "id": "iiitrVEmfgEQ"
   },
   "outputs": [],
   "source": [
    "pred_model.compile(optimizer = 'Adam', loss = custom_lossfunction)"
   ]
  },
  {
   "cell_type": "code",
   "execution_count": null,
   "metadata": {
    "id": "ekAPlTx3fgEQ",
    "outputId": "c08ef497-0611-4399-ff69-13c1f3be0d13"
   },
   "outputs": [
    {
     "data": {
      "text/plain": [
       "<tensorflow.python.training.tracking.util.CheckpointLoadStatus at 0x2190396fd00>"
      ]
     },
     "execution_count": 41,
     "metadata": {},
     "output_type": "execute_result"
    }
   ],
   "source": [
    "#Load the previously trained model\n",
    "pred_model.load_weights('dot')"
   ]
  },
  {
   "cell_type": "code",
   "execution_count": null,
   "metadata": {
    "id": "tUeaweYlfgEQ"
   },
   "outputs": [],
   "source": [
    "def predict(input_sequence):\n",
    "    '''\n",
    "    A. Given input sentence, convert the sentence into integers using tokenizer used earlier\n",
    "    B. Pass the input_sequence to encoder. we get encoder_outputs, last time step hidden and cell state\n",
    "    C. Initialize index of <start> as input to decoder. and encoder final states as input_states to onestepdecoder.\n",
    "    D. till we reach max_length of decoder or till the model predicted word <end>:\n",
    "         predictions, input_states, attention_weights = model.layers[1].onestepdecoder(input_to_decoder, encoder_output, input_states)\n",
    "         Save the attention weights\n",
    "         And get the word using the tokenizer(word index) and then store it in a string.\n",
    "    E. Call plot_attention(#params)\n",
    "    F. Return the predicted sentence\n",
    "    '''\n",
    "    \n",
    "    seq = input_sequence\n",
    "    seq = '<sos> '+seq+' <eos>'\n",
    "    seq = tokenizer_enc.texts_to_sequences([seq])\n",
    "    seq = pad_sequences(seq, maxlen=max_enc, padding='post', dtype = np.int32)\n",
    "    pred, _ = pred_model.predict(tf.expand_dims(seq, 0))\n",
    "    output = []\n",
    "    for i in pred:\n",
    "        word = tokenizer_dec.index_word[i[0]]\n",
    "        if word == '<eos>':\n",
    "            break\n",
    "        output.append(word)\n",
    "    return ' '.join(output)  #, np.squeeze(np.squeeze(np.array(attention_weights), 1), -1)"
   ]
  },
  {
   "cell_type": "code",
   "execution_count": null,
   "metadata": {
    "id": "I4aN0XXCfgEQ",
    "outputId": "d966aa5c-d562-47ac-d6db-b666956a12ec"
   },
   "outputs": [
    {
     "name": "stdout",
     "output_type": "stream",
     "text": [
      "input :  Your support of\n",
      "predicted output :  the property of enron corp\n"
     ]
    }
   ],
   "source": [
    "sentence = 'Your support of'\n",
    "print('input : ', sentence)\n",
    "\n",
    "result = predict(sentence)\n",
    "\n",
    "print('predicted output : ',result)\n"
   ]
  },
  {
   "cell_type": "code",
   "execution_count": null,
   "metadata": {
    "id": "ksD-38J3fgEQ",
    "outputId": "4d4b9e09-6861-45d6-c5a4-5ff6f242d108"
   },
   "outputs": [
    {
     "name": "stdout",
     "output_type": "stream",
     "text": [
      "input :  I also am including a draft of an announcement\n",
      "predicted output :  and my family is\n"
     ]
    }
   ],
   "source": [
    "sentence = 'I also am including a draft of an announcement'\n",
    "print('input : ', sentence)\n",
    "\n",
    "result = predict(sentence)\n",
    "print('predicted output : ',result)\n"
   ]
  },
  {
   "cell_type": "code",
   "execution_count": null,
   "metadata": {
    "id": "gnlV5Wu-fgEQ"
   },
   "outputs": [],
   "source": []
  },
  {
   "cell_type": "markdown",
   "metadata": {
    "id": "CVo1avfhfgEQ"
   },
   "source": [
    "### Bleu score"
   ]
  },
  {
   "cell_type": "code",
   "execution_count": null,
   "metadata": {
    "id": "w8oxYIYOfgER"
   },
   "outputs": [],
   "source": [
    "def BLEUScore():\n",
    "    BLEUscore_list = []\n",
    "    \n",
    "    for x in  test['body_enc_seq'].sample(10000):\n",
    "        reference = x.split()\n",
    "        hypothesis = predict(x)\n",
    "        BLEUscore = nltk.translate.bleu_score.sentence_bleu([reference], hypothesis.split())\n",
    "        BLEUscore_list.append(BLEUscore)\n",
    "        \n",
    "    return sum(BLEUscore_list)/len(BLEUscore_list)\n"
   ]
  },
  {
   "cell_type": "code",
   "execution_count": null,
   "metadata": {
    "id": "cHiOmez6fgER",
    "outputId": "3291fc50-965b-4c5d-dfe9-03fbda81b1e1"
   },
   "outputs": [
    {
     "name": "stdout",
     "output_type": "stream",
     "text": [
      "0.4919830571604262\n"
     ]
    }
   ],
   "source": [
    "bleuscore_lstm =BLEUScore()\n",
    "\n",
    "print(bleuscore_lstm)"
   ]
  },
  {
   "cell_type": "markdown",
   "metadata": {
    "id": "GtkbSHOSfgER"
   },
   "source": [
    "# 2.2 Attention with General score function\n"
   ]
  },
  {
   "cell_type": "code",
   "execution_count": null,
   "metadata": {
    "id": "SJ4eYMgCfgER"
   },
   "outputs": [],
   "source": [
    "#Compile and train your model on general scoring function.\n",
    "# Visualize few sentences randomly in Test data\n",
    "# Predict on 1000 random sentences on test data and calculate the average BLEU score of these sentences.\n",
    "# https://www.nltk.org/_modules/nltk/translate/bleu_score.html\n",
    "\n",
    "\n",
    "batch_size=16\n",
    "lstm_size=16\n",
    "att_units = 16\n",
    "max_dec = 50\n",
    "max_enc = 29\n",
    "embedding_dim = 100\n",
    "dense_units = 256\n",
    "latent_dim=192\n"
   ]
  },
  {
   "cell_type": "code",
   "execution_count": null,
   "metadata": {
    "id": "xTv95ebXfgER"
   },
   "outputs": [],
   "source": [
    "train_dataset = Dataset(train, tokenizer_enc, tokenizer_dec, max_enc, max_dec)\n",
    "test_dataset  = Dataset(test, tokenizer_enc, tokenizer_dec, max_enc, max_dec)\n",
    "val_dataset  = Dataset(val, tokenizer_enc, tokenizer_dec, max_enc, max_dec)\n",
    "\n",
    "train_dataloader = Dataloder(train_dataset, batch_size=batch_size)\n",
    "test_dataloader = Dataloder(test_dataset, batch_size=batch_size)\n",
    "val_dataloader = Dataloder(val_dataset, batch_size = batch_size)"
   ]
  },
  {
   "cell_type": "code",
   "execution_count": null,
   "metadata": {
    "id": "7KaxZrAEfgER"
   },
   "outputs": [],
   "source": [
    "model = encoder_decoder(vocab_size_enc, \n",
    "                        vocab_size_dec, \n",
    "                        embedding_dim, \n",
    "                        lstm_size,\n",
    "                        lstm_size,\n",
    "                        max_enc, \n",
    "                        max_dec,\n",
    "                        'general', \n",
    "                        att_units, \n",
    "                        batch_size)"
   ]
  },
  {
   "cell_type": "code",
   "execution_count": null,
   "metadata": {
    "id": "LZ_Kcgf9fgER"
   },
   "outputs": [],
   "source": [
    "model.compile(optimizer = 'Adam', loss = custom_lossfunction)"
   ]
  },
  {
   "cell_type": "code",
   "execution_count": null,
   "metadata": {
    "id": "YzPZTUYAfgER"
   },
   "outputs": [],
   "source": [
    "import datetime\n",
    "\n",
    "log_dir=\"logs/fit/general/\" + datetime.datetime.now().strftime(\"%Y%m%d-%H%M%S\")\n",
    "\n",
    "#A callback is a function passed as an argument to another function. This technique allows a function to call another function.\n",
    "callbacks = [ModelCheckpoint('general', save_best_only= True, verbose = 1),\n",
    "             TensorBoard(log_dir = log_dir, histogram_freq=1, write_graph=True),\n",
    "             EarlyStopping(monitor='val_loss', patience = 5, verbose = 1),\n",
    "             ReduceLROnPlateau(monitor='val_loss', patience = 2, verbose = 1)]"
   ]
  },
  {
   "cell_type": "code",
   "execution_count": null,
   "metadata": {
    "id": "8T1ctD5GfgES"
   },
   "outputs": [],
   "source": [
    "clear_session()"
   ]
  },
  {
   "cell_type": "code",
   "execution_count": null,
   "metadata": {
    "id": "7zOdDP_jfgES"
   },
   "outputs": [],
   "source": [
    "physical_devices = tf.config.list_physical_devices('GPU')\n",
    "tf.config.experimental.set_memory_growth(physical_devices[0], enable=True)"
   ]
  },
  {
   "cell_type": "code",
   "execution_count": null,
   "metadata": {
    "id": "ZY65FZeKfgES",
    "outputId": "edf6b9c4-29bf-43f5-9aa7-bfde72b72d08"
   },
   "outputs": [
    {
     "name": "stdout",
     "output_type": "stream",
     "text": [
      "Epoch 1/50\n",
      "1000/1000 [==============================] - 405s 360ms/step - loss: 1.5644 - val_loss: 1.3381\n",
      "\n",
      "Epoch 00001: val_loss improved from inf to 1.33812, saving model to general\n",
      "Epoch 2/50\n",
      "1000/1000 [==============================] - 326s 326ms/step - loss: 1.2882 - val_loss: 1.3120\n",
      "\n",
      "Epoch 00002: val_loss improved from 1.33812 to 1.31201, saving model to general\n",
      "Epoch 3/50\n",
      "1000/1000 [==============================] - 310s 310ms/step - loss: 1.2626 - val_loss: 1.2904\n",
      "\n",
      "Epoch 00003: val_loss improved from 1.31201 to 1.29037, saving model to general\n",
      "Epoch 4/50\n",
      "1000/1000 [==============================] - 335s 335ms/step - loss: 1.2401 - val_loss: 1.2675\n",
      "\n",
      "Epoch 00004: val_loss improved from 1.29037 to 1.26754, saving model to general\n",
      "Epoch 5/50\n",
      "1000/1000 [==============================] - 329s 329ms/step - loss: 1.2269 - val_loss: 1.2442\n",
      "\n",
      "Epoch 00005: val_loss improved from 1.26754 to 1.24415, saving model to general\n",
      "Epoch 6/50\n",
      "1000/1000 [==============================] - 330s 330ms/step - loss: 1.1966 - val_loss: 1.2247\n",
      "\n",
      "Epoch 00006: val_loss improved from 1.24415 to 1.22468, saving model to general\n",
      "Epoch 7/50\n",
      "1000/1000 [==============================] - 340s 340ms/step - loss: 1.1622 - val_loss: 1.2071\n",
      "\n",
      "Epoch 00007: val_loss improved from 1.22468 to 1.20709, saving model to general\n",
      "Epoch 8/50\n",
      "1000/1000 [==============================] - 338s 338ms/step - loss: 1.1414 - val_loss: 1.1913\n",
      "\n",
      "Epoch 00008: val_loss improved from 1.20709 to 1.19128, saving model to general\n",
      "Epoch 9/50\n",
      "1000/1000 [==============================] - 331s 331ms/step - loss: 1.1477 - val_loss: 1.1752\n",
      "\n",
      "Epoch 00009: val_loss improved from 1.19128 to 1.17521, saving model to general\n",
      "Epoch 10/50\n",
      "1000/1000 [==============================] - 351s 351ms/step - loss: 1.1171 - val_loss: 1.1615\n",
      "\n",
      "Epoch 00010: val_loss improved from 1.17521 to 1.16146, saving model to general\n",
      "Epoch 11/50\n",
      "1000/1000 [==============================] - 340s 340ms/step - loss: 1.0978 - val_loss: 1.1484\n",
      "\n",
      "Epoch 00011: val_loss improved from 1.16146 to 1.14836, saving model to general\n",
      "Epoch 12/50\n",
      "1000/1000 [==============================] - 346s 346ms/step - loss: 1.0854 - val_loss: 1.1366\n",
      "\n",
      "Epoch 00012: val_loss improved from 1.14836 to 1.13655, saving model to general\n",
      "Epoch 13/50\n",
      "1000/1000 [==============================] - 346s 346ms/step - loss: 1.0847 - val_loss: 1.1272\n",
      "\n",
      "Epoch 00013: val_loss improved from 1.13655 to 1.12724, saving model to general\n",
      "Epoch 14/50\n",
      "1000/1000 [==============================] - 339s 339ms/step - loss: 1.0686 - val_loss: 1.1171\n",
      "\n",
      "Epoch 00014: val_loss improved from 1.12724 to 1.11712, saving model to general\n",
      "Epoch 15/50\n",
      "1000/1000 [==============================] - 341s 341ms/step - loss: 1.0707 - val_loss: 1.1082\n",
      "\n",
      "Epoch 00015: val_loss improved from 1.11712 to 1.10819, saving model to general\n",
      "Epoch 16/50\n",
      "1000/1000 [==============================] - 347s 347ms/step - loss: 1.0467 - val_loss: 1.0990\n",
      "\n",
      "Epoch 00016: val_loss improved from 1.10819 to 1.09897, saving model to general\n",
      "Epoch 17/50\n",
      "1000/1000 [==============================] - 347s 347ms/step - loss: 1.0468 - val_loss: 1.0916\n",
      "\n",
      "Epoch 00017: val_loss improved from 1.09897 to 1.09158, saving model to general\n",
      "Epoch 18/50\n",
      "1000/1000 [==============================] - 348s 348ms/step - loss: 1.0311 - val_loss: 1.0853\n",
      "\n",
      "Epoch 00018: val_loss improved from 1.09158 to 1.08531, saving model to general\n",
      "Epoch 19/50\n",
      "1000/1000 [==============================] - 342s 342ms/step - loss: 1.0241 - val_loss: 1.0782\n",
      "\n",
      "Epoch 00019: val_loss improved from 1.08531 to 1.07825, saving model to general\n",
      "Epoch 20/50\n",
      "1000/1000 [==============================] - 350s 350ms/step - loss: 1.0180 - val_loss: 1.0725\n",
      "\n",
      "Epoch 00020: val_loss improved from 1.07825 to 1.07249, saving model to general\n",
      "Epoch 21/50\n",
      "1000/1000 [==============================] - 343s 343ms/step - loss: 1.0307 - val_loss: 1.0657\n",
      "\n",
      "Epoch 00021: val_loss improved from 1.07249 to 1.06566, saving model to general\n",
      "Epoch 22/50\n",
      "1000/1000 [==============================] - 349s 349ms/step - loss: 0.9905 - val_loss: 1.0590\n",
      "\n",
      "Epoch 00022: val_loss improved from 1.06566 to 1.05904, saving model to general\n",
      "Epoch 23/50\n",
      "1000/1000 [==============================] - 348s 348ms/step - loss: 0.9924 - val_loss: 1.0538\n",
      "\n",
      "Epoch 00023: val_loss improved from 1.05904 to 1.05380, saving model to general\n",
      "Epoch 24/50\n",
      "1000/1000 [==============================] - 345s 345ms/step - loss: 0.9857 - val_loss: 1.0486\n",
      "\n",
      "Epoch 00024: val_loss improved from 1.05380 to 1.04855, saving model to general\n",
      "Epoch 25/50\n",
      "1000/1000 [==============================] - 354s 354ms/step - loss: 0.9986 - val_loss: 1.0436\n",
      "\n",
      "Epoch 00025: val_loss improved from 1.04855 to 1.04364, saving model to general\n",
      "Epoch 26/50\n",
      "1000/1000 [==============================] - 347s 347ms/step - loss: 0.9869 - val_loss: 1.0393\n",
      "\n",
      "Epoch 00026: val_loss improved from 1.04364 to 1.03927, saving model to general\n",
      "Epoch 27/50\n",
      "1000/1000 [==============================] - 354s 354ms/step - loss: 0.9796 - val_loss: 1.0344\n",
      "\n",
      "Epoch 00027: val_loss improved from 1.03927 to 1.03438, saving model to general\n",
      "Epoch 28/50\n",
      "1000/1000 [==============================] - 349s 349ms/step - loss: 0.9720 - val_loss: 1.0302\n",
      "\n",
      "Epoch 00028: val_loss improved from 1.03438 to 1.03021, saving model to general\n",
      "Epoch 29/50\n",
      "1000/1000 [==============================] - 352s 352ms/step - loss: 0.9700 - val_loss: 1.0262\n",
      "\n",
      "Epoch 00029: val_loss improved from 1.03021 to 1.02618, saving model to general\n",
      "Epoch 30/50\n",
      "1000/1000 [==============================] - 367s 367ms/step - loss: 0.9664 - val_loss: 1.0221\n",
      "\n",
      "Epoch 00030: val_loss improved from 1.02618 to 1.02207, saving model to general\n",
      "Epoch 31/50\n",
      "1000/1000 [==============================] - 365s 365ms/step - loss: 0.9652 - val_loss: 1.0177\n",
      "\n",
      "Epoch 00031: val_loss improved from 1.02207 to 1.01774, saving model to general\n",
      "Epoch 32/50\n",
      "1000/1000 [==============================] - 365s 365ms/step - loss: 0.9547 - val_loss: 1.0134\n",
      "\n",
      "Epoch 00032: val_loss improved from 1.01774 to 1.01341, saving model to general\n",
      "Epoch 33/50\n",
      "1000/1000 [==============================] - 359s 359ms/step - loss: 0.9436 - val_loss: 1.0088\n",
      "\n",
      "Epoch 00033: val_loss improved from 1.01341 to 1.00876, saving model to general\n",
      "Epoch 34/50\n",
      "1000/1000 [==============================] - 358s 358ms/step - loss: 0.9534 - val_loss: 1.0064\n",
      "\n",
      "Epoch 00034: val_loss improved from 1.00876 to 1.00644, saving model to general\n",
      "Epoch 35/50\n",
      "1000/1000 [==============================] - 360s 360ms/step - loss: 0.9470 - val_loss: 1.0016\n",
      "\n",
      "Epoch 00035: val_loss improved from 1.00644 to 1.00165, saving model to general\n",
      "Epoch 36/50\n",
      "1000/1000 [==============================] - 360s 360ms/step - loss: 0.9240 - val_loss: 0.9965\n",
      "\n",
      "Epoch 00036: val_loss improved from 1.00165 to 0.99654, saving model to general\n",
      "Epoch 37/50\n",
      "1000/1000 [==============================] - 360s 360ms/step - loss: 0.9318 - val_loss: 0.9928\n",
      "\n",
      "Epoch 00037: val_loss improved from 0.99654 to 0.99284, saving model to general\n",
      "Epoch 38/50\n",
      "1000/1000 [==============================] - 359s 359ms/step - loss: 0.9234 - val_loss: 0.9912\n",
      "\n",
      "Epoch 00038: val_loss improved from 0.99284 to 0.99116, saving model to general\n",
      "Epoch 39/50\n",
      "1000/1000 [==============================] - 358s 358ms/step - loss: 0.9297 - val_loss: 0.9876\n",
      "\n",
      "Epoch 00039: val_loss improved from 0.99116 to 0.98762, saving model to general\n",
      "Epoch 40/50\n",
      "1000/1000 [==============================] - 359s 359ms/step - loss: 0.9264 - val_loss: 0.9857\n",
      "\n",
      "Epoch 00040: val_loss improved from 0.98762 to 0.98567, saving model to general\n",
      "Epoch 41/50\n",
      "1000/1000 [==============================] - 359s 359ms/step - loss: 0.9273 - val_loss: 0.9813\n",
      "\n",
      "Epoch 00041: val_loss improved from 0.98567 to 0.98130, saving model to general\n",
      "Epoch 42/50\n",
      "1000/1000 [==============================] - 360s 360ms/step - loss: 0.9117 - val_loss: 0.9782\n",
      "\n",
      "Epoch 00042: val_loss improved from 0.98130 to 0.97823, saving model to general\n",
      "Epoch 43/50\n",
      "1000/1000 [==============================] - 360s 360ms/step - loss: 0.9154 - val_loss: 0.9746\n",
      "\n",
      "Epoch 00043: val_loss improved from 0.97823 to 0.97463, saving model to general\n",
      "Epoch 44/50\n",
      "1000/1000 [==============================] - 360s 360ms/step - loss: 0.9087 - val_loss: 0.9724\n",
      "\n",
      "Epoch 00044: val_loss improved from 0.97463 to 0.97241, saving model to general\n"
     ]
    },
    {
     "name": "stdout",
     "output_type": "stream",
     "text": [
      "Epoch 45/50\n",
      "1000/1000 [==============================] - 360s 360ms/step - loss: 0.9076 - val_loss: 0.9695\n",
      "\n",
      "Epoch 00045: val_loss improved from 0.97241 to 0.96952, saving model to general\n",
      "Epoch 46/50\n",
      "1000/1000 [==============================] - 362s 362ms/step - loss: 0.9055 - val_loss: 0.9668\n",
      "\n",
      "Epoch 00046: val_loss improved from 0.96952 to 0.96677, saving model to general\n",
      "Epoch 47/50\n",
      "1000/1000 [==============================] - 357s 357ms/step - loss: 0.8935 - val_loss: 0.9639\n",
      "\n",
      "Epoch 00047: val_loss improved from 0.96677 to 0.96386, saving model to general\n",
      "Epoch 48/50\n",
      "1000/1000 [==============================] - 359s 359ms/step - loss: 0.8877 - val_loss: 0.9609\n",
      "\n",
      "Epoch 00048: val_loss improved from 0.96386 to 0.96092, saving model to general\n",
      "Epoch 49/50\n",
      "1000/1000 [==============================] - 363s 363ms/step - loss: 0.8957 - val_loss: 0.9586\n",
      "\n",
      "Epoch 00049: val_loss improved from 0.96092 to 0.95856, saving model to general\n",
      "Epoch 50/50\n",
      "1000/1000 [==============================] - 357s 357ms/step - loss: 0.8885 - val_loss: 0.9564\n",
      "\n",
      "Epoch 00050: val_loss improved from 0.95856 to 0.95641, saving model to general\n"
     ]
    },
    {
     "data": {
      "text/plain": [
       "<tensorflow.python.keras.callbacks.History at 0x2a309676fd0>"
      ]
     },
     "execution_count": 26,
     "metadata": {},
     "output_type": "execute_result"
    }
   ],
   "source": [
    "#Model training\n",
    "model.fit(x = train_dataloader, \n",
    "          steps_per_epoch = 1000, #train_dataloader.__len__(),\n",
    "          validation_data = val_dataloader,\n",
    "          validation_steps = 100, #val_dataloader.__len__(),\n",
    "          epochs = 50,\n",
    "          verbose = 1,\n",
    "          callbacks = callbacks)"
   ]
  },
  {
   "cell_type": "code",
   "execution_count": null,
   "metadata": {
    "id": "UvH__XRnfgES",
    "outputId": "dfac330c-c0aa-4ddc-e709-18aeaa64ba97"
   },
   "outputs": [
    {
     "data": {
      "text/plain": [
       "Reusing TensorBoard on port 6006 (pid 4128), started 16:50:31 ago. (Use '!kill 4128' to kill it.)"
      ]
     },
     "metadata": {},
     "output_type": "display_data"
    },
    {
     "data": {
      "text/html": [
       "\n",
       "      <iframe id=\"tensorboard-frame-29c6732105dc5664\" width=\"100%\" height=\"800\" frameborder=\"0\">\n",
       "      </iframe>\n",
       "      <script>\n",
       "        (function() {\n",
       "          const frame = document.getElementById(\"tensorboard-frame-29c6732105dc5664\");\n",
       "          const url = new URL(\"/\", window.location);\n",
       "          const port = 6006;\n",
       "          if (port) {\n",
       "            url.port = port;\n",
       "          }\n",
       "          frame.src = url;\n",
       "        })();\n",
       "      </script>\n",
       "    "
      ],
      "text/plain": [
       "<IPython.core.display.HTML object>"
      ]
     },
     "metadata": {},
     "output_type": "display_data"
    }
   ],
   "source": [
    "%reload_ext tensorboard\n",
    "%tensorboard --logdir logs/fit/general/20220808-164739/"
   ]
  },
  {
   "cell_type": "code",
   "execution_count": null,
   "metadata": {
    "id": "u2vAFkoZfgES",
    "outputId": "b4c9837f-b572-4463-c068-3f2aad1d259b"
   },
   "outputs": [
    {
     "data": {
      "text/plain": [
       "<tensorflow.python.training.tracking.util.CheckpointLoadStatus at 0x1f7b2242fa0>"
      ]
     },
     "execution_count": 34,
     "metadata": {},
     "output_type": "execute_result"
    }
   ],
   "source": [
    "model.load_weights('general')\n"
   ]
  },
  {
   "cell_type": "code",
   "execution_count": null,
   "metadata": {
    "id": "dNLYgR0sfgES",
    "outputId": "71a8c6d8-1153-4d6e-ccc0-2484183ee951"
   },
   "outputs": [
    {
     "name": "stdout",
     "output_type": "stream",
     "text": [
      "WARNING:tensorflow:Unresolved object in checkpoint: (root).optimizer.iter\n",
      "WARNING:tensorflow:Unresolved object in checkpoint: (root).optimizer.beta_1\n",
      "WARNING:tensorflow:Unresolved object in checkpoint: (root).optimizer.beta_2\n",
      "WARNING:tensorflow:Unresolved object in checkpoint: (root).optimizer.decay\n",
      "WARNING:tensorflow:Unresolved object in checkpoint: (root).optimizer.learning_rate\n",
      "WARNING:tensorflow:Unresolved object in checkpoint: (root).one_step_decoder.Embedding_layer.embeddings\n",
      "WARNING:tensorflow:Unresolved object in checkpoint: (root).one_step_decoder.Dense_layer.kernel\n",
      "WARNING:tensorflow:Unresolved object in checkpoint: (root).one_step_decoder.Dense_layer.bias\n",
      "WARNING:tensorflow:Unresolved object in checkpoint: (root).encoder.enc_lstm.cell.kernel\n",
      "WARNING:tensorflow:Unresolved object in checkpoint: (root).encoder.enc_lstm.cell.recurrent_kernel\n",
      "WARNING:tensorflow:Unresolved object in checkpoint: (root).encoder.enc_lstm.cell.bias\n",
      "WARNING:tensorflow:Unresolved object in checkpoint: (root).one_step_decoder.LSTM_layer.cell.kernel\n",
      "WARNING:tensorflow:Unresolved object in checkpoint: (root).one_step_decoder.LSTM_layer.cell.recurrent_kernel\n",
      "WARNING:tensorflow:Unresolved object in checkpoint: (root).one_step_decoder.LSTM_layer.cell.bias\n",
      "WARNING:tensorflow:Unresolved object in checkpoint: (root).one_step_decoder.Attention_layer.W.kernel\n",
      "WARNING:tensorflow:Unresolved object in checkpoint: (root).one_step_decoder.Attention_layer.W.bias\n",
      "WARNING:tensorflow:Unresolved object in checkpoint: (root).optimizer's state 'm' for (root).encoder.enc_embed.embeddings\n",
      "WARNING:tensorflow:Unresolved object in checkpoint: (root).optimizer's state 'm' for (root).one_step_decoder.Embedding_layer.embeddings\n",
      "WARNING:tensorflow:Unresolved object in checkpoint: (root).optimizer's state 'm' for (root).one_step_decoder.Dense_layer.kernel\n",
      "WARNING:tensorflow:Unresolved object in checkpoint: (root).optimizer's state 'm' for (root).one_step_decoder.Dense_layer.bias\n",
      "WARNING:tensorflow:Unresolved object in checkpoint: (root).optimizer's state 'm' for (root).encoder.enc_lstm.cell.kernel\n",
      "WARNING:tensorflow:Unresolved object in checkpoint: (root).optimizer's state 'm' for (root).encoder.enc_lstm.cell.recurrent_kernel\n",
      "WARNING:tensorflow:Unresolved object in checkpoint: (root).optimizer's state 'm' for (root).encoder.enc_lstm.cell.bias\n",
      "WARNING:tensorflow:Unresolved object in checkpoint: (root).optimizer's state 'm' for (root).one_step_decoder.LSTM_layer.cell.kernel\n",
      "WARNING:tensorflow:Unresolved object in checkpoint: (root).optimizer's state 'm' for (root).one_step_decoder.LSTM_layer.cell.recurrent_kernel\n",
      "WARNING:tensorflow:Unresolved object in checkpoint: (root).optimizer's state 'm' for (root).one_step_decoder.LSTM_layer.cell.bias\n",
      "WARNING:tensorflow:Unresolved object in checkpoint: (root).optimizer's state 'm' for (root).one_step_decoder.Attention_layer.W.kernel\n",
      "WARNING:tensorflow:Unresolved object in checkpoint: (root).optimizer's state 'm' for (root).one_step_decoder.Attention_layer.W.bias\n",
      "WARNING:tensorflow:Unresolved object in checkpoint: (root).optimizer's state 'v' for (root).encoder.enc_embed.embeddings\n",
      "WARNING:tensorflow:Unresolved object in checkpoint: (root).optimizer's state 'v' for (root).one_step_decoder.Embedding_layer.embeddings\n",
      "WARNING:tensorflow:Unresolved object in checkpoint: (root).optimizer's state 'v' for (root).one_step_decoder.Dense_layer.kernel\n",
      "WARNING:tensorflow:Unresolved object in checkpoint: (root).optimizer's state 'v' for (root).one_step_decoder.Dense_layer.bias\n",
      "WARNING:tensorflow:Unresolved object in checkpoint: (root).optimizer's state 'v' for (root).encoder.enc_lstm.cell.kernel\n",
      "WARNING:tensorflow:Unresolved object in checkpoint: (root).optimizer's state 'v' for (root).encoder.enc_lstm.cell.recurrent_kernel\n",
      "WARNING:tensorflow:Unresolved object in checkpoint: (root).optimizer's state 'v' for (root).encoder.enc_lstm.cell.bias\n",
      "WARNING:tensorflow:Unresolved object in checkpoint: (root).optimizer's state 'v' for (root).one_step_decoder.LSTM_layer.cell.kernel\n",
      "WARNING:tensorflow:Unresolved object in checkpoint: (root).optimizer's state 'v' for (root).one_step_decoder.LSTM_layer.cell.recurrent_kernel\n",
      "WARNING:tensorflow:Unresolved object in checkpoint: (root).optimizer's state 'v' for (root).one_step_decoder.LSTM_layer.cell.bias\n",
      "WARNING:tensorflow:Unresolved object in checkpoint: (root).optimizer's state 'v' for (root).one_step_decoder.Attention_layer.W.kernel\n",
      "WARNING:tensorflow:Unresolved object in checkpoint: (root).optimizer's state 'v' for (root).one_step_decoder.Attention_layer.W.bias\n",
      "WARNING:tensorflow:A checkpoint was restored (e.g. tf.train.Checkpoint.restore or tf.keras.Model.load_weights) but not all checkpointed values were used. See above for specific issues. Use expect_partial() on the load status object, e.g. tf.train.Checkpoint.restore(...).expect_partial(), to silence these warnings, or use assert_consumed() to make the check explicit. See https://www.tensorflow.org/guide/checkpoint#loading_mechanics for details.\n",
      "400/400 [==============================] - 43s 56ms/step - loss: 0.9184\n"
     ]
    },
    {
     "data": {
      "text/plain": [
       "0.9128780961036682"
      ]
     },
     "execution_count": 35,
     "metadata": {},
     "output_type": "execute_result"
    }
   ],
   "source": [
    "test_steps = 400 #test_dataloader.__len__()\n",
    "model.evaluate(test_dataloader,steps=test_steps)"
   ]
  },
  {
   "cell_type": "markdown",
   "metadata": {
    "id": "gwcVUp7BfgES"
   },
   "source": [
    "### Prediction"
   ]
  },
  {
   "cell_type": "code",
   "execution_count": null,
   "metadata": {
    "id": "jycQy9KqfgET"
   },
   "outputs": [],
   "source": [
    "class pred_Encoder_decoder(tf.keras.Model): \n",
    "    def __init__(self, inp_vocab_size, out_vocab_size, embedding_dim, enc_units, dec_units, max_ita, max_eng, score_fun, att_units):\n",
    "        #Intialize objects from encoder decoder\n",
    "        super(pred_Encoder_decoder, self).__init__()\n",
    "        self.encoder = Encoder(inp_vocab_size, embedding_dim, enc_units, max_ita)\n",
    "        self.one_step_decoder = One_Step_Decoder(out_vocab_size, embedding_dim, max_eng, dec_units ,score_fun ,att_units)\n",
    "        self.batch_size = batch_size\n",
    "    def call(self, params):\n",
    "        enc_inp = params[0]\n",
    "        initial_state = self.encoder.initialize_states(1)\n",
    "        output_state, enc_h, enc_c = self.encoder(enc_inp, initial_state)\n",
    "        pred = tf.expand_dims([tokenizer_dec.word_index['<sos>']], 0)\n",
    "        dec_h = enc_h\n",
    "        dec_c = enc_c\n",
    "        all_pred = []\n",
    "        all_attention = []\n",
    "        for t in range(50):  \n",
    "            pred, dec_h,dec_c, attention, _ = self.one_step_decoder(pred, output_state, dec_h, dec_c)\n",
    "            pred = tf.argmax(pred, axis = -1)\n",
    "            all_pred.append(pred)\n",
    "            pred = tf.expand_dims(pred, 0)\n",
    "            all_attention.append(attention)\n",
    "        return all_pred, all_attention"
   ]
  },
  {
   "cell_type": "code",
   "execution_count": null,
   "metadata": {
    "id": "QS_yXDFpfgET"
   },
   "outputs": [],
   "source": [
    "pred_model = pred_Encoder_decoder(vocab_size_enc, \n",
    "                                  vocab_size_dec, \n",
    "                                  embedding_dim, \n",
    "                                  lstm_size,\n",
    "                                  lstm_size,\n",
    "                                  max_enc, \n",
    "                                  max_dec, \n",
    "                                  'general',\n",
    "                                  att_units)\n"
   ]
  },
  {
   "cell_type": "code",
   "execution_count": null,
   "metadata": {
    "id": "nRhvKBBvfgET"
   },
   "outputs": [],
   "source": [
    "pred_model.compile(optimizer = 'Adam', loss = custom_lossfunction)"
   ]
  },
  {
   "cell_type": "code",
   "execution_count": null,
   "metadata": {
    "id": "3kkdcLO4fgET",
    "outputId": "c08ef497-0611-4399-ff69-13c1f3be0d13"
   },
   "outputs": [
    {
     "data": {
      "text/plain": [
       "<tensorflow.python.training.tracking.util.CheckpointLoadStatus at 0x2a4a6c34130>"
      ]
     },
     "execution_count": 32,
     "metadata": {},
     "output_type": "execute_result"
    }
   ],
   "source": [
    "#Load the previously trained model\n",
    "pred_model.load_weights('general')"
   ]
  },
  {
   "cell_type": "code",
   "execution_count": null,
   "metadata": {
    "id": "fZAmTFwkfgET"
   },
   "outputs": [],
   "source": [
    "def predict(input_sequence):\n",
    "    '''\n",
    "    A. Given input sentence, convert the sentence into integers using tokenizer used earlier\n",
    "    B. Pass the input_sequence to encoder. we get encoder_outputs, last time step hidden and cell state\n",
    "    C. Initialize index of <start> as input to decoder. and encoder final states as input_states to onestepdecoder.\n",
    "    D. till we reach max_length of decoder or till the model predicted word <end>:\n",
    "         predictions, input_states, attention_weights = model.layers[1].onestepdecoder(input_to_decoder, encoder_output, input_states)\n",
    "         Save the attention weights\n",
    "         And get the word using the tokenizer(word index) and then store it in a string.\n",
    "    E. Call plot_attention(#params)\n",
    "    F. Return the predicted sentence\n",
    "    '''\n",
    "    \n",
    "    seq = input_sequence\n",
    "    seq = '<sos> '+seq+' <eos>'\n",
    "    seq = tokenizer_enc.texts_to_sequences([seq])\n",
    "    seq = pad_sequences(seq, maxlen=max_enc, padding='post', dtype = np.int32)\n",
    "    pred, attention_weights = pred_model.predict(tf.expand_dims(seq, 0))\n",
    "    output = []\n",
    "    for i in pred:\n",
    "        word = tokenizer_dec.index_word[i[0]]\n",
    "        if word == '<eos>':\n",
    "            break\n",
    "        output.append(word)\n",
    "    return ' '.join(output)  #, np.squeeze(np.squeeze(np.array(attention_weights), 1), -1)"
   ]
  },
  {
   "cell_type": "code",
   "execution_count": null,
   "metadata": {
    "id": "W_YgocTIfgET",
    "outputId": "d966aa5c-d562-47ac-d6db-b666956a12ec"
   },
   "outputs": [
    {
     "name": "stdout",
     "output_type": "stream",
     "text": [
      "input :  Your support of\n",
      "predicted output :  the following agreement\n"
     ]
    }
   ],
   "source": [
    "sentence = 'Your support of'\n",
    "print('input : ', sentence)\n",
    "\n",
    "result = predict(sentence)\n",
    "\n",
    "print('predicted output : ',result)\n"
   ]
  },
  {
   "cell_type": "code",
   "execution_count": null,
   "metadata": {
    "id": "q54zcHb0fgEU",
    "outputId": "4d4b9e09-6861-45d6-c5a4-5ff6f242d108"
   },
   "outputs": [
    {
     "name": "stdout",
     "output_type": "stream",
     "text": [
      "input :  I also am including a draft of \n",
      "predicted output :  the following i will be able to be able to be able to be in the same\n"
     ]
    }
   ],
   "source": [
    "sentence = 'I also am including a draft of '\n",
    "print('input : ', sentence)\n",
    "\n",
    "result = predict(sentence)\n",
    "print('predicted output : ',result)\n"
   ]
  },
  {
   "cell_type": "markdown",
   "metadata": {
    "id": "YYYF6t1rfgEU"
   },
   "source": [
    "### Bleu score"
   ]
  },
  {
   "cell_type": "code",
   "execution_count": null,
   "metadata": {
    "id": "hQBk1vCKfgEU"
   },
   "outputs": [],
   "source": [
    "def BLEUScore():\n",
    "    BLEUscore_list = []\n",
    "    \n",
    "    for x in  test['body_enc_seq'].sample(10000):\n",
    "        reference = x.split()\n",
    "        hypothesis = predict(x)\n",
    "        BLEUscore = nltk.translate.bleu_score.sentence_bleu([reference], hypothesis.split())\n",
    "        BLEUscore_list.append(BLEUscore)\n",
    "        \n",
    "    return sum(BLEUscore_list)/len(BLEUscore_list)\n"
   ]
  },
  {
   "cell_type": "code",
   "execution_count": null,
   "metadata": {
    "id": "dLgI8F23fgEU",
    "outputId": "3291fc50-965b-4c5d-dfe9-03fbda81b1e1"
   },
   "outputs": [
    {
     "name": "stdout",
     "output_type": "stream",
     "text": [
      "0.040189947624632516\n"
     ]
    }
   ],
   "source": [
    "bleuscore_lstm =BLEUScore()\n",
    "\n",
    "print(bleuscore_lstm)"
   ]
  },
  {
   "cell_type": "markdown",
   "metadata": {
    "id": "I_FCLlR1fgEU"
   },
   "source": [
    "# 2.3 Attention with Concat score function"
   ]
  },
  {
   "cell_type": "code",
   "execution_count": null,
   "metadata": {
    "id": "-KX_-FTFfgEU"
   },
   "outputs": [],
   "source": [
    "#Compile and train your model on general scoring function.\n",
    "# Visualize few sentences randomly in Test data\n",
    "# Predict on 1000 random sentences on test data and calculate the average BLEU score of these sentences.\n",
    "# https://www.nltk.org/_modules/nltk/translate/bleu_score.html\n",
    "\n",
    "\n",
    "batch_size=32\n",
    "lstm_size=128\n",
    "max_dec = 50\n",
    "max_enc = 29\n",
    "embedding_dim = 100\n",
    "dense_units = 256\n",
    "att_units = 256\n",
    "latent_dim=192\n"
   ]
  },
  {
   "cell_type": "code",
   "execution_count": null,
   "metadata": {
    "id": "fOKJ8BhYfgEU"
   },
   "outputs": [],
   "source": [
    "train_dataset = Dataset(train, tokenizer_enc, tokenizer_dec, max_enc, max_dec)\n",
    "test_dataset  = Dataset(test, tokenizer_enc, tokenizer_dec, max_enc, max_dec)\n",
    "val_dataset  = Dataset(val, tokenizer_enc, tokenizer_dec, max_enc, max_dec)\n",
    "\n",
    "train_dataloader = Dataloder(train_dataset, batch_size=batch_size)\n",
    "test_dataloader = Dataloder(test_dataset, batch_size=batch_size)\n",
    "val_dataloader = Dataloder(val_dataset, batch_size = batch_size)"
   ]
  },
  {
   "cell_type": "code",
   "execution_count": null,
   "metadata": {
    "id": "yE-0vxa5fgEV"
   },
   "outputs": [],
   "source": [
    "model = encoder_decoder(vocab_size_enc, \n",
    "                        vocab_size_dec, \n",
    "                        embedding_dim, \n",
    "                        lstm_size,\n",
    "                        lstm_size,\n",
    "                        max_enc, \n",
    "                        max_dec,\n",
    "                        'concat', \n",
    "                        att_units, \n",
    "                        batch_size)"
   ]
  },
  {
   "cell_type": "code",
   "execution_count": null,
   "metadata": {
    "id": "E4T9QuDYfgEV"
   },
   "outputs": [],
   "source": [
    "model.compile(optimizer = 'Adam', loss = custom_lossfunction)"
   ]
  },
  {
   "cell_type": "code",
   "execution_count": null,
   "metadata": {
    "id": "KeTs1sxKfgEV"
   },
   "outputs": [],
   "source": [
    "import datetime\n",
    "\n",
    "log_dir=\"logs/fit/concat/\" + datetime.datetime.now().strftime(\"%Y%m%d-%H%M%S\")\n",
    "\n",
    "#A callback is a function passed as an argument to another function. This technique allows a function to call another function.\n",
    "callbacks = [ModelCheckpoint('concat', save_best_only= True, verbose = 1),\n",
    "             TensorBoard(log_dir = log_dir, histogram_freq=1, write_graph=True),\n",
    "             EarlyStopping(monitor='val_loss', patience = 5, verbose = 1),\n",
    "             ReduceLROnPlateau(monitor='val_loss', patience = 2, verbose = 1)]"
   ]
  },
  {
   "cell_type": "code",
   "execution_count": null,
   "metadata": {
    "id": "zlMq3B_9fgEV"
   },
   "outputs": [],
   "source": [
    "clear_session()"
   ]
  },
  {
   "cell_type": "code",
   "execution_count": null,
   "metadata": {
    "id": "x0T8-o-ffgEV"
   },
   "outputs": [],
   "source": [
    "physical_devices = tf.config.list_physical_devices('GPU')\n",
    "tf.config.experimental.set_memory_growth(physical_devices[0], enable=True)"
   ]
  },
  {
   "cell_type": "code",
   "execution_count": null,
   "metadata": {
    "id": "3Wz8t6tbfgEV",
    "outputId": "edf6b9c4-29bf-43f5-9aa7-bfde72b72d08"
   },
   "outputs": [
    {
     "name": "stdout",
     "output_type": "stream",
     "text": [
      "Epoch 1/50\n",
      "1000/1000 [==============================] - 558s 511ms/step - loss: 1.3998 - val_loss: 1.2596\n",
      "\n",
      "Epoch 00001: val_loss improved from inf to 1.25955, saving model to concat\n",
      "Epoch 2/50\n",
      "1000/1000 [==============================] - 403s 403ms/step - loss: 1.2092 - val_loss: 1.1778\n",
      "\n",
      "Epoch 00002: val_loss improved from 1.25955 to 1.17777, saving model to concat\n",
      "Epoch 3/50\n",
      "1000/1000 [==============================] - 402s 402ms/step - loss: 1.1380 - val_loss: 1.1180\n",
      "\n",
      "Epoch 00003: val_loss improved from 1.17777 to 1.11803, saving model to concat\n",
      "Epoch 4/50\n",
      "1000/1000 [==============================] - 410s 410ms/step - loss: 1.0674 - val_loss: 1.0661\n",
      "\n",
      "Epoch 00004: val_loss improved from 1.11803 to 1.06612, saving model to concat\n",
      "Epoch 5/50\n",
      "1000/1000 [==============================] - 472s 472ms/step - loss: 1.0158 - val_loss: 1.0233\n",
      "\n",
      "Epoch 00005: val_loss improved from 1.06612 to 1.02334, saving model to concat\n",
      "Epoch 6/50\n",
      "1000/1000 [==============================] - 480s 480ms/step - loss: 0.9654 - val_loss: 0.9878\n",
      "\n",
      "Epoch 00006: val_loss improved from 1.02334 to 0.98784, saving model to concat\n",
      "Epoch 7/50\n",
      "1000/1000 [==============================] - 454s 454ms/step - loss: 0.9414 - val_loss: 0.9547\n",
      "\n",
      "Epoch 00007: val_loss improved from 0.98784 to 0.95471, saving model to concat\n",
      "Epoch 8/50\n",
      "1000/1000 [==============================] - 454s 454ms/step - loss: 0.8933 - val_loss: 0.9234\n",
      "\n",
      "Epoch 00008: val_loss improved from 0.95471 to 0.92343, saving model to concat\n",
      "Epoch 9/50\n",
      "1000/1000 [==============================] - 461s 461ms/step - loss: 0.8615 - val_loss: 0.8967\n",
      "\n",
      "Epoch 00009: val_loss improved from 0.92343 to 0.89672, saving model to concat\n",
      "Epoch 10/50\n",
      "1000/1000 [==============================] - 465s 465ms/step - loss: 0.8360 - val_loss: 0.8715\n",
      "\n",
      "Epoch 00010: val_loss improved from 0.89672 to 0.87152, saving model to concat\n",
      "Epoch 11/50\n",
      "1000/1000 [==============================] - 437s 437ms/step - loss: 0.8190 - val_loss: 0.8481\n",
      "\n",
      "Epoch 00011: val_loss improved from 0.87152 to 0.84807, saving model to concat\n",
      "Epoch 12/50\n",
      "1000/1000 [==============================] - 469s 469ms/step - loss: 0.7827 - val_loss: 0.8251\n",
      "\n",
      "Epoch 00012: val_loss improved from 0.84807 to 0.82509, saving model to concat\n",
      "Epoch 13/50\n",
      "1000/1000 [==============================] - 473s 473ms/step - loss: 0.7623 - val_loss: 0.8031\n",
      "\n",
      "Epoch 00013: val_loss improved from 0.82509 to 0.80315, saving model to concat\n",
      "Epoch 14/50\n",
      "1000/1000 [==============================] - 466s 466ms/step - loss: 0.7350 - val_loss: 0.7822\n",
      "\n",
      "Epoch 00014: val_loss improved from 0.80315 to 0.78220, saving model to concat\n",
      "Epoch 15/50\n",
      "1000/1000 [==============================] - 468s 468ms/step - loss: 0.7260 - val_loss: 0.7638\n",
      "\n",
      "Epoch 00015: val_loss improved from 0.78220 to 0.76383, saving model to concat\n",
      "Epoch 16/50\n",
      "1000/1000 [==============================] - 463s 463ms/step - loss: 0.7009 - val_loss: 0.7449\n",
      "\n",
      "Epoch 00016: val_loss improved from 0.76383 to 0.74485, saving model to concat\n",
      "Epoch 17/50\n",
      "1000/1000 [==============================] - 458s 458ms/step - loss: 0.6826 - val_loss: 0.7269\n",
      "\n",
      "Epoch 00017: val_loss improved from 0.74485 to 0.72691, saving model to concat\n",
      "Epoch 18/50\n",
      "1000/1000 [==============================] - 478s 478ms/step - loss: 0.6684 - val_loss: 0.7111\n",
      "\n",
      "Epoch 00018: val_loss improved from 0.72691 to 0.71112, saving model to concat\n",
      "Epoch 19/50\n",
      "1000/1000 [==============================] - 464s 464ms/step - loss: 0.6372 - val_loss: 0.6959\n",
      "\n",
      "Epoch 00019: val_loss improved from 0.71112 to 0.69595, saving model to concat\n",
      "Epoch 20/50\n",
      "1000/1000 [==============================] - 481s 481ms/step - loss: 0.6208 - val_loss: 0.6816\n",
      "\n",
      "Epoch 00020: val_loss improved from 0.69595 to 0.68159, saving model to concat\n",
      "Epoch 21/50\n",
      "1000/1000 [==============================] - 486s 486ms/step - loss: 0.6052 - val_loss: 0.6671\n",
      "\n",
      "Epoch 00021: val_loss improved from 0.68159 to 0.66710, saving model to concat\n",
      "Epoch 22/50\n",
      "1000/1000 [==============================] - 472s 472ms/step - loss: 0.5914 - val_loss: 0.6549\n",
      "\n",
      "Epoch 00022: val_loss improved from 0.66710 to 0.65487, saving model to concat\n",
      "Epoch 23/50\n",
      "1000/1000 [==============================] - 472s 472ms/step - loss: 0.5769 - val_loss: 0.6415\n",
      "\n",
      "Epoch 00023: val_loss improved from 0.65487 to 0.64154, saving model to concat\n",
      "Epoch 24/50\n",
      "1000/1000 [==============================] - 480s 480ms/step - loss: 0.5678 - val_loss: 0.6299\n",
      "\n",
      "Epoch 00024: val_loss improved from 0.64154 to 0.62986, saving model to concat\n",
      "Epoch 25/50\n",
      "1000/1000 [==============================] - 476s 476ms/step - loss: 0.5509 - val_loss: 0.6185\n",
      "\n",
      "Epoch 00025: val_loss improved from 0.62986 to 0.61845, saving model to concat\n",
      "Epoch 26/50\n",
      "1000/1000 [==============================] - 478s 478ms/step - loss: 0.5426 - val_loss: 0.6061\n",
      "\n",
      "Epoch 00026: val_loss improved from 0.61845 to 0.60608, saving model to concat\n",
      "Epoch 27/50\n",
      "1000/1000 [==============================] - 486s 486ms/step - loss: 0.5260 - val_loss: 0.5948\n",
      "\n",
      "Epoch 00027: val_loss improved from 0.60608 to 0.59478, saving model to concat\n",
      "Epoch 28/50\n",
      "1000/1000 [==============================] - 467s 467ms/step - loss: 0.5157 - val_loss: 0.5845\n",
      "\n",
      "Epoch 00028: val_loss improved from 0.59478 to 0.58454, saving model to concat\n",
      "Epoch 29/50\n",
      "1000/1000 [==============================] - 444s 444ms/step - loss: 0.5041 - val_loss: 0.5760\n",
      "\n",
      "Epoch 00029: val_loss improved from 0.58454 to 0.57602, saving model to concat\n",
      "Epoch 30/50\n",
      "1000/1000 [==============================] - 487s 487ms/step - loss: 0.4876 - val_loss: 0.5670\n",
      "\n",
      "Epoch 00030: val_loss improved from 0.57602 to 0.56696, saving model to concat\n",
      "Epoch 31/50\n",
      "1000/1000 [==============================] - 2749s 3s/step - loss: 0.4801 - val_loss: 0.5577\n",
      "\n",
      "Epoch 00031: val_loss improved from 0.56696 to 0.55772, saving model to concat\n",
      "Epoch 32/50\n",
      "1000/1000 [==============================] - 1676s 2s/step - loss: 0.4703 - val_loss: 0.5491\n",
      "\n",
      "Epoch 00032: val_loss improved from 0.55772 to 0.54912, saving model to concat\n",
      "Epoch 33/50\n",
      "1000/1000 [==============================] - 1313s 1s/step - loss: 0.4619 - val_loss: 0.5410\n",
      "\n",
      "Epoch 00033: val_loss improved from 0.54912 to 0.54099, saving model to concat\n",
      "Epoch 34/50\n",
      "1000/1000 [==============================] - 1129s 1s/step - loss: 0.4505 - val_loss: 0.5323\n",
      "\n",
      "Epoch 00034: val_loss improved from 0.54099 to 0.53231, saving model to concat\n",
      "Epoch 35/50\n",
      "1000/1000 [==============================] - 1278s 1s/step - loss: 0.4427 - val_loss: 0.5250\n",
      "\n",
      "Epoch 00035: val_loss improved from 0.53231 to 0.52502, saving model to concat\n",
      "Epoch 36/50\n",
      "1000/1000 [==============================] - 467s 467ms/step - loss: 0.4298 - val_loss: 0.5181\n",
      "\n",
      "Epoch 00036: val_loss improved from 0.52502 to 0.51808, saving model to concat\n",
      "Epoch 37/50\n",
      "1000/1000 [==============================] - 465s 465ms/step - loss: 0.4236 - val_loss: 0.5103\n",
      "\n",
      "Epoch 00037: val_loss improved from 0.51808 to 0.51031, saving model to concat\n",
      "Epoch 38/50\n",
      "1000/1000 [==============================] - 458s 458ms/step - loss: 0.4171 - val_loss: 0.5048\n",
      "\n",
      "Epoch 00038: val_loss improved from 0.51031 to 0.50478, saving model to concat\n",
      "Epoch 39/50\n",
      "1000/1000 [==============================] - 449s 449ms/step - loss: 0.4057 - val_loss: 0.4988\n",
      "\n",
      "Epoch 00039: val_loss improved from 0.50478 to 0.49883, saving model to concat\n",
      "Epoch 40/50\n",
      "1000/1000 [==============================] - 454s 454ms/step - loss: 0.4063 - val_loss: 0.4930\n",
      "\n",
      "Epoch 00040: val_loss improved from 0.49883 to 0.49303, saving model to concat\n",
      "Epoch 41/50\n",
      "1000/1000 [==============================] - 457s 457ms/step - loss: 0.3881 - val_loss: 0.4849\n",
      "\n",
      "Epoch 00041: val_loss improved from 0.49303 to 0.48492, saving model to concat\n",
      "Epoch 42/50\n",
      "1000/1000 [==============================] - 454s 454ms/step - loss: 0.3832 - val_loss: 0.4795\n",
      "\n",
      "Epoch 00042: val_loss improved from 0.48492 to 0.47947, saving model to concat\n",
      "Epoch 43/50\n",
      "1000/1000 [==============================] - 461s 461ms/step - loss: 0.3837 - val_loss: 0.4742\n",
      "\n",
      "Epoch 00043: val_loss improved from 0.47947 to 0.47423, saving model to concat\n",
      "Epoch 44/50\n",
      "1000/1000 [==============================] - 463s 463ms/step - loss: 0.3731 - val_loss: 0.4675\n",
      "\n",
      "Epoch 00044: val_loss improved from 0.47423 to 0.46751, saving model to concat\n"
     ]
    },
    {
     "name": "stdout",
     "output_type": "stream",
     "text": [
      "Epoch 45/50\n",
      "1000/1000 [==============================] - 467s 467ms/step - loss: 0.3663 - val_loss: 0.4638\n",
      "\n",
      "Epoch 00045: val_loss improved from 0.46751 to 0.46377, saving model to concat\n",
      "Epoch 46/50\n",
      "1000/1000 [==============================] - 469s 469ms/step - loss: 0.3616 - val_loss: 0.4589\n",
      "\n",
      "Epoch 00046: val_loss improved from 0.46377 to 0.45892, saving model to concat\n",
      "Epoch 47/50\n",
      "1000/1000 [==============================] - 468s 468ms/step - loss: 0.3563 - val_loss: 0.4543\n",
      "\n",
      "Epoch 00047: val_loss improved from 0.45892 to 0.45429, saving model to concat\n",
      "Epoch 48/50\n",
      "1000/1000 [==============================] - 470s 470ms/step - loss: 0.3542 - val_loss: 0.4489\n",
      "\n",
      "Epoch 00048: val_loss improved from 0.45429 to 0.44890, saving model to concat\n",
      "Epoch 49/50\n",
      "1000/1000 [==============================] - 468s 468ms/step - loss: 0.3490 - val_loss: 0.4448\n",
      "\n",
      "Epoch 00049: val_loss improved from 0.44890 to 0.44485, saving model to concat\n",
      "Epoch 50/50\n",
      "1000/1000 [==============================] - 468s 468ms/step - loss: 0.3334 - val_loss: 0.4417\n",
      "\n",
      "Epoch 00050: val_loss improved from 0.44485 to 0.44172, saving model to concat\n"
     ]
    },
    {
     "data": {
      "text/plain": [
       "<tensorflow.python.keras.callbacks.History at 0x26b9e389d30>"
      ]
     },
     "execution_count": 26,
     "metadata": {},
     "output_type": "execute_result"
    }
   ],
   "source": [
    "#Model training\n",
    "model.fit(x = train_dataloader, \n",
    "          steps_per_epoch = 1000, #train_dataloader.__len__(),\n",
    "          validation_data = val_dataloader,\n",
    "          validation_steps = 100, #val_dataloader.__len__(),\n",
    "          epochs = 50,\n",
    "          verbose = 1,\n",
    "          callbacks = callbacks)"
   ]
  },
  {
   "cell_type": "code",
   "execution_count": null,
   "metadata": {
    "id": "UXqe-iqMfgEV",
    "outputId": "97f587c3-00b7-4a39-e834-636966b3290b",
    "scrolled": true
   },
   "outputs": [
    {
     "data": {
      "text/plain": [
       "Reusing TensorBoard on port 6006 (pid 11236), started 0:00:50 ago. (Use '!kill 11236' to kill it.)"
      ]
     },
     "metadata": {},
     "output_type": "display_data"
    },
    {
     "data": {
      "text/html": [
       "\n",
       "      <iframe id=\"tensorboard-frame-edad658c88aee1cb\" width=\"100%\" height=\"800\" frameborder=\"0\">\n",
       "      </iframe>\n",
       "      <script>\n",
       "        (function() {\n",
       "          const frame = document.getElementById(\"tensorboard-frame-edad658c88aee1cb\");\n",
       "          const url = new URL(\"/\", window.location);\n",
       "          const port = 6006;\n",
       "          if (port) {\n",
       "            url.port = port;\n",
       "          }\n",
       "          frame.src = url;\n",
       "        })();\n",
       "      </script>\n",
       "    "
      ],
      "text/plain": [
       "<IPython.core.display.HTML object>"
      ]
     },
     "metadata": {},
     "output_type": "display_data"
    }
   ],
   "source": [
    "%reload_ext tensorboard\n",
    "%tensorboard --logdir logs/fit/concat/20220809-010708/"
   ]
  },
  {
   "cell_type": "code",
   "execution_count": null,
   "metadata": {
    "id": "5j0mHKqyfgEV",
    "outputId": "2eb9d654-cb55-41e9-de0a-2ab1e9626a6c"
   },
   "outputs": [
    {
     "name": "stdout",
     "output_type": "stream",
     "text": [
      "400/400 [==============================] - 44s 110ms/step - loss: 0.4230\n"
     ]
    },
    {
     "data": {
      "text/plain": [
       "0.42302584648132324"
      ]
     },
     "execution_count": 30,
     "metadata": {},
     "output_type": "execute_result"
    }
   ],
   "source": [
    "test_steps = 400 #test_dataloader.__len__()\n",
    "model.evaluate(test_dataloader,steps=test_steps)"
   ]
  },
  {
   "cell_type": "markdown",
   "metadata": {
    "id": "LHMKlGhPfgEW"
   },
   "source": [
    "### Prediction"
   ]
  },
  {
   "cell_type": "code",
   "execution_count": null,
   "metadata": {
    "id": "aVWp_nLbfgEW"
   },
   "outputs": [],
   "source": [
    "class pred_Encoder_decoder(tf.keras.Model): \n",
    "    def __init__(self, inp_vocab_size, out_vocab_size, embedding_dim, enc_units, dec_units, max_ita, max_eng, score_fun, att_units):\n",
    "        #Intialize objects from encoder decoder\n",
    "        super(pred_Encoder_decoder, self).__init__()\n",
    "        self.encoder = Encoder(inp_vocab_size, embedding_dim, enc_units, max_ita)\n",
    "        self.one_step_decoder = One_Step_Decoder(out_vocab_size, embedding_dim, max_eng, dec_units ,score_fun ,att_units)\n",
    "        self.batch_size = batch_size\n",
    "    def call(self, params):\n",
    "        enc_inp = params[0]\n",
    "        initial_state = self.encoder.initialize_states(1)\n",
    "        output_state, enc_h, enc_c = self.encoder(enc_inp, initial_state)\n",
    "        pred = tf.expand_dims([tokenizer_dec.word_index['<sos>']], 0)\n",
    "        dec_h = enc_h\n",
    "        dec_c = enc_c\n",
    "        all_pred = []\n",
    "        all_attention = []\n",
    "        for t in range(50):  \n",
    "            pred, dec_h,dec_c, attention, _ = self.one_step_decoder(pred, output_state, dec_h, dec_c)\n",
    "            pred = tf.argmax(pred, axis = -1)\n",
    "            all_pred.append(pred)\n",
    "            pred = tf.expand_dims(pred, 0)\n",
    "            all_attention.append(attention)\n",
    "        return all_pred, all_attention"
   ]
  },
  {
   "cell_type": "code",
   "execution_count": null,
   "metadata": {
    "id": "Xp4jOgpLfgEW"
   },
   "outputs": [],
   "source": [
    "pred_model = pred_Encoder_decoder(vocab_size_enc, \n",
    "                                  vocab_size_dec, \n",
    "                                  embedding_dim, \n",
    "                                  lstm_size,\n",
    "                                  lstm_size,\n",
    "                                  max_enc, \n",
    "                                  max_dec, \n",
    "                                  'concat',\n",
    "                                  att_units)\n"
   ]
  },
  {
   "cell_type": "code",
   "execution_count": null,
   "metadata": {
    "id": "GO1KNd_rfgEW"
   },
   "outputs": [],
   "source": [
    "pred_model.compile(optimizer = 'Adam', loss = custom_lossfunction)"
   ]
  },
  {
   "cell_type": "code",
   "execution_count": null,
   "metadata": {
    "id": "hi-ANkmefgEW",
    "outputId": "c08ef497-0611-4399-ff69-13c1f3be0d13"
   },
   "outputs": [
    {
     "data": {
      "text/plain": [
       "<tensorflow.python.training.tracking.util.CheckpointLoadStatus at 0x26d0fe983d0>"
      ]
     },
     "execution_count": 36,
     "metadata": {},
     "output_type": "execute_result"
    }
   ],
   "source": [
    "#Load the previously trained model\n",
    "pred_model.load_weights('concat')"
   ]
  },
  {
   "cell_type": "code",
   "execution_count": null,
   "metadata": {
    "id": "FKakn-q9fgEW"
   },
   "outputs": [],
   "source": [
    "def predict(input_sequence):\n",
    "    '''\n",
    "    A. Given input sentence, convert the sentence into integers using tokenizer used earlier\n",
    "    B. Pass the input_sequence to encoder. we get encoder_outputs, last time step hidden and cell state\n",
    "    C. Initialize index of <start> as input to decoder. and encoder final states as input_states to onestepdecoder.\n",
    "    D. till we reach max_length of decoder or till the model predicted word <end>:\n",
    "         predictions, input_states, attention_weights = model.layers[1].onestepdecoder(input_to_decoder, encoder_output, input_states)\n",
    "         Save the attention weights\n",
    "         And get the word using the tokenizer(word index) and then store it in a string.\n",
    "    E. Call plot_attention(#params)\n",
    "    F. Return the predicted sentence\n",
    "    '''\n",
    "    \n",
    "    seq = input_sequence\n",
    "    seq = '<sos> '+seq+' <eos>'\n",
    "    seq = tokenizer_enc.texts_to_sequences([seq])\n",
    "    seq = pad_sequences(seq, maxlen=max_enc, padding='post', dtype = np.int32)\n",
    "    pred, attention_weights = pred_model.predict(tf.expand_dims(seq, 0))\n",
    "    output = []\n",
    "    for i in pred:\n",
    "        word = tokenizer_dec.index_word[i[0]]\n",
    "        if word == '<eos>':\n",
    "            break\n",
    "        output.append(word)\n",
    "    return ' '.join(output)  #, np.squeeze(np.squeeze(np.array(attention_weights), 1), -1)"
   ]
  },
  {
   "cell_type": "code",
   "execution_count": null,
   "metadata": {
    "id": "ZTZUqPVWfgEX",
    "outputId": "d966aa5c-d562-47ac-d6db-b666956a12ec"
   },
   "outputs": [
    {
     "name": "stdout",
     "output_type": "stream",
     "text": [
      "input :  Your support of\n",
      "predicted output :  the end of hurricane season buyer\n"
     ]
    }
   ],
   "source": [
    "sentence = 'Your support of'\n",
    "print('input : ', sentence)\n",
    "\n",
    "result = predict(sentence)\n",
    "\n",
    "print('predicted output : ',result)\n"
   ]
  },
  {
   "cell_type": "code",
   "execution_count": null,
   "metadata": {
    "id": "qw21armifgEX",
    "outputId": "4d4b9e09-6861-45d6-c5a4-5ff6f242d108"
   },
   "outputs": [
    {
     "name": "stdout",
     "output_type": "stream",
     "text": [
      "input :  I also am including a draft of \n",
      "predicted output :  the new date of a letter of august th\n"
     ]
    }
   ],
   "source": [
    "sentence = 'I also am including a draft of '\n",
    "print('input : ', sentence)\n",
    "\n",
    "result = predict(sentence)\n",
    "print('predicted output : ',result)\n"
   ]
  },
  {
   "cell_type": "markdown",
   "metadata": {
    "id": "GP-75s9FfgEX"
   },
   "source": [
    "### Bleu score"
   ]
  },
  {
   "cell_type": "code",
   "execution_count": null,
   "metadata": {
    "id": "7FtShF_efgEX"
   },
   "outputs": [],
   "source": [
    "def BLEUScore():\n",
    "    BLEUscore_list = []\n",
    "    \n",
    "    for x in  test['body_enc_seq'].sample(10000):\n",
    "        reference = x.split()\n",
    "        hypothesis = predict(x)\n",
    "        BLEUscore = nltk.translate.bleu_score.sentence_bleu([reference], hypothesis.split())\n",
    "        BLEUscore_list.append(BLEUscore)\n",
    "        \n",
    "    return sum(BLEUscore_list)/len(BLEUscore_list)\n"
   ]
  },
  {
   "cell_type": "code",
   "execution_count": null,
   "metadata": {
    "id": "BE5F-DvufgEX",
    "outputId": "3291fc50-965b-4c5d-dfe9-03fbda81b1e1"
   },
   "outputs": [
    {
     "name": "stdout",
     "output_type": "stream",
     "text": [
      "0.5276267049723287\n"
     ]
    }
   ],
   "source": [
    "bleuscore_lstm =BLEUScore()\n",
    "\n",
    "print(bleuscore_lstm)"
   ]
  },
  {
   "cell_type": "code",
   "execution_count": null,
   "metadata": {
    "id": "gJgsfkI-fgEX"
   },
   "outputs": [],
   "source": []
  },
  {
   "cell_type": "markdown",
   "metadata": {
    "id": "EoZrs6ir5eGi"
   },
   "source": [
    "#  PrettyTable"
   ]
  },
  {
   "cell_type": "code",
   "execution_count": null,
   "metadata": {
    "id": "GN4Y3kEI5eGi",
    "outputId": "9bd99823-51ac-478f-cf9b-d599573bbbfb"
   },
   "outputs": [
    {
     "name": "stdout",
     "output_type": "stream",
     "text": [
      "+-------------------------------+------------+-----------------+-----------+------------+\n",
      "| Model Without Attention layer | Train loss | Validation loss | Test loss | Bleu Score |\n",
      "+-------------------------------+------------+-----------------+-----------+------------+\n",
      "|    LSTM with Adam Optimizer   |   0.1553   |      0.3549     |   0.3542  |    0.48    |\n",
      "|  LSTM with RMSProp Optimizer  |   0.5640   |      0.6775     |   0.6797  |    0.39    |\n",
      "+-------------------------------+------------+-----------------+-----------+------------+\n",
      " --------------------------------------------------------------------------------------------- \n",
      "+---------------------------------------+------------+-----------------+-----------+------------+\n",
      "|       Model With Attention layer      | Train loss | Validation loss | Test loss | Bleu Score |\n",
      "+---------------------------------------+------------+-----------------+-----------+------------+\n",
      "|   Attention with Dot score function   |   0.3583   |      0.4604     |   0.4366  |    0.49    |\n",
      "| Attention with General score function |   0.8885   |      0.9564     |   0.9184  |    0.04    |\n",
      "|  Attention with Concat score function |   0.3334   |      0.4417     |   0.4230  |    0.52    |\n",
      "+---------------------------------------+------------+-----------------+-----------+------------+\n"
     ]
    }
   ],
   "source": [
    "from prettytable import PrettyTable\n",
    "\n",
    "# Specify the Column Names while initializing the Table\n",
    "wo = PrettyTable([\"Model Without Attention layer\", \"Train loss\", \"Validation loss\", \"Test loss\", \"Bleu Score\"])\n",
    "# Add rows\n",
    "wo.add_row([\"LSTM with Adam Optimizer\", \"0.1553\", \"0.3549\", \"0.3542\", \"0.48\"])\n",
    "wo.add_row([\"LSTM with RMSProp Optimizer\", \"0.5640\", \"0.6775\", \"0.6797\",\"0.39\"])\n",
    "print(wo)\n",
    "\n",
    "print(\" --------------------------------------------------------------------------------------------- \")\n",
    "\n",
    "# Specify the Column Names while initializing the Table\n",
    "w = PrettyTable([\"Model With Attention layer\", \"Train loss\", \"Validation loss\", \"Test loss\", \"Bleu Score\"])\n",
    "# Add rows\n",
    "w.add_row([\"Attention with Dot score function\", \"0.3583\", \"0.4604\",\"0.4366\" ,\"0.49\"])\n",
    "w.add_row([\"Attention with General score function\", \"0.8885\", \"0.9564\", \"0.9184\",\"0.04\"])\n",
    "w.add_row([\"Attention with Concat score function\", \"0.3334\", \"0.4417\", \"0.4230\" ,\"0.52\"])\n",
    "print(w)\n",
    "\n",
    "\n"
   ]
  },
  {
   "cell_type": "markdown",
   "metadata": {
    "id": "6Ah5yUKQ5eGi"
   },
   "source": [
    "# Conclsion"
   ]
  },
  {
   "cell_type": "markdown",
   "metadata": {
    "id": "S2niaZj95eGi"
   },
   "source": [
    "1. We got better train and validation loss results when we used ADAM optimizer with the LSTM model. But for better perfection we can consider Attention with Concat score function model as better model.\n",
    "\n",
    "\n",
    "2. We have also calculated the Bleu score on the top of the randomly picked 10000 test data sample, Over there we also got the same result.\n",
    "\n",
    "\n",
    "3. In the final modelling part, we will use the Attention with Concat score function model."
   ]
  },
  {
   "cell_type": "code",
   "execution_count": null,
   "metadata": {
    "id": "ldsgkqEUfgEY"
   },
   "outputs": [],
   "source": []
  }
 ],
 "metadata": {
  "accelerator": "TPU",
  "colab": {
   "collapsed_sections": [
    "Wd8VStBI5eGb",
    "RASnO12t5eGb",
    "vCm_B_Iz5eGb",
    "rIOq1ZN75eGc",
    "EbH6-Omx5eGe",
    "70YWBdSI5eGf",
    "m_am_RDX5eGf",
    "WXTgKMSW5eGg",
    "b1Dut1aH5eGi",
    "EoZrs6ir5eGi",
    "6Ah5yUKQ5eGi"
   ],
   "name": "Model_v.2.ipynb",
   "provenance": []
  },
  "gpuClass": "standard",
  "kernelspec": {
   "display_name": "Python 3",
   "language": "python",
   "name": "python3"
  },
  "language_info": {
   "codemirror_mode": {
    "name": "ipython",
    "version": 3
   },
   "file_extension": ".py",
   "mimetype": "text/x-python",
   "name": "python",
   "nbconvert_exporter": "python",
   "pygments_lexer": "ipython3",
   "version": "3.8.5"
  }
 },
 "nbformat": 4,
 "nbformat_minor": 1
}
